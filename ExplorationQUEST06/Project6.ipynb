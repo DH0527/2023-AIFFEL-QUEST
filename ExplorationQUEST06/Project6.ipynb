{
 "cells": [
  {
   "cell_type": "markdown",
   "id": "b9861ac9",
   "metadata": {},
   "source": [
    "# Project 6 - 뉴스기사 요약하기"
   ]
  },
  {
   "cell_type": "code",
   "execution_count": 1,
   "id": "afb34c4c",
   "metadata": {},
   "outputs": [
    {
     "name": "stderr",
     "output_type": "stream",
     "text": [
      "[nltk_data] Downloading package stopwords to /aiffel/nltk_data...\n",
      "[nltk_data]   Unzipping corpora/stopwords.zip.\n"
     ]
    },
    {
     "data": {
      "text/plain": [
       "True"
      ]
     },
     "execution_count": 1,
     "metadata": {},
     "output_type": "execute_result"
    }
   ],
   "source": [
    "import nltk\n",
    "nltk.download('stopwords')"
   ]
  },
  {
   "cell_type": "code",
   "execution_count": 2,
   "id": "d2aac799",
   "metadata": {},
   "outputs": [],
   "source": [
    "import os\n",
    "import re\n",
    "\n",
    "import numpy as np\n",
    "import pandas as pd\n",
    "import matplotlib.pyplot as plt\n",
    "\n",
    "from nltk.corpus import stopwords\n",
    "from bs4 import BeautifulSoup \n",
    "from tensorflow.keras.preprocessing.text import Tokenizer \n",
    "from tensorflow.keras.preprocessing.sequence import pad_sequences\n",
    "import urllib.request"
   ]
  },
  {
   "cell_type": "code",
   "execution_count": 3,
   "id": "12d16897",
   "metadata": {},
   "outputs": [],
   "source": [
    "# urllib.request.urlretrieve(\"https://raw.githubusercontent.com/sunnysai12345/News_Summary/master/news_summary_more.csv\", filename=\"news_summary_more.csv\")"
   ]
  },
  {
   "cell_type": "markdown",
   "id": "a4b90525",
   "metadata": {},
   "source": [
    "다운받은 뉴스 기사 데이터를 data 폴더에 옮겨준다."
   ]
  },
  {
   "cell_type": "markdown",
   "id": "fcee533b",
   "metadata": {},
   "source": [
    "### (1) 데이터 수집하기"
   ]
  },
  {
   "cell_type": "code",
   "execution_count": 4,
   "id": "09b14854",
   "metadata": {},
   "outputs": [],
   "source": [
    "data = pd.read_csv('./data/news_summary_more.csv', encoding='iso-8859-1')"
   ]
  },
  {
   "cell_type": "code",
   "execution_count": 5,
   "id": "aa80a41a",
   "metadata": {},
   "outputs": [
    {
     "data": {
      "text/html": [
       "<div>\n",
       "<style scoped>\n",
       "    .dataframe tbody tr th:only-of-type {\n",
       "        vertical-align: middle;\n",
       "    }\n",
       "\n",
       "    .dataframe tbody tr th {\n",
       "        vertical-align: top;\n",
       "    }\n",
       "\n",
       "    .dataframe thead th {\n",
       "        text-align: right;\n",
       "    }\n",
       "</style>\n",
       "<table border=\"1\" class=\"dataframe\">\n",
       "  <thead>\n",
       "    <tr style=\"text-align: right;\">\n",
       "      <th></th>\n",
       "      <th>headlines</th>\n",
       "      <th>text</th>\n",
       "    </tr>\n",
       "  </thead>\n",
       "  <tbody>\n",
       "    <tr>\n",
       "      <th>47927</th>\n",
       "      <td>Only CBFC should have say in film's release: A...</td>\n",
       "      <td>While talking about delay in his film Aiyaary'...</td>\n",
       "    </tr>\n",
       "    <tr>\n",
       "      <th>43940</th>\n",
       "      <td>Japan firm to supply 'premium eggs' for Indian...</td>\n",
       "      <td>Indian badminton players training at the Hyder...</td>\n",
       "    </tr>\n",
       "    <tr>\n",
       "      <th>9553</th>\n",
       "      <td>My children my reason to get better through my...</td>\n",
       "      <td>Actress Nafisa Ali, who revealed she has been ...</td>\n",
       "    </tr>\n",
       "    <tr>\n",
       "      <th>39427</th>\n",
       "      <td>Govt seeks to use satellite to measure Yoga Da...</td>\n",
       "      <td>The Union Ayush Ministry has approached the In...</td>\n",
       "    </tr>\n",
       "    <tr>\n",
       "      <th>29205</th>\n",
       "      <td>Sidhu's son, wife not to take govt posts after...</td>\n",
       "      <td>Punjab Minister Navjot Singh Sidhu has said hi...</td>\n",
       "    </tr>\n",
       "    <tr>\n",
       "      <th>52940</th>\n",
       "      <td>D'Arcy Short slams 122* to post highest-ever B...</td>\n",
       "      <td>Hobart Hurricanes' D'Arcy Short on Wednesday s...</td>\n",
       "    </tr>\n",
       "    <tr>\n",
       "      <th>50132</th>\n",
       "      <td>I only look like a smuggler when I have my bea...</td>\n",
       "      <td>Shah Rukh Khan, while talking about the titula...</td>\n",
       "    </tr>\n",
       "    <tr>\n",
       "      <th>7014</th>\n",
       "      <td>Pujara has started to play with a lot of matur...</td>\n",
       "      <td>Indian pacer Jasprit Bumrah praised teammate C...</td>\n",
       "    </tr>\n",
       "    <tr>\n",
       "      <th>43239</th>\n",
       "      <td>Harvey Weinstein would prefer it if I were dea...</td>\n",
       "      <td>Actress Rose McGowan, while talking about Holl...</td>\n",
       "    </tr>\n",
       "    <tr>\n",
       "      <th>62731</th>\n",
       "      <td>First-ever Ranji Trophy match ended on the fir...</td>\n",
       "      <td>The first-ever Ranji Trophy match, played betw...</td>\n",
       "    </tr>\n",
       "  </tbody>\n",
       "</table>\n",
       "</div>"
      ],
      "text/plain": [
       "                                               headlines  \\\n",
       "47927  Only CBFC should have say in film's release: A...   \n",
       "43940  Japan firm to supply 'premium eggs' for Indian...   \n",
       "9553   My children my reason to get better through my...   \n",
       "39427  Govt seeks to use satellite to measure Yoga Da...   \n",
       "29205  Sidhu's son, wife not to take govt posts after...   \n",
       "52940  D'Arcy Short slams 122* to post highest-ever B...   \n",
       "50132  I only look like a smuggler when I have my bea...   \n",
       "7014   Pujara has started to play with a lot of matur...   \n",
       "43239  Harvey Weinstein would prefer it if I were dea...   \n",
       "62731  First-ever Ranji Trophy match ended on the fir...   \n",
       "\n",
       "                                                    text  \n",
       "47927  While talking about delay in his film Aiyaary'...  \n",
       "43940  Indian badminton players training at the Hyder...  \n",
       "9553   Actress Nafisa Ali, who revealed she has been ...  \n",
       "39427  The Union Ayush Ministry has approached the In...  \n",
       "29205  Punjab Minister Navjot Singh Sidhu has said hi...  \n",
       "52940  Hobart Hurricanes' D'Arcy Short on Wednesday s...  \n",
       "50132  Shah Rukh Khan, while talking about the titula...  \n",
       "7014   Indian pacer Jasprit Bumrah praised teammate C...  \n",
       "43239  Actress Rose McGowan, while talking about Holl...  \n",
       "62731  The first-ever Ranji Trophy match, played betw...  "
      ]
     },
     "execution_count": 5,
     "metadata": {},
     "output_type": "execute_result"
    }
   ],
   "source": [
    "data.sample(10)"
   ]
  },
  {
   "cell_type": "markdown",
   "id": "a796bea9",
   "metadata": {},
   "source": [
    "### (2) 데이터 전처리"
   ]
  },
  {
   "cell_type": "code",
   "execution_count": 6,
   "id": "19cbbd25",
   "metadata": {},
   "outputs": [
    {
     "name": "stdout",
     "output_type": "stream",
     "text": [
      "Total sample num : 98401\n"
     ]
    }
   ],
   "source": [
    "print(\"Total sample num :\", len(data))"
   ]
  },
  {
   "cell_type": "code",
   "execution_count": 7,
   "id": "57890e19",
   "metadata": {},
   "outputs": [
    {
     "name": "stdout",
     "output_type": "stream",
     "text": [
      "Total unique sample num : 98360\n"
     ]
    }
   ],
   "source": [
    "data.drop_duplicates(subset = ['text'], inplace=True)\n",
    "data.dropna(axis=0, inplace=True)\n",
    "print('Total unique sample num :', len(data))"
   ]
  },
  {
   "cell_type": "markdown",
   "id": "b6d4dd15",
   "metadata": {},
   "source": [
    "정규화 사전, 불용어, 정규표현식을 이용하여 data preprocessing을 수행한다."
   ]
  },
  {
   "cell_type": "code",
   "execution_count": 8,
   "id": "a18fca2b",
   "metadata": {},
   "outputs": [
    {
     "name": "stdout",
     "output_type": "stream",
     "text": [
      "contractions num : 120\n"
     ]
    }
   ],
   "source": [
    "# text normalization\n",
    "contractions = {\"ain't\": \"is not\", \"aren't\": \"are not\",\"can't\": \"cannot\", \"'cause\": \"because\", \"could've\": \"could have\", \"couldn't\": \"could not\",\n",
    "                           \"didn't\": \"did not\",  \"doesn't\": \"does not\", \"don't\": \"do not\", \"hadn't\": \"had not\", \"hasn't\": \"has not\", \"haven't\": \"have not\",\n",
    "                           \"he'd\": \"he would\",\"he'll\": \"he will\", \"he's\": \"he is\", \"how'd\": \"how did\", \"how'd'y\": \"how do you\", \"how'll\": \"how will\", \"how's\": \"how is\",\n",
    "                           \"I'd\": \"I would\", \"I'd've\": \"I would have\", \"I'll\": \"I will\", \"I'll've\": \"I will have\",\"I'm\": \"I am\", \"I've\": \"I have\", \"i'd\": \"i would\",\n",
    "                           \"i'd've\": \"i would have\", \"i'll\": \"i will\",  \"i'll've\": \"i will have\",\"i'm\": \"i am\", \"i've\": \"i have\", \"isn't\": \"is not\", \"it'd\": \"it would\",\n",
    "                           \"it'd've\": \"it would have\", \"it'll\": \"it will\", \"it'll've\": \"it will have\",\"it's\": \"it is\", \"let's\": \"let us\", \"ma'am\": \"madam\",\n",
    "                           \"mayn't\": \"may not\", \"might've\": \"might have\",\"mightn't\": \"might not\",\"mightn't've\": \"might not have\", \"must've\": \"must have\",\n",
    "                           \"mustn't\": \"must not\", \"mustn't've\": \"must not have\", \"needn't\": \"need not\", \"needn't've\": \"need not have\",\"o'clock\": \"of the clock\",\n",
    "                           \"oughtn't\": \"ought not\", \"oughtn't've\": \"ought not have\", \"shan't\": \"shall not\", \"sha'n't\": \"shall not\", \"shan't've\": \"shall not have\",\n",
    "                           \"she'd\": \"she would\", \"she'd've\": \"she would have\", \"she'll\": \"she will\", \"she'll've\": \"she will have\", \"she's\": \"she is\",\n",
    "                           \"should've\": \"should have\", \"shouldn't\": \"should not\", \"shouldn't've\": \"should not have\", \"so've\": \"so have\",\"so's\": \"so as\",\n",
    "                           \"this's\": \"this is\",\"that'd\": \"that would\", \"that'd've\": \"that would have\", \"that's\": \"that is\", \"there'd\": \"there would\",\n",
    "                           \"there'd've\": \"there would have\", \"there's\": \"there is\", \"here's\": \"here is\",\"they'd\": \"they would\", \"they'd've\": \"they would have\",\n",
    "                           \"they'll\": \"they will\", \"they'll've\": \"they will have\", \"they're\": \"they are\", \"they've\": \"they have\", \"to've\": \"to have\",\n",
    "                           \"wasn't\": \"was not\", \"we'd\": \"we would\", \"we'd've\": \"we would have\", \"we'll\": \"we will\", \"we'll've\": \"we will have\", \"we're\": \"we are\",\n",
    "                           \"we've\": \"we have\", \"weren't\": \"were not\", \"what'll\": \"what will\", \"what'll've\": \"what will have\", \"what're\": \"what are\",\n",
    "                           \"what's\": \"what is\", \"what've\": \"what have\", \"when's\": \"when is\", \"when've\": \"when have\", \"where'd\": \"where did\", \"where's\": \"where is\",\n",
    "                           \"where've\": \"where have\", \"who'll\": \"who will\", \"who'll've\": \"who will have\", \"who's\": \"who is\", \"who've\": \"who have\",\n",
    "                           \"why's\": \"why is\", \"why've\": \"why have\", \"will've\": \"will have\", \"won't\": \"will not\", \"won't've\": \"will not have\",\n",
    "                           \"would've\": \"would have\", \"wouldn't\": \"would not\", \"wouldn't've\": \"would not have\", \"y'all\": \"you all\",\n",
    "                           \"y'all'd\": \"you all would\",\"y'all'd've\": \"you all would have\",\"y'all're\": \"you all are\",\"y'all've\": \"you all have\",\n",
    "                           \"you'd\": \"you would\", \"you'd've\": \"you would have\", \"you'll\": \"you will\", \"you'll've\": \"you will have\",\n",
    "                           \"you're\": \"you are\", \"you've\": \"you have\"}\n",
    "print(\"contractions num :\", len(contractions))"
   ]
  },
  {
   "cell_type": "code",
   "execution_count": 9,
   "id": "3df9fee0",
   "metadata": {
    "scrolled": true
   },
   "outputs": [
    {
     "name": "stdout",
     "output_type": "stream",
     "text": [
      "['i', 'me', 'my', 'myself', 'we', 'our', 'ours', 'ourselves', 'you', \"you're\", \"you've\", \"you'll\", \"you'd\", 'your', 'yours', 'yourself', 'yourselves', 'he', 'him', 'his', 'himself', 'she', \"she's\", 'her', 'hers', 'herself', 'it', \"it's\", 'its', 'itself', 'they', 'them', 'their', 'theirs', 'themselves', 'what', 'which', 'who', 'whom', 'this', 'that', \"that'll\", 'these', 'those', 'am', 'is', 'are', 'was', 'were', 'be', 'been', 'being', 'have', 'has', 'had', 'having', 'do', 'does', 'did', 'doing', 'a', 'an', 'the', 'and', 'but', 'if', 'or', 'because', 'as', 'until', 'while', 'of', 'at', 'by', 'for', 'with', 'about', 'against', 'between', 'into', 'through', 'during', 'before', 'after', 'above', 'below', 'to', 'from', 'up', 'down', 'in', 'out', 'on', 'off', 'over', 'under', 'again', 'further', 'then', 'once', 'here', 'there', 'when', 'where', 'why', 'how', 'all', 'any', 'both', 'each', 'few', 'more', 'most', 'other', 'some', 'such', 'no', 'nor', 'not', 'only', 'own', 'same', 'so', 'than', 'too', 'very', 's', 't', 'can', 'will', 'just', 'don', \"don't\", 'should', \"should've\", 'now', 'd', 'll', 'm', 'o', 're', 've', 'y', 'ain', 'aren', \"aren't\", 'couldn', \"couldn't\", 'didn', \"didn't\", 'doesn', \"doesn't\", 'hadn', \"hadn't\", 'hasn', \"hasn't\", 'haven', \"haven't\", 'isn', \"isn't\", 'ma', 'mightn', \"mightn't\", 'mustn', \"mustn't\", 'needn', \"needn't\", 'shan', \"shan't\", 'shouldn', \"shouldn't\", 'wasn', \"wasn't\", 'weren', \"weren't\", 'won', \"won't\", 'wouldn', \"wouldn't\"]\n",
      "stopwords num : 179\n"
     ]
    }
   ],
   "source": [
    "print(stopwords.words('english'))\n",
    "print('stopwords num :', len(stopwords.words('english') ))"
   ]
  },
  {
   "cell_type": "code",
   "execution_count": 10,
   "id": "6133f81e",
   "metadata": {},
   "outputs": [],
   "source": [
    "def preprocess_sentence(sentence, remove_stopwords=True):\n",
    "    sentence = sentence.lower() # 텍스트 소문자화\n",
    "    sentence = BeautifulSoup(sentence, \"lxml\").text # html 태그 제거\n",
    "    sentence = re.sub(r'\\([^)]*\\)', '', sentence) # 괄호로 닫힌 문자열 제거\n",
    "    sentence = re.sub('\"','', sentence) # 쌍따옴표 \" 제거\n",
    "    sentence = ' '.join([contractions[t] if t in contractions else t for t in sentence.split(\" \")]) # 약어 정규화\n",
    "    sentence = re.sub(r\"'s\\b\",\"\", sentence) # 소유격 제거\n",
    "    sentence = re.sub(\"[^a-zA-Z]\", \" \", sentence) # 영어 외 문자 공백으로 변환\n",
    "    sentence = re.sub('[m]{2,}', 'mm', sentence) # m이 3개 이상이면 2개로 변경\n",
    "    \n",
    "    if remove_stopwords: # 불용어 제거 (text)\n",
    "        tokens = ' '.join(word for word in sentence.split() if not word in stopwords.words('english') if len(word) > 1)\n",
    "    else: # 불용어 미제거 (headlines)\n",
    "        tokens = ' '.join(word for word in sentence.split() if len(word) > 1)\n",
    "        \n",
    "    return tokens"
   ]
  },
  {
   "cell_type": "code",
   "execution_count": 11,
   "id": "3975363e",
   "metadata": {
    "scrolled": false
   },
   "outputs": [
    {
     "name": "stdout",
     "output_type": "stream",
     "text": [
      "1000 / 98360\n",
      "2000 / 98360\n",
      "3000 / 98360\n",
      "4000 / 98360\n",
      "5000 / 98360\n",
      "6000 / 98360\n",
      "7000 / 98360\n",
      "8000 / 98360\n",
      "9000 / 98360\n",
      "10000 / 98360\n",
      "11000 / 98360\n",
      "12000 / 98360\n",
      "13000 / 98360\n",
      "14000 / 98360\n",
      "15000 / 98360\n",
      "16000 / 98360\n",
      "17000 / 98360\n",
      "18000 / 98360\n",
      "19000 / 98360\n",
      "20000 / 98360\n",
      "21000 / 98360\n",
      "22000 / 98360\n",
      "23000 / 98360\n",
      "24000 / 98360\n",
      "25000 / 98360\n",
      "26000 / 98360\n",
      "27000 / 98360\n",
      "28000 / 98360\n",
      "29000 / 98360\n",
      "30000 / 98360\n",
      "31000 / 98360\n",
      "32000 / 98360\n",
      "33000 / 98360\n",
      "34000 / 98360\n",
      "35000 / 98360\n",
      "36000 / 98360\n",
      "37000 / 98360\n",
      "38000 / 98360\n",
      "39000 / 98360\n",
      "40000 / 98360\n",
      "41000 / 98360\n",
      "42000 / 98360\n",
      "43000 / 98360\n",
      "44000 / 98360\n",
      "45000 / 98360\n",
      "46000 / 98360\n",
      "47000 / 98360\n",
      "48000 / 98360\n",
      "49000 / 98360\n",
      "50000 / 98360\n",
      "51000 / 98360\n",
      "52000 / 98360\n",
      "53000 / 98360\n",
      "54000 / 98360\n",
      "55000 / 98360\n",
      "56000 / 98360\n",
      "57000 / 98360\n",
      "58000 / 98360\n",
      "59000 / 98360\n",
      "60000 / 98360\n",
      "61000 / 98360\n",
      "62000 / 98360\n",
      "63000 / 98360\n",
      "64000 / 98360\n",
      "65000 / 98360\n",
      "66000 / 98360\n",
      "67000 / 98360\n",
      "68000 / 98360\n",
      "69000 / 98360\n",
      "70000 / 98360\n",
      "71000 / 98360\n",
      "72000 / 98360\n",
      "73000 / 98360\n",
      "74000 / 98360\n",
      "75000 / 98360\n",
      "76000 / 98360\n",
      "77000 / 98360\n",
      "78000 / 98360\n",
      "79000 / 98360\n",
      "80000 / 98360\n",
      "81000 / 98360\n",
      "82000 / 98360\n",
      "83000 / 98360\n",
      "84000 / 98360\n",
      "85000 / 98360\n",
      "86000 / 98360\n",
      "87000 / 98360\n",
      "88000 / 98360\n",
      "89000 / 98360\n",
      "90000 / 98360\n",
      "91000 / 98360\n",
      "92000 / 98360\n",
      "93000 / 98360\n",
      "94000 / 98360\n",
      "95000 / 98360\n",
      "96000 / 98360\n",
      "97000 / 98360\n",
      "98000 / 98360\n",
      "text 전처리 결과 : ['saurav kant alumnus upgrad iiit pg program machine learning artificial intelligence sr systems engineer infosys almost years work experience program upgrad degree career support helped transition data scientist tech mahindra salary hike upgrad online power learning powered lakh careers', 'kunal shah credit card bill payment platform cred gave users chance win free food swiggy one year pranav kaushik delhi techie bagged reward spending cred coins users get one cred coin per rupee bill paid used avail rewards brands like ixigo bookmyshow ubereats cult fit', 'new zealand defeated india wickets fourth odi hamilton thursday win first match five match odi series india lost international match rohit sharma captaincy consecutive victories dating back march match witnessed india getting seventh lowest total odi cricket history', 'aegon life iterm insurance plan customers enjoy tax benefits premiums paid save taxes plan provides life cover age years also customers options insure critical illnesses disability accidental death benefit rider life cover age years', 'speaking sexual harassment allegations rajkumar hirani sonam kapoor said known hirani many years true metoo movement get derailed metoo movement always believe woman case need reserve judgment added hirani accused assistant worked sanju']\n"
     ]
    }
   ],
   "source": [
    "# 전체 text 데이터에 대한 전처리\n",
    "clean_text = []\n",
    "n = 1\n",
    "\n",
    "for sentence in data['text']:\n",
    "    clean_text.append(preprocess_sentence(sentence))\n",
    "    \n",
    "    if n % 1000 == 0:\n",
    "        print(f\"{n} / {len(data['text'])}\")\n",
    "        \n",
    "    n += 1\n",
    "\n",
    "print(\"text 전처리 결과 :\", clean_text[:5])"
   ]
  },
  {
   "cell_type": "code",
   "execution_count": 12,
   "id": "985d276e",
   "metadata": {},
   "outputs": [
    {
     "name": "stdout",
     "output_type": "stream",
     "text": [
      "10000 / 98360\n",
      "20000 / 98360\n",
      "30000 / 98360\n",
      "40000 / 98360\n",
      "50000 / 98360\n",
      "60000 / 98360\n",
      "70000 / 98360\n",
      "80000 / 98360\n",
      "90000 / 98360\n",
      "headlines 전처리 후 결과 : ['upgrad learner switches to career in ml al with salary hike', 'delhi techie wins free food from swiggy for one year on cred', 'new zealand end rohit sharma led india match winning streak', 'aegon life iterm insurance plan helps customers save tax', 'have known hirani for yrs what if metoo claims are not true sonam']\n"
     ]
    }
   ],
   "source": [
    "# 전체 headlines 데이터에 대한 전처리\n",
    "clean_headlines = []\n",
    "n = 1\n",
    "\n",
    "for sentence in data['headlines']:\n",
    "    clean_headlines.append(preprocess_sentence(sentence, False))\n",
    "    \n",
    "    if n % 10000 == 0:\n",
    "        print(f\"{n} / {len(data['headlines'])}\")\n",
    "        \n",
    "    n += 1\n",
    "\n",
    "print(\"headlines 전처리 후 결과 :\", clean_headlines[:5])"
   ]
  },
  {
   "cell_type": "markdown",
   "id": "1eb17ae0",
   "metadata": {},
   "source": [
    "전처리 과정은 시간이 오래 걸리므로 새로운 데이터프레임 및 csv에 저장해놓는다."
   ]
  },
  {
   "cell_type": "code",
   "execution_count": 13,
   "id": "c830ed10",
   "metadata": {},
   "outputs": [],
   "source": [
    "data = pd.DataFrame()\n",
    "\n",
    "data['headlines'] = clean_headlines\n",
    "data['text'] = clean_text"
   ]
  },
  {
   "cell_type": "code",
   "execution_count": 14,
   "id": "22c5f252",
   "metadata": {},
   "outputs": [],
   "source": [
    "data_path = \"./data/preprocessing_news_summary_more.csv\"\n",
    "data.to_csv(data_path)"
   ]
  },
  {
   "cell_type": "code",
   "execution_count": 16,
   "id": "baa0fd3e",
   "metadata": {},
   "outputs": [
    {
     "data": {
      "text/plain": [
       "headlines    0\n",
       "text         0\n",
       "dtype: int64"
      ]
     },
     "execution_count": 16,
     "metadata": {},
     "output_type": "execute_result"
    }
   ],
   "source": [
    "data.isnull().sum()"
   ]
  },
  {
   "cell_type": "code",
   "execution_count": 17,
   "id": "c145e8c6",
   "metadata": {},
   "outputs": [
    {
     "name": "stdout",
     "output_type": "stream",
     "text": [
      "Total clean data num : 98360\n"
     ]
    }
   ],
   "source": [
    "print('Total clean data num :', (len(data)))"
   ]
  },
  {
   "cell_type": "code",
   "execution_count": 16,
   "id": "f48fc51a",
   "metadata": {},
   "outputs": [
    {
     "name": "stdout",
     "output_type": "stream",
     "text": [
      "텍스트의 최소 길이 : 1\n",
      "텍스트의 최대 길이 : 60\n",
      "텍스트의 평균 길이 : 35.09968483123221\n",
      "요약의 최소 길이 : 1\n",
      "요약의 최대 길이 : 16\n",
      "요약의 평균 길이 : 9.299532330215534\n"
     ]
    },
    {
     "data": {
      "image/png": "[encoded data removed]",
      "text/plain": [
       "<Figure size 432x288 with 2 Axes>"
      ]
     },
     "metadata": {
      "needs_background": "light"
     },
     "output_type": "display_data"
    },
    {
     "data": {
      "image/png": "[encoded data removed]",
      "text/plain": [
       "<Figure size 432x288 with 1 Axes>"
      ]
     },
     "metadata": {
      "needs_background": "light"
     },
     "output_type": "display_data"
    },
    {
     "data": {
      "image/png": "[encoded data removed]",
      "text/plain": [
       "<Figure size 432x288 with 1 Axes>"
      ]
     },
     "metadata": {
      "needs_background": "light"
     },
     "output_type": "display_data"
    }
   ],
   "source": [
    "# 길이 분포 출력\n",
    "import matplotlib.pyplot as plt\n",
    "\n",
    "text_len = [len(s.split()) for s in data['text']]\n",
    "headlines_len = [len(s.split()) for s in data['headlines']]\n",
    "\n",
    "print('텍스트의 최소 길이 : {}'.format(np.min(text_len)))\n",
    "print('텍스트의 최대 길이 : {}'.format(np.max(text_len)))\n",
    "print('텍스트의 평균 길이 : {}'.format(np.mean(text_len)))\n",
    "print('요약의 최소 길이 : {}'.format(np.min(headlines_len)))\n",
    "print('요약의 최대 길이 : {}'.format(np.max(headlines_len)))\n",
    "print('요약의 평균 길이 : {}'.format(np.mean(headlines_len)))\n",
    "\n",
    "plt.subplot(1,2,1)\n",
    "plt.boxplot(text_len)\n",
    "plt.title('Text')\n",
    "plt.subplot(1,2,2)\n",
    "plt.boxplot(headlines_len)\n",
    "plt.title('Headlines')\n",
    "plt.tight_layout()\n",
    "plt.show()\n",
    "\n",
    "plt.title('Text')\n",
    "plt.hist(text_len, bins = 40)\n",
    "plt.xlabel('length of samples')\n",
    "plt.ylabel('number of samples')\n",
    "plt.show()\n",
    "\n",
    "plt.title('Headlines')\n",
    "plt.hist(headlines_len, bins = 40)\n",
    "plt.xlabel('length of samples')\n",
    "plt.ylabel('number of samples')\n",
    "plt.show()"
   ]
  },
  {
   "cell_type": "code",
   "execution_count": 23,
   "id": "11d74ba4",
   "metadata": {},
   "outputs": [],
   "source": [
    "text_max_len = 40\n",
    "headlines_max_len = 11"
   ]
  },
  {
   "cell_type": "code",
   "execution_count": 24,
   "id": "b2aa6edb",
   "metadata": {},
   "outputs": [],
   "source": [
    "def below_threshold_len(max_len, nested_list):\n",
    "    cnt = 0\n",
    "    for s in nested_list:\n",
    "        if(len(s.split()) <= max_len):\n",
    "            cnt = cnt + 1\n",
    "    print('전체 샘플 중 길이가 %s 이하인 샘플의 비율: %s'%(max_len, (cnt / len(nested_list))))"
   ]
  },
  {
   "cell_type": "code",
   "execution_count": 25,
   "id": "13387353",
   "metadata": {},
   "outputs": [
    {
     "name": "stdout",
     "output_type": "stream",
     "text": [
      "전체 샘플 중 길이가 40 이하인 샘플의 비율: 0.9238714924766165\n",
      "전체 샘플 중 길이가 11 이하인 샘플의 비율: 0.9449877999186661\n"
     ]
    }
   ],
   "source": [
    "below_threshold_len(text_max_len, data['text'])\n",
    "below_threshold_len(headlines_max_len, data['headlines'])"
   ]
  },
  {
   "cell_type": "markdown",
   "id": "bad418f2",
   "metadata": {},
   "source": [
    "### (3) input, output 데이터 나누기"
   ]
  },
  {
   "cell_type": "code",
   "execution_count": 26,
   "id": "ee08c81e",
   "metadata": {},
   "outputs": [
    {
     "name": "stdout",
     "output_type": "stream",
     "text": [
      "전체 샘플수 : 85843\n"
     ]
    }
   ],
   "source": [
    "data = data[data['text'].apply(lambda x: len(x.split()) <= text_max_len)]\n",
    "data = data[data['headlines'].apply(lambda x: len(x.split()) <= headlines_max_len)]\n",
    "\n",
    "print('전체 샘플수 :', (len(data)))"
   ]
  },
  {
   "cell_type": "code",
   "execution_count": 27,
   "id": "cc5d87e4",
   "metadata": {},
   "outputs": [
    {
     "data": {
      "text/html": [
       "<div>\n",
       "<style scoped>\n",
       "    .dataframe tbody tr th:only-of-type {\n",
       "        vertical-align: middle;\n",
       "    }\n",
       "\n",
       "    .dataframe tbody tr th {\n",
       "        vertical-align: top;\n",
       "    }\n",
       "\n",
       "    .dataframe thead th {\n",
       "        text-align: right;\n",
       "    }\n",
       "</style>\n",
       "<table border=\"1\" class=\"dataframe\">\n",
       "  <thead>\n",
       "    <tr style=\"text-align: right;\">\n",
       "      <th></th>\n",
       "      <th>headlines</th>\n",
       "      <th>text</th>\n",
       "      <th>decoder_input</th>\n",
       "      <th>decoder_target</th>\n",
       "    </tr>\n",
       "  </thead>\n",
       "  <tbody>\n",
       "    <tr>\n",
       "      <th>0</th>\n",
       "      <td>upgrad learner switches to career in ml al wit...</td>\n",
       "      <td>saurav kant alumnus upgrad iiit pg program mac...</td>\n",
       "      <td>sostoken upgrad learner switches to career in ...</td>\n",
       "      <td>upgrad learner switches to career in ml al wit...</td>\n",
       "    </tr>\n",
       "    <tr>\n",
       "      <th>2</th>\n",
       "      <td>new zealand end rohit sharma led india match w...</td>\n",
       "      <td>new zealand defeated india wickets fourth odi ...</td>\n",
       "      <td>sostoken new zealand end rohit sharma led indi...</td>\n",
       "      <td>new zealand end rohit sharma led india match w...</td>\n",
       "    </tr>\n",
       "    <tr>\n",
       "      <th>3</th>\n",
       "      <td>aegon life iterm insurance plan helps customer...</td>\n",
       "      <td>aegon life iterm insurance plan customers enjo...</td>\n",
       "      <td>sostoken aegon life iterm insurance plan helps...</td>\n",
       "      <td>aegon life iterm insurance plan helps customer...</td>\n",
       "    </tr>\n",
       "    <tr>\n",
       "      <th>5</th>\n",
       "      <td>rahat fateh ali khan denies getting notice for...</td>\n",
       "      <td>pakistani singer rahat fateh ali khan denied r...</td>\n",
       "      <td>sostoken rahat fateh ali khan denies getting n...</td>\n",
       "      <td>rahat fateh ali khan denies getting notice for...</td>\n",
       "    </tr>\n",
       "    <tr>\n",
       "      <th>7</th>\n",
       "      <td>govt directs alok verma to join work day befor...</td>\n",
       "      <td>weeks ex cbi director alok verma told departme...</td>\n",
       "      <td>sostoken govt directs alok verma to join work ...</td>\n",
       "      <td>govt directs alok verma to join work day befor...</td>\n",
       "    </tr>\n",
       "  </tbody>\n",
       "</table>\n",
       "</div>"
      ],
      "text/plain": [
       "                                           headlines  \\\n",
       "0  upgrad learner switches to career in ml al wit...   \n",
       "2  new zealand end rohit sharma led india match w...   \n",
       "3  aegon life iterm insurance plan helps customer...   \n",
       "5  rahat fateh ali khan denies getting notice for...   \n",
       "7  govt directs alok verma to join work day befor...   \n",
       "\n",
       "                                                text  \\\n",
       "0  saurav kant alumnus upgrad iiit pg program mac...   \n",
       "2  new zealand defeated india wickets fourth odi ...   \n",
       "3  aegon life iterm insurance plan customers enjo...   \n",
       "5  pakistani singer rahat fateh ali khan denied r...   \n",
       "7  weeks ex cbi director alok verma told departme...   \n",
       "\n",
       "                                       decoder_input  \\\n",
       "0  sostoken upgrad learner switches to career in ...   \n",
       "2  sostoken new zealand end rohit sharma led indi...   \n",
       "3  sostoken aegon life iterm insurance plan helps...   \n",
       "5  sostoken rahat fateh ali khan denies getting n...   \n",
       "7  sostoken govt directs alok verma to join work ...   \n",
       "\n",
       "                                      decoder_target  \n",
       "0  upgrad learner switches to career in ml al wit...  \n",
       "2  new zealand end rohit sharma led india match w...  \n",
       "3  aegon life iterm insurance plan helps customer...  \n",
       "5  rahat fateh ali khan denies getting notice for...  \n",
       "7  govt directs alok verma to join work day befor...  "
      ]
     },
     "execution_count": 27,
     "metadata": {},
     "output_type": "execute_result"
    }
   ],
   "source": [
    "# 요약 데이터에는 시작 토큰과 종료 토큰을 추가\n",
    "data['decoder_input'] = data['headlines'].apply(lambda x : 'sostoken '+ x)\n",
    "data['decoder_target'] = data['headlines'].apply(lambda x : x + ' eostoken')\n",
    "data.head()"
   ]
  },
  {
   "cell_type": "code",
   "execution_count": 28,
   "id": "28a98f00",
   "metadata": {},
   "outputs": [],
   "source": [
    "encoder_input = np.array(data['text']) # 인코더의 입력\n",
    "decoder_input = np.array(data['decoder_input']) # 디코더의 입력\n",
    "decoder_target = np.array(data['decoder_target']) # 디코더의 레이블"
   ]
  },
  {
   "cell_type": "code",
   "execution_count": 29,
   "id": "0cb79512",
   "metadata": {},
   "outputs": [
    {
     "name": "stdout",
     "output_type": "stream",
     "text": [
      "[25403  5240 44734 ... 15461 21048 74096]\n"
     ]
    }
   ],
   "source": [
    "indices = np.arange(encoder_input.shape[0])\n",
    "np.random.shuffle(indices)\n",
    "print(indices)"
   ]
  },
  {
   "cell_type": "code",
   "execution_count": 30,
   "id": "76462067",
   "metadata": {},
   "outputs": [],
   "source": [
    "encoder_input = encoder_input[indices]\n",
    "decoder_input = decoder_input[indices]\n",
    "decoder_target = decoder_target[indices]"
   ]
  },
  {
   "cell_type": "code",
   "execution_count": 31,
   "id": "12ab2aab",
   "metadata": {},
   "outputs": [
    {
     "name": "stdout",
     "output_type": "stream",
     "text": [
      "테스트 데이터의 수 : 17168\n"
     ]
    }
   ],
   "source": [
    "n_of_val = int(len(encoder_input)*0.2)\n",
    "print('테스트 데이터의 수 :', n_of_val)"
   ]
  },
  {
   "cell_type": "code",
   "execution_count": 32,
   "id": "6f297f32",
   "metadata": {},
   "outputs": [
    {
     "name": "stdout",
     "output_type": "stream",
     "text": [
      "훈련 데이터의 개수 : 68675\n",
      "훈련 레이블의 개수 : 68675\n",
      "테스트 데이터의 개수 : 17168\n",
      "테스트 레이블의 개수 : 17168\n"
     ]
    }
   ],
   "source": [
    "encoder_input_train = encoder_input[:-n_of_val]\n",
    "decoder_input_train = decoder_input[:-n_of_val]\n",
    "decoder_target_train = decoder_target[:-n_of_val]\n",
    "\n",
    "encoder_input_test = encoder_input[-n_of_val:]\n",
    "decoder_input_test = decoder_input[-n_of_val:]\n",
    "decoder_target_test = decoder_target[-n_of_val:]\n",
    "\n",
    "print('훈련 데이터의 개수 :', len(encoder_input_train))\n",
    "print('훈련 레이블의 개수 :', len(decoder_input_train))\n",
    "print('테스트 데이터의 개수 :', len(encoder_input_test))\n",
    "print('테스트 레이블의 개수 :', len(decoder_input_test))"
   ]
  },
  {
   "cell_type": "markdown",
   "id": "242cb4f5",
   "metadata": {},
   "source": [
    "### (4) 정수 인코딩"
   ]
  },
  {
   "cell_type": "markdown",
   "id": "9d54acf5",
   "metadata": {},
   "source": [
    "__source tokenizing__"
   ]
  },
  {
   "cell_type": "code",
   "execution_count": 33,
   "id": "879581eb",
   "metadata": {},
   "outputs": [],
   "source": [
    "src_tokenizer = Tokenizer() # 토크나이저 정의\n",
    "src_tokenizer.fit_on_texts(encoder_input_train) # 입력된 데이터로부터 단어 집합 생성"
   ]
  },
  {
   "cell_type": "code",
   "execution_count": 34,
   "id": "043b8748",
   "metadata": {},
   "outputs": [
    {
     "name": "stdout",
     "output_type": "stream",
     "text": [
      "단어 집합(vocabulary)의 크기 : 64621\n",
      "등장 빈도가 6번 이하인 희귀 단어의 수: 44052\n",
      "단어 집합에서 희귀 단어를 제외시킬 경우의 단어 집합의 크기 20569\n",
      "단어 집합에서 희귀 단어의 비율: 68.16979000634468\n",
      "전체 등장 빈도에서 희귀 단어 등장 빈도 비율: 3.774823242872071\n"
     ]
    }
   ],
   "source": [
    "threshold = 7\n",
    "total_cnt = len(src_tokenizer.word_index) # 단어의 수\n",
    "rare_cnt = 0 # 등장 빈도수가 threshold보다 작은 단어의 개수를 카운트\n",
    "total_freq = 0 # 훈련 데이터의 전체 단어 빈도수 총 합\n",
    "rare_freq = 0 # 등장 빈도수가 threshold보다 작은 단어의 등장 빈도수의 총 합\n",
    "\n",
    "# 단어와 빈도수의 쌍(pair)을 key와 value로 받는다.\n",
    "for key, value in src_tokenizer.word_counts.items():\n",
    "    total_freq = total_freq + value\n",
    "\n",
    "    # 단어의 등장 빈도수가 threshold보다 작으면\n",
    "    if(value < threshold):\n",
    "        rare_cnt = rare_cnt + 1\n",
    "        rare_freq = rare_freq + value\n",
    "\n",
    "print('단어 집합(vocabulary)의 크기 :', total_cnt)\n",
    "print('등장 빈도가 %s번 이하인 희귀 단어의 수: %s'%(threshold - 1, rare_cnt))\n",
    "print('단어 집합에서 희귀 단어를 제외시킬 경우의 단어 집합의 크기 %s'%(total_cnt - rare_cnt))\n",
    "print(\"단어 집합에서 희귀 단어의 비율:\", (rare_cnt / total_cnt)*100)\n",
    "print(\"전체 등장 빈도에서 희귀 단어 등장 빈도 비율:\", (rare_freq / total_freq)*100)"
   ]
  },
  {
   "cell_type": "code",
   "execution_count": 35,
   "id": "9102a13a",
   "metadata": {},
   "outputs": [],
   "source": [
    "src_vocab = 20000\n",
    "src_tokenizer = Tokenizer(num_words=src_vocab) # 단어 집합의 크기를 으로 제한\n",
    "src_tokenizer.fit_on_texts(encoder_input_train) # 단어 집합 재생성"
   ]
  },
  {
   "cell_type": "code",
   "execution_count": 36,
   "id": "ac0cdd0a",
   "metadata": {},
   "outputs": [
    {
     "name": "stdout",
     "output_type": "stream",
     "text": [
      "[[160, 19, 59, 548, 571, 1275, 31, 5068, 4167, 446, 546, 71, 103, 7, 2790, 7882, 37, 7, 1046, 2231, 19188, 829, 199, 2790, 1037, 320], [76, 4697, 12671, 79, 3434, 1771, 731, 3659, 12671, 79, 11807, 19189, 179, 70, 3327, 247, 404, 17063, 3679, 931, 6385, 3659, 2830, 19189, 4168, 2077, 12671, 4, 2903, 572, 120, 3328, 1038, 731], [95, 375, 13131, 6665, 63, 2232, 1203, 1679, 2056, 3991, 1150, 3212, 630, 95, 63, 2232, 1690, 15410, 888, 3212, 16178, 5, 27, 1]]\n"
     ]
    }
   ],
   "source": [
    "# 텍스트 시퀀스를 정수 시퀀스로 변환\n",
    "encoder_input_train = src_tokenizer.texts_to_sequences(encoder_input_train) \n",
    "encoder_input_test = src_tokenizer.texts_to_sequences(encoder_input_test)\n",
    "\n",
    "# 잘 진행되었는지 샘플 출력\n",
    "print(encoder_input_train[:3])"
   ]
  },
  {
   "cell_type": "markdown",
   "id": "4d66efa2",
   "metadata": {},
   "source": [
    "__target tokenizing__"
   ]
  },
  {
   "cell_type": "code",
   "execution_count": 37,
   "id": "50d8026d",
   "metadata": {},
   "outputs": [],
   "source": [
    "tar_tokenizer = Tokenizer()\n",
    "tar_tokenizer.fit_on_texts(decoder_input_train)"
   ]
  },
  {
   "cell_type": "code",
   "execution_count": 40,
   "id": "238634c9",
   "metadata": {},
   "outputs": [
    {
     "name": "stdout",
     "output_type": "stream",
     "text": [
      "단어 집합(vocabulary)의 크기 : 28457\n",
      "등장 빈도가 4번 이하인 희귀 단어의 수: 17619\n",
      "단어 집합에서 희귀 단어를 제외시킬 경우의 단어 집합의 크기 10838\n",
      "단어 집합에서 희귀 단어의 비율: 61.91446744210564\n",
      "전체 등장 빈도에서 희귀 단어 등장 빈도 비율: 4.361425797112699\n"
     ]
    }
   ],
   "source": [
    "threshold = 5\n",
    "total_cnt = len(tar_tokenizer.word_index) # 단어의 수\n",
    "rare_cnt = 0 # 등장 빈도수가 threshold보다 작은 단어의 개수를 카운트\n",
    "total_freq = 0 # 훈련 데이터의 전체 단어 빈도수 총 합\n",
    "rare_freq = 0 # 등장 빈도수가 threshold보다 작은 단어의 등장 빈도수의 총 합\n",
    "\n",
    "# 단어와 빈도수의 쌍(pair)을 key와 value로 받는다.\n",
    "for key, value in tar_tokenizer.word_counts.items():\n",
    "    total_freq = total_freq + value\n",
    "\n",
    "    # 단어의 등장 빈도수가 threshold보다 작으면\n",
    "    if(value < threshold):\n",
    "        rare_cnt = rare_cnt + 1\n",
    "        rare_freq = rare_freq + value\n",
    "\n",
    "print('단어 집합(vocabulary)의 크기 :', total_cnt)\n",
    "print('등장 빈도가 %s번 이하인 희귀 단어의 수: %s'%(threshold - 1, rare_cnt))\n",
    "print('단어 집합에서 희귀 단어를 제외시킬 경우의 단어 집합의 크기 %s'%(total_cnt - rare_cnt))\n",
    "print(\"단어 집합에서 희귀 단어의 비율:\", (rare_cnt / total_cnt)*100)\n",
    "print(\"전체 등장 빈도에서 희귀 단어 등장 빈도 비율:\", (rare_freq / total_freq)*100)"
   ]
  },
  {
   "cell_type": "code",
   "execution_count": 41,
   "id": "9583dd63",
   "metadata": {},
   "outputs": [],
   "source": [
    "tar_vocab = 10000\n",
    "tar_tokenizer = Tokenizer(num_words=tar_vocab) \n",
    "tar_tokenizer.fit_on_texts(decoder_input_train)\n",
    "tar_tokenizer.fit_on_texts(decoder_target_train)"
   ]
  },
  {
   "cell_type": "code",
   "execution_count": 42,
   "id": "16f8f4b2",
   "metadata": {},
   "outputs": [
    {
     "name": "stdout",
     "output_type": "stream",
     "text": [
      "input\n",
      "input  [[1, 67, 611, 1800, 3, 1896, 135, 66, 2796], [1, 101, 1975, 331, 1897, 447, 245, 2797, 8825], [1, 1898, 1857, 13, 1694, 4745], [1, 35, 2287, 1611, 1034, 5, 2149, 148], [1, 433, 658, 151, 3, 12, 795, 5, 659, 557, 206, 779]]\n",
      "target\n",
      "decoder  [[67, 611, 1800, 3, 1896, 135, 66, 2796, 2], [101, 1975, 331, 1897, 447, 245, 2797, 8825, 2], [1898, 1857, 13, 1694, 4745, 2], [35, 2287, 1611, 1034, 5, 2149, 148, 2], [433, 658, 151, 3, 12, 795, 5, 659, 557, 206, 779, 2]]\n"
     ]
    }
   ],
   "source": [
    "# 텍스트 시퀀스를 정수 시퀀스로 변환\n",
    "decoder_input_train = tar_tokenizer.texts_to_sequences(decoder_input_train) \n",
    "decoder_target_train = tar_tokenizer.texts_to_sequences(decoder_target_train)\n",
    "decoder_input_test = tar_tokenizer.texts_to_sequences(decoder_input_test)\n",
    "decoder_target_test = tar_tokenizer.texts_to_sequences(decoder_target_test)\n",
    "\n",
    "# 잘 변환되었는지 확인\n",
    "print('input')\n",
    "print('input ',decoder_input_train[:5])\n",
    "print('target')\n",
    "print('decoder ',decoder_target_train[:5])"
   ]
  },
  {
   "cell_type": "code",
   "execution_count": 43,
   "id": "297bc2b4",
   "metadata": {},
   "outputs": [
    {
     "name": "stdout",
     "output_type": "stream",
     "text": [
      "삭제할 훈련 데이터의 개수 : 0\n",
      "삭제할 테스트 데이터의 개수 : 0\n",
      "훈련 데이터의 개수 : 68675\n",
      "훈련 레이블의 개수 : 68675\n",
      "테스트 데이터의 개수 : 17168\n",
      "테스트 레이블의 개수 : 17168\n"
     ]
    }
   ],
   "source": [
    "drop_train = [index for index, sentence in enumerate(decoder_input_train) if len(sentence) == 1]\n",
    "drop_test = [index for index, sentence in enumerate(decoder_input_test) if len(sentence) == 1]\n",
    "\n",
    "print('삭제할 훈련 데이터의 개수 :', len(drop_train))\n",
    "print('삭제할 테스트 데이터의 개수 :', len(drop_test))\n",
    "\n",
    "encoder_input_train = [sentence for index, sentence in enumerate(encoder_input_train) if index not in drop_train]\n",
    "decoder_input_train = [sentence for index, sentence in enumerate(decoder_input_train) if index not in drop_train]\n",
    "decoder_target_train = [sentence for index, sentence in enumerate(decoder_target_train) if index not in drop_train]\n",
    "\n",
    "encoder_input_test = [sentence for index, sentence in enumerate(encoder_input_test) if index not in drop_test]\n",
    "decoder_input_test = [sentence for index, sentence in enumerate(decoder_input_test) if index not in drop_test]\n",
    "decoder_target_test = [sentence for index, sentence in enumerate(decoder_target_test) if index not in drop_test]\n",
    "\n",
    "print('훈련 데이터의 개수 :', len(encoder_input_train))\n",
    "print('훈련 레이블의 개수 :', len(decoder_input_train))\n",
    "print('테스트 데이터의 개수 :', len(encoder_input_test))\n",
    "print('테스트 레이블의 개수 :', len(decoder_input_test))"
   ]
  },
  {
   "cell_type": "code",
   "execution_count": 44,
   "id": "d66509c2",
   "metadata": {},
   "outputs": [],
   "source": [
    "# Padding\n",
    "encoder_input_train = pad_sequences(encoder_input_train, maxlen=text_max_len, padding='post')\n",
    "encoder_input_test = pad_sequences(encoder_input_test, maxlen=text_max_len, padding='post')\n",
    "\n",
    "decoder_input_train = pad_sequences(decoder_input_train, maxlen=headlines_max_len, padding='post')\n",
    "decoder_target_train = pad_sequences(decoder_target_train, maxlen=headlines_max_len, padding='post')\n",
    "decoder_input_test = pad_sequences(decoder_input_test, maxlen=headlines_max_len, padding='post')\n",
    "decoder_target_test = pad_sequences(decoder_target_test, maxlen=headlines_max_len, padding='post')"
   ]
  },
  {
   "cell_type": "markdown",
   "id": "397b995d",
   "metadata": {},
   "source": [
    "### (5) 모델 설계하기"
   ]
  },
  {
   "cell_type": "markdown",
   "id": "f7acc08c",
   "metadata": {},
   "source": [
    "__LSTM 3층으로 Encoder를 설계한다.__"
   ]
  },
  {
   "cell_type": "code",
   "execution_count": 45,
   "id": "7c5da8d0",
   "metadata": {},
   "outputs": [],
   "source": [
    "from tensorflow.keras.layers import Input, LSTM, Embedding, Dense, Concatenate, TimeDistributed\n",
    "from tensorflow.keras.models import Model\n",
    "from tensorflow.keras.callbacks import EarlyStopping, ModelCheckpoint\n",
    "\n",
    "# 인코더 설계 시작\n",
    "embedding_dim = 128\n",
    "hidden_size = 256\n",
    "\n",
    "# 인코더\n",
    "encoder_inputs = Input(shape=(text_max_len,))\n",
    "\n",
    "# 인코더의 임베딩 층\n",
    "enc_emb = Embedding(src_vocab, embedding_dim)(encoder_inputs)\n",
    "\n",
    "# 인코더의 LSTM 1\n",
    "# encoder_lstm1 = LSTM(hidden_size, return_sequences=True, return_state=True ,dropout = 0.4, recurrent_dropout = 0.4)\n",
    "# recurrent dropout을 사용할 시 cuDNN을 사용할 수 없어서 recurrent dropout을 사용하지 않을 때보다 학습 시간이 오래 걸림\n",
    "encoder_lstm1 = LSTM(hidden_size, return_sequences=True, return_state=True ,dropout = 0.4)\n",
    "encoder_output1, state_h1, state_c1 = encoder_lstm1(enc_emb)\n",
    "\n",
    "# 인코더의 LSTM 2\n",
    "encoder_lstm2 = LSTM(hidden_size, return_sequences=True, return_state=True, dropout=0.4)\n",
    "encoder_output2, state_h2, state_c2 = encoder_lstm2(encoder_output1)\n",
    "\n",
    "# 인코더의 LSTM 3\n",
    "encoder_lstm3 = LSTM(hidden_size, return_state=True, return_sequences=True, dropout=0.4)\n",
    "encoder_outputs, state_h, state_c= encoder_lstm3(encoder_output2)"
   ]
  },
  {
   "cell_type": "markdown",
   "id": "81f33079",
   "metadata": {},
   "source": [
    "__LSTM 1층으로 Decoder를 설계한다.__"
   ]
  },
  {
   "cell_type": "code",
   "execution_count": 50,
   "id": "5f6054ee",
   "metadata": {},
   "outputs": [],
   "source": [
    "# 디코더 설계\n",
    "decoder_inputs = Input(shape=(None,))\n",
    "\n",
    "# 디코더의 임베딩 층\n",
    "dec_emb_layer = Embedding(tar_vocab, embedding_dim)\n",
    "dec_emb = dec_emb_layer(decoder_inputs)\n",
    "\n",
    "# 디코더의 LSTM\n",
    "decoder_lstm = LSTM(hidden_size, return_sequences=True, return_state=True, dropout=0.4)\n",
    "decoder_outputs, _, _ = decoder_lstm(dec_emb, initial_state=[state_h, state_c])"
   ]
  },
  {
   "cell_type": "code",
   "execution_count": 51,
   "id": "2ea57d33",
   "metadata": {},
   "outputs": [],
   "source": [
    "# 디코더의 출력층\n",
    "decoder_softmax_layer = Dense(tar_vocab, activation='softmax')\n",
    "decoder_softmax_outputs = decoder_softmax_layer(decoder_outputs) "
   ]
  },
  {
   "cell_type": "markdown",
   "id": "d8a96af9",
   "metadata": {},
   "source": [
    "__최종 모델의 형태는 다음과 같다.__"
   ]
  },
  {
   "cell_type": "code",
   "execution_count": 52,
   "id": "5c98937c",
   "metadata": {},
   "outputs": [
    {
     "name": "stdout",
     "output_type": "stream",
     "text": [
      "Model: \"model_1\"\n",
      "__________________________________________________________________________________________________\n",
      "Layer (type)                    Output Shape         Param #     Connected to                     \n",
      "==================================================================================================\n",
      "input_1 (InputLayer)            [(None, 40)]         0                                            \n",
      "__________________________________________________________________________________________________\n",
      "embedding (Embedding)           (None, 40, 128)      2560000     input_1[0][0]                    \n",
      "__________________________________________________________________________________________________\n",
      "lstm (LSTM)                     [(None, 40, 256), (N 394240      embedding[0][0]                  \n",
      "__________________________________________________________________________________________________\n",
      "input_3 (InputLayer)            [(None, None)]       0                                            \n",
      "__________________________________________________________________________________________________\n",
      "lstm_1 (LSTM)                   [(None, 40, 256), (N 525312      lstm[0][0]                       \n",
      "__________________________________________________________________________________________________\n",
      "embedding_3 (Embedding)         (None, None, 128)    1280000     input_3[0][0]                    \n",
      "__________________________________________________________________________________________________\n",
      "lstm_2 (LSTM)                   [(None, 40, 256), (N 525312      lstm_1[0][0]                     \n",
      "__________________________________________________________________________________________________\n",
      "lstm_4 (LSTM)                   [(None, None, 256),  394240      embedding_3[0][0]                \n",
      "                                                                 lstm_2[0][1]                     \n",
      "                                                                 lstm_2[0][2]                     \n",
      "__________________________________________________________________________________________________\n",
      "dense_1 (Dense)                 (None, None, 10000)  2570000     lstm_4[0][0]                     \n",
      "==================================================================================================\n",
      "Total params: 8,249,104\n",
      "Trainable params: 8,249,104\n",
      "Non-trainable params: 0\n",
      "__________________________________________________________________________________________________\n"
     ]
    }
   ],
   "source": [
    "# 모델 정의\n",
    "model = Model([encoder_inputs, decoder_inputs], decoder_softmax_outputs)\n",
    "model.summary()"
   ]
  },
  {
   "cell_type": "markdown",
   "id": "c592201a",
   "metadata": {},
   "source": [
    "### (6) 어텐션 메커니즘 적용"
   ]
  },
  {
   "cell_type": "code",
   "execution_count": 53,
   "id": "f7ae1b44",
   "metadata": {},
   "outputs": [
    {
     "name": "stdout",
     "output_type": "stream",
     "text": [
      "Model: \"model_2\"\n",
      "__________________________________________________________________________________________________\n",
      "Layer (type)                    Output Shape         Param #     Connected to                     \n",
      "==================================================================================================\n",
      "input_1 (InputLayer)            [(None, 40)]         0                                            \n",
      "__________________________________________________________________________________________________\n",
      "embedding (Embedding)           (None, 40, 128)      2560000     input_1[0][0]                    \n",
      "__________________________________________________________________________________________________\n",
      "lstm (LSTM)                     [(None, 40, 256), (N 394240      embedding[0][0]                  \n",
      "__________________________________________________________________________________________________\n",
      "input_3 (InputLayer)            [(None, None)]       0                                            \n",
      "__________________________________________________________________________________________________\n",
      "lstm_1 (LSTM)                   [(None, 40, 256), (N 525312      lstm[0][0]                       \n",
      "__________________________________________________________________________________________________\n",
      "embedding_3 (Embedding)         (None, None, 128)    1280000     input_3[0][0]                    \n",
      "__________________________________________________________________________________________________\n",
      "lstm_2 (LSTM)                   [(None, 40, 256), (N 525312      lstm_1[0][0]                     \n",
      "__________________________________________________________________________________________________\n",
      "lstm_4 (LSTM)                   [(None, None, 256),  394240      embedding_3[0][0]                \n",
      "                                                                 lstm_2[0][1]                     \n",
      "                                                                 lstm_2[0][2]                     \n",
      "__________________________________________________________________________________________________\n",
      "attention_layer (AdditiveAttent (None, None, 256)    256         lstm_4[0][0]                     \n",
      "                                                                 lstm_2[0][0]                     \n",
      "__________________________________________________________________________________________________\n",
      "concat_layer (Concatenate)      (None, None, 512)    0           lstm_4[0][0]                     \n",
      "                                                                 attention_layer[0][0]            \n",
      "__________________________________________________________________________________________________\n",
      "dense_2 (Dense)                 (None, None, 10000)  5130000     concat_layer[0][0]               \n",
      "==================================================================================================\n",
      "Total params: 10,809,360\n",
      "Trainable params: 10,809,360\n",
      "Non-trainable params: 0\n",
      "__________________________________________________________________________________________________\n"
     ]
    }
   ],
   "source": [
    "from tensorflow.keras.layers import AdditiveAttention\n",
    "\n",
    "# 어텐션 층\n",
    "attn_layer = AdditiveAttention(name='attention_layer')\n",
    "\n",
    "# 인코더와 디코더의 모든 time step의 hidden state를 어텐션 층에 전달하고 결과를 리턴\n",
    "attn_out = attn_layer([decoder_outputs, encoder_outputs])\n",
    "\n",
    "# 어텐션의 결과와 디코더의 hidden state들을 연결\n",
    "decoder_concat_input = Concatenate(axis=-1, name='concat_layer')([decoder_outputs, attn_out])\n",
    "\n",
    "# 디코더의 출력층\n",
    "decoder_softmax_layer = Dense(tar_vocab, activation='softmax')\n",
    "decoder_softmax_outputs = decoder_softmax_layer(decoder_concat_input)\n",
    "\n",
    "# 모델 정의\n",
    "model = Model([encoder_inputs, decoder_inputs], decoder_softmax_outputs)\n",
    "model.summary()"
   ]
  },
  {
   "cell_type": "markdown",
   "id": "f28044c6",
   "metadata": {},
   "source": [
    "### (7) 모델 훈련하기"
   ]
  },
  {
   "cell_type": "markdown",
   "id": "a03265cd",
   "metadata": {},
   "source": [
    "__Early Stopping__\n",
    "> val_loss을 관찰하다가, 검증 데이터의 손실이 줄어들지 않고 증가하는 현상이 n회(patience) 관측되면 학습을 멈추는 방식  \n",
    "> EarlyStopping이 작동하면 epochs가 아무리 크게 설정되어 있어도 모델 훈련을 최적점에서 멈출 수 있다.  \n",
    "\n",
    "> 단, patience가 0이 아닌 경우에는 훈련이 종료되었을 때 성능이 최고인 상황이 아닐 수 있다.  \n",
    "> 그래서 보통 학습 중에 모델을 저장하는 callback 함수를 같이 사용한다."
   ]
  },
  {
   "cell_type": "code",
   "execution_count": 54,
   "id": "488761c7",
   "metadata": {},
   "outputs": [
    {
     "name": "stdout",
     "output_type": "stream",
     "text": [
      "Epoch 1/50\n",
      "269/269 [==============================] - 68s 99ms/step - loss: 6.0417 - val_loss: 5.6161\n",
      "Epoch 2/50\n",
      "269/269 [==============================] - 29s 107ms/step - loss: 5.4796 - val_loss: 5.2465\n",
      "Epoch 3/50\n",
      "269/269 [==============================] - 30s 113ms/step - loss: 5.1305 - val_loss: 4.9748\n",
      "Epoch 4/50\n",
      "269/269 [==============================] - 31s 115ms/step - loss: 4.8486 - val_loss: 4.8167\n",
      "Epoch 5/50\n",
      "269/269 [==============================] - 30s 112ms/step - loss: 4.6242 - val_loss: 4.6190\n",
      "Epoch 6/50\n",
      "269/269 [==============================] - 31s 114ms/step - loss: 4.4393 - val_loss: 4.5099\n",
      "Epoch 7/50\n",
      "269/269 [==============================] - 31s 114ms/step - loss: 4.2797 - val_loss: 4.4339\n",
      "Epoch 8/50\n",
      "269/269 [==============================] - 31s 114ms/step - loss: 4.1357 - val_loss: 4.3335\n",
      "Epoch 9/50\n",
      "269/269 [==============================] - 31s 114ms/step - loss: 4.0077 - val_loss: 4.2698\n",
      "Epoch 10/50\n",
      "269/269 [==============================] - 31s 114ms/step - loss: 3.8944 - val_loss: 4.2230\n",
      "Epoch 11/50\n",
      "269/269 [==============================] - 31s 114ms/step - loss: 3.7878 - val_loss: 4.1699\n",
      "Epoch 12/50\n",
      "269/269 [==============================] - 31s 114ms/step - loss: 3.6933 - val_loss: 4.1431\n",
      "Epoch 13/50\n",
      "269/269 [==============================] - 31s 114ms/step - loss: 3.6066 - val_loss: 4.1024\n",
      "Epoch 14/50\n",
      "269/269 [==============================] - 31s 114ms/step - loss: 3.5282 - val_loss: 4.0784\n",
      "Epoch 15/50\n",
      "269/269 [==============================] - 31s 115ms/step - loss: 3.3220 - val_loss: 4.0298\n",
      "Epoch 18/50\n",
      "269/269 [==============================] - 31s 115ms/step - loss: 3.2642 - val_loss: 4.0154\n",
      "Epoch 19/50\n",
      "269/269 [==============================] - 25s 93ms/step - loss: 3.2035 - val_loss: 4.0188\n",
      "Epoch 20/50\n",
      "269/269 [==============================] - 24s 90ms/step - loss: 3.1478 - val_loss: 4.0128\n",
      "Epoch 21/50\n",
      "269/269 [==============================] - 24s 90ms/step - loss: 3.0976 - val_loss: 3.9969\n",
      "Epoch 22/50\n",
      "269/269 [==============================] - 24s 91ms/step - loss: 3.0493 - val_loss: 3.9930\n",
      "Epoch 23/50\n",
      "269/269 [==============================] - 24s 90ms/step - loss: 3.0023 - val_loss: 4.0020\n",
      "Epoch 24/50\n",
      "269/269 [==============================] - 24s 90ms/step - loss: 2.9604 - val_loss: 3.9946\n",
      "Epoch 00024: early stopping\n"
     ]
    }
   ],
   "source": [
    "model.compile(optimizer='rmsprop', loss='sparse_categorical_crossentropy')\n",
    "\n",
    "es = EarlyStopping(monitor='val_loss', patience=2, verbose=1)\n",
    "\n",
    "history = model.fit(x=[encoder_input_train, decoder_input_train], y=decoder_target_train, \\\n",
    "          validation_data=([encoder_input_test, decoder_input_test], decoder_target_test), \\\n",
    "          batch_size=256, callbacks=[es], epochs=50)"
   ]
  },
  {
   "cell_type": "code",
   "execution_count": 55,
   "id": "da88a541",
   "metadata": {},
   "outputs": [
    {
     "data": {
      "image/png": "[encoded data removed]",
      "text/plain": [
       "<Figure size 432x288 with 1 Axes>"
      ]
     },
     "metadata": {
      "needs_background": "light"
     },
     "output_type": "display_data"
    }
   ],
   "source": [
    "# 데이터 시각화\n",
    "plt.plot(history.history['loss'], label='train')\n",
    "plt.plot(history.history['val_loss'], label='test')\n",
    "plt.legend()\n",
    "plt.show()"
   ]
  },
  {
   "cell_type": "markdown",
   "id": "2661cf3e",
   "metadata": {},
   "source": [
    "### (8) 인퍼런스 모델 구현"
   ]
  },
  {
   "cell_type": "markdown",
   "id": "a4288b80",
   "metadata": {},
   "source": [
    "seq2seq는 훈련할 때와 실제 동작할 때(인퍼런스 단계)의 방식이 다르므로 그에 맞게 모델 설계를 별개로 진행해야 한다."
   ]
  },
  {
   "cell_type": "code",
   "execution_count": 56,
   "id": "6e36b933",
   "metadata": {},
   "outputs": [],
   "source": [
    "src_index_to_word = src_tokenizer.index_word # 원문 단어 집합에서 정수 -> 단어를 얻음\n",
    "tar_word_to_index = tar_tokenizer.word_index # 요약 단어 집합에서 단어 -> 정수를 얻음\n",
    "tar_index_to_word = tar_tokenizer.index_word # 요약 단어 집합에서 정수 -> 단어를 얻음"
   ]
  },
  {
   "cell_type": "code",
   "execution_count": 57,
   "id": "87b56e40",
   "metadata": {},
   "outputs": [],
   "source": [
    "# 인코더 설계\n",
    "encoder_model = Model(inputs=encoder_inputs, outputs=[encoder_outputs, state_h, state_c])\n",
    "\n",
    "# 이전 시점의 상태들을 저장하는 텐서\n",
    "decoder_state_input_h = Input(shape=(hidden_size,))\n",
    "decoder_state_input_c = Input(shape=(hidden_size,))\n",
    "\n",
    "dec_emb2 = dec_emb_layer(decoder_inputs)\n",
    "\n",
    "# 문장의 다음 단어를 예측하기 위해서 초기 상태(initial_state)를 이전 시점의 상태로 사용. 이는 뒤의 함수 decode_sequence()에 구현\n",
    "# 훈련 과정에서와 달리 LSTM의 리턴하는 은닉 상태와 셀 상태인 state_h와 state_c를 버리지 않음.\n",
    "decoder_outputs2, state_h2, state_c2 = decoder_lstm(dec_emb2, initial_state=[decoder_state_input_h, decoder_state_input_c])"
   ]
  },
  {
   "cell_type": "code",
   "execution_count": 58,
   "id": "b6310956",
   "metadata": {},
   "outputs": [],
   "source": [
    "# 어텐션 함수\n",
    "decoder_hidden_state_input = Input(shape=(text_max_len, hidden_size))\n",
    "attn_out_inf = attn_layer([decoder_outputs2, decoder_hidden_state_input])\n",
    "decoder_inf_concat = Concatenate(axis=-1, name='concat')([decoder_outputs2, attn_out_inf])\n",
    "\n",
    "# 디코더의 출력층\n",
    "decoder_outputs2 = decoder_softmax_layer(decoder_inf_concat) \n",
    "\n",
    "# 최종 디코더 모델\n",
    "decoder_model = Model(\n",
    "    [decoder_inputs] + [decoder_hidden_state_input,decoder_state_input_h, decoder_state_input_c],\n",
    "    [decoder_outputs2] + [state_h2, state_c2])"
   ]
  },
  {
   "cell_type": "code",
   "execution_count": 59,
   "id": "26339546",
   "metadata": {},
   "outputs": [],
   "source": [
    "def decode_sequence(input_seq):\n",
    "    # 입력으로부터 인코더의 상태를 얻음\n",
    "    e_out, e_h, e_c = encoder_model.predict(input_seq)\n",
    "\n",
    "     # <SOS>에 해당하는 토큰 생성\n",
    "    target_seq = np.zeros((1,1))\n",
    "    target_seq[0, 0] = tar_word_to_index['sostoken']\n",
    "\n",
    "    stop_condition = False\n",
    "    decoded_sentence = ''\n",
    "    \n",
    "    while not stop_condition: # stop_condition이 True가 될 때까지 루프 반복\n",
    "        output_tokens, h, c = decoder_model.predict([target_seq] + [e_out, e_h, e_c])\n",
    "        sampled_token_index = np.argmax(output_tokens[0, -1, :])\n",
    "        sampled_token = tar_index_to_word[sampled_token_index]\n",
    "\n",
    "        if (sampled_token != 'eostoken'):\n",
    "            decoded_sentence += ' '+sampled_token\n",
    "\n",
    "        #  <eos>에 도달하거나 최대 길이를 넘으면 중단.\n",
    "        if (sampled_token == 'eostoken'  or len(decoded_sentence.split()) >= (headlines_max_len-1)):\n",
    "            stop_condition = True\n",
    "\n",
    "        # 길이가 1인 타겟 시퀀스를 업데이트\n",
    "        target_seq = np.zeros((1,1))\n",
    "        target_seq[0, 0] = sampled_token_index\n",
    "\n",
    "        # 상태를 업데이트 합니다.\n",
    "        e_h, e_c = h, c\n",
    "\n",
    "    return decoded_sentence"
   ]
  },
  {
   "cell_type": "markdown",
   "id": "d4de664e",
   "metadata": {},
   "source": [
    "### (9) 모델 테스트 - 실제 결과와 요약문 비교"
   ]
  },
  {
   "cell_type": "code",
   "execution_count": 60,
   "id": "9c19e1e3",
   "metadata": {},
   "outputs": [],
   "source": [
    "# 원문의 정수 시퀀스를 텍스트 시퀀스로 변환\n",
    "def seq2text(input_seq):\n",
    "    temp = ''\n",
    "    for i in input_seq:\n",
    "        if (i != 0):\n",
    "            temp = temp + src_index_to_word[i] + ' '\n",
    "    return temp\n",
    "\n",
    "# 요약문의 정수 시퀀스를 텍스트 시퀀스로 변환\n",
    "def seq2headlines(input_seq):\n",
    "    temp = ''\n",
    "    for i in input_seq:\n",
    "        if((i != 0 and i != tar_word_to_index['sostoken']) and i != tar_word_to_index['eostoken']):\n",
    "            temp = temp + tar_index_to_word[i] + ' '\n",
    "    return temp "
   ]
  },
  {
   "cell_type": "code",
   "execution_count": 61,
   "id": "9c64d020",
   "metadata": {
    "scrolled": false
   },
   "outputs": [
    {
     "name": "stdout",
     "output_type": "stream",
     "text": [
      "Original: news anchor radhika kaushik died falling fourth floor apartment building noida friday morning police said party going flat time incident recovered bottles alcohol police claimed kaushik co anchor also flat reportedly argument fell \n",
      "Summary: news anchor dies after falling from th floor during party \n",
      "Abstract:  singer singer passes away at\n",
      "\n",
      "\n",
      "Original: shares mandhana retail ventures salman khan human fell much day high actor convicted blackbuck poaching case however shares recovered losses ended day lower court sentenced salman five years prison imposed fine \n",
      "Summary: being human stock fell after salman verdict \n",
      "Abstract:  akshay kumar shares his house of house\n",
      "\n",
      "\n",
      "Original: around computers connected gujarat government information technology network hit ransomware wannacry senior government official confirmed monday affected computers said data encrypted demanded bitcoins affected computer valuable data could adversely impact government functioning another official added \n",
      "Summary: gujarat govt computers affected by wannacry ransomware \n",
      "Abstract:  govt to provide data to prevent data from users\n",
      "\n",
      "\n",
      "Original: aamir khan starrer dangal recorded collections crore china since release may becoming first indian film also became rd film china cross earnings milestone one billion chinese yuan dangal also highest grossing non hollywood film china \n",
      "Summary: dangal first indian film to earn crore in china \n",
      "Abstract:  china becomes st to become dangal in china\n",
      "\n",
      "\n",
      "Original: european commission president jean claude juncker said us president donald trump called brutal killer juncker said trump called european union danger us adding sure us president meant compliment trump criticised european union unfair trade policies us \n",
      "Summary: trump called me brutal killer eu chief \n",
      "Abstract:  trump cannot be like to be like us prez trump\n",
      "\n",
      "\n",
      "Original: reliance jio reportedly raise much billion debt fund purchase reliance communications wireless assets jio also receive funding parent reliance industries reports said december jio agreed purchase rcom wireless assets include towers fibre network undisclosed sum \n",
      "Summary: jio to raise up to crore to fund rcom deal reports \n",
      "Abstract:  reliance jio to invest billion in sept quarter\n",
      "\n",
      "\n",
      "Original: calcutta high court said dates west bengal panchayat elections released state election commission final decision taken division bench court directions came based plea challenging commission decision hold election single phase may \n",
      "Summary: hc to decide bengal rural poll dates not election panel \n",
      "Abstract:  panchayat poll panchayat poll results on panchayat poll\n",
      "\n",
      "\n",
      "Original: south africa limited overs captain ab de villiers lead royal challengers bangalore virat kohli absence ipl coach daniel said kohli missed final test australia shoulder injury join rcb april bcci doctors team medical staff decide fit \n",
      "Summary: ab de villiers to lead rcb in virat kohli absence \n",
      "Abstract:  ab de villiers to play ab de villiers ab de\n",
      "\n",
      "\n",
      "Original: two time champions uruguay defeated cristiano ronaldo led portugal round saturday reach fifa world cup last first time since edition second time last three editions portugal knocked round interestingly uruguay conceded goal first time year \n",
      "Summary: uruguay knock ronaldo led portugal out of fifa world cup \n",
      "Abstract:  england win world cup for fifa world cup\n",
      "\n",
      "\n",
      "Original: indian oil corporation wednesday said looking annual deal buy us crude seeks oil purchasing options comes amid uncertainties iran imports us november granted six month waiver india sanctions iran restricted country monthly intake iranian oil barrels per day nn \n",
      "Summary: indian oil looking for annual deal to buy crude from us \n",
      "Abstract:  india to buy oil for india to curb oil crisis\n",
      "\n",
      "\n",
      "Original: government reportedly considering impose fine crore companies failing comply aadhaar act may also impose additional fine lakh per day cases continued non compliance report said government may give powers aadhaar issuing authority unique identification authority india report added \n",
      "Summary: govt may fine firms cr for aadhaar act violation report \n",
      "Abstract:  govt to pay crore to refund for aadhaar transactions\n",
      "\n",
      "\n",
      "Original: businessman arrested wednesday allegedly molesting russian woman aeroflot flight woman complained touched inappropriately flight delhi protested resisted actions abused made indecent gestures said police accused ram kishan arrested flight landed delhi \n",
      "Summary: man arrested in delhi for molesting russian woman on flight \n",
      "Abstract:  woman arrested for molesting woman flight at flight\n",
      "\n",
      "\n",
      "Original: meerut based boy feet inches tall making world tallest eight year old karan singh set guinness world record tallest heaviest baby cm tall weighed kg newborn karan said feel embarrassed height hopes become basketball player doctor \n",
      "Summary: world tallest year old boy is feet \n",
      "Abstract:  year old indian sets world record for\n",
      "\n",
      "\n",
      "Original: people killed amritsar train accident friday migrant workers uttar pradesh bihar senior district administration official said worked industrial area near accident site lived nearby official added killed bodies people identified authorities \n",
      "Summary: most killed in train accident were from up bihar official \n",
      "Abstract:  killed injured in bus accident in uttar pradesh\n",
      "\n",
      "\n",
      "Original: directorate revenue intelligence initiated action jeweller nirav modi three firms customs duty evasion case nirav accused causing losses understating value quantity diamonds pearls imported companies allegedly diverted diamonds imported via surat local markets illegally \n",
      "Summary: nirav modi firms to be for customs duty evasion \n",
      "Abstract:  nirav modi seeks nirav modi to pnb reports\n",
      "\n",
      "\n",
      "Original: canadian pm justin trudeau appoint former astronaut julie next governor general acting head state queen elizabeth representative canada reports said first canadian board international space station worked us russian space agencies notably governor general canada ceremonial commander chief \n",
      "Summary: canada to appoint former astronaut as acting head of state \n",
      "Abstract:  hillary clinton to be appointed as member member\n",
      "\n",
      "\n",
      "Original: samajwadi party leader azam khan accused indian army raping women kashmir jharkhand assam added females beat soldiers cut private parts revenge india truth women forced act army rapists message hindustan ashamed khan added \n",
      "Summary: women cut private parts of in revenge for rape azam \n",
      "Abstract:  kerala army leader accused of muslim women in kerala\n",
      "\n",
      "\n",
      "Original: hugging father daughter found earthquake tsunami hit indonesia found deceased man son said able save people unable save family death toll earthquake tsunami hit country last week risen \n",
      "Summary: hugging of father daughter found in indonesia \n",
      "Abstract:  father of daughter daughter in indonesia crash\n",
      "\n",
      "\n",
      "Original: united airlines flight attendant accused gay father molesting year old foster son flight following detained us airport attendant claimed hand across sleeping son lap close child genitals apologising family united said customers always treated utmost respect \n",
      "Summary: united airlines staff accuses gay dad of molesting son \n",
      "Abstract:  airline accused of flight for flight\n",
      "\n",
      "\n",
      "Original: bcci withdrew noc given cricketers irfan pathan rp singh play exhibition match bahrain reportedly game also featured banned player sreesanth irfan supposed lead one side eventually led west indies player game organised relative pakistani cricketer imran \n",
      "Summary: bcci bars irfan singh from playing in bahrain match \n",
      "Abstract:  bcci to play county match for icc next year\n",
      "\n",
      "\n",
      "Original: anil kapoor cameo daughter sonam kapoor upcoming film zoya factor per reports sonam uncle anil brother sanjay kapoor reportedly play role sonam father film also starring south indian actor dulquer salmaan lead role opposite sonam film directed abhishek sharma \n",
      "Summary: anil kapoor to do cameo in sonam the report \n",
      "Abstract:  sonam to star in arjun reddy wedding reports\n",
      "\n",
      "\n",
      "Original: indian cricketer cheteshwar pujara named man match adelaide test said proud father stage believed ability arvind pujara someone started coaching eight years old would like thank support pujara added \n",
      "Summary: my dad will be very proud of effort pujara \n"
     ]
    },
    {
     "name": "stdout",
     "output_type": "stream",
     "text": [
      "Abstract:  harbhajan and fan to be the india coach\n",
      "\n",
      "\n",
      "Original: us based smartphone app maker labs developed app called lets users hide notch apple iphone users choose pre loaded backgrounds within conceal notch import photos images notch free wallpaper iphone however hide notch apps running \n",
      "Summary: app lets users hide the in apple iphone \n",
      "Abstract:  apple lets users iphone without face id made\n",
      "\n",
      "\n",
      "Original: first team comprising scottish south african researchers demonstrated entanglement swapping orbital momentum patterns light property entanglement allows transfer information without physically transferring photons quantum light interfering photons information useless making signal \n",
      "Summary: physicists quantum light for first time \n",
      "Abstract:  world smallest quantum\n",
      "\n",
      "\n",
      "Original: around villages madhya pradesh allegedly given false open defecation free certificates swachh bharat abhiyan additional district magistrate district khan formed teams verify claims found people defecating open sarpanch secretary employment assistant village face action said \n",
      "Summary: mp villages declared open defecation free \n",
      "Abstract:  mp govt to get free name for women\n",
      "\n",
      "\n",
      "Original: police arrested year old former software company employee stealing gold ornaments worth lakh jewellery shops bengaluru accused committed theft january case filed police arrested friday based cctv footage investigation revealed committed another theft \n",
      "Summary: ex techie held for gold theft from jewellery shops in luru \n",
      "Abstract:  man held for stealing gold worth lakh\n",
      "\n",
      "\n",
      "Original: parcel containing explosives found office german finance minister earlier wednesday sent greece greek stamp greek police said notably became greece country debt crisis seen imposing greece exchange financial aid \n",
      "Summary: explosives sent to german finance minister from greece \n",
      "Abstract:  interpol member of corruption in new york\n",
      "\n",
      "\n",
      "Original: cauvery delta farmers association thursday staged protest blocked entrance tamil nadu secretariat demanding meeting cm edappadi palaniswami farmers wanted discuss supreme court verdict year old cauvery water sharing dispute reduced tamil nadu share also restricted movement deputy cm panneerselvam \n",
      "Summary: farmers block tn secretariat over meeting with cm \n",
      "Abstract:  tamil nadu farmers protest against cauvery protests\n",
      "\n",
      "\n",
      "Original: indian rounder krunal pandya named member strong squad upcoming first australia pandya played three career far strike rate notably indian squad also features dinesh karthik rishabh pant pant designated wicket keeper \n",
      "Summary: krunal included in india squad for st vs australia \n",
      "Abstract:  pandya called for ipl snub after years\n",
      "\n",
      "\n",
      "Original: fashion designer rahul mishra wife divya daughter turn two year seen runway show india couture week talking collection rahul said used lot sheer create light feel exploration controlled volume \n",
      "Summary: designer daughter makes appearance on runway for his show \n",
      "Abstract:  mother marries husband of daughter\n",
      "\n",
      "\n"
     ]
    }
   ],
   "source": [
    "for i in range(50, 80):\n",
    "    print(\"Original:\", seq2text(encoder_input_test[i]))\n",
    "    print(\"Summary:\", seq2headlines(decoder_input_test[i]))\n",
    "    print(\"Abstract:\", decode_sequence(encoder_input_test[i].reshape(1, text_max_len)))\n",
    "    print(\"\\n\")"
   ]
  },
  {
   "cell_type": "markdown",
   "id": "492a5114",
   "metadata": {},
   "source": [
    "### (10) 추출적 요약 - Summa 이용"
   ]
  },
  {
   "cell_type": "code",
   "execution_count": 62,
   "id": "942e33ae",
   "metadata": {},
   "outputs": [],
   "source": [
    "import requests\n",
    "from summa.summarizer import summarize"
   ]
  },
  {
   "cell_type": "code",
   "execution_count": 63,
   "id": "2e366333",
   "metadata": {},
   "outputs": [],
   "source": [
    "origin_data = pd.read_csv('./data/news_summary_more.csv', encoding='iso-8859-1')"
   ]
  },
  {
   "cell_type": "code",
   "execution_count": 69,
   "id": "2d9ca50b",
   "metadata": {},
   "outputs": [],
   "source": [
    "origin_text = origin_data['text']"
   ]
  },
  {
   "cell_type": "code",
   "execution_count": 74,
   "id": "a6c37e60",
   "metadata": {
    "scrolled": false
   },
   "outputs": [
    {
     "name": "stdout",
     "output_type": "stream",
     "text": [
      "Abstract:  singer singer passes away at\n",
      "Extract: Former Finance Minister Yashwant Sinha on Tuesday demanded a probe into the alleged diversion of loans worth Ã¢ÂÂ¹31,000 crore by Dewan Housing Finance (DHFL).\n",
      "\n",
      "\n",
      "Abstract:  akshay kumar shares his house of house\n",
      "Extract: Boeing retained its position as the world's largest planemaker for the seventh straight year, delivering 806 aircraft in 2018.\n",
      "\n",
      "\n",
      "Abstract:  govt to provide data to prevent data from users\n",
      "Extract: \n",
      "\n",
      "\n",
      "Abstract:  china becomes st to become dangal in china\n",
      "Extract: Further, its OnePlus 6 emerged as the highest selling premium smartphone of 2018 followed by OnePlus 6T.\n",
      "\n",
      "\n",
      "Abstract:  trump cannot be like to be like us prez trump\n",
      "Extract: Filmmaker Pooja Bhatt, while talking about the presentation of women in her films, said, \"I can never look at a female body, even if it's naked, in a vulgar manner.\" \"Our audience can say...the women in my films are bold or sensual, but never ever vulgar,\" she added.\n",
      "\n",
      "\n",
      "Abstract:  reliance jio to invest billion in sept quarter\n",
      "Extract: Actress Mishti, who has featured in 'Manikarnika: The Queen of Jhansi', has said the film's co-director Kangana Ranaut made false promises to the cast.\n",
      "\n",
      "\n",
      "Abstract:  panchayat poll panchayat poll results on panchayat poll\n",
      "Extract: The high-powered committee led by PM Narendra Modi to select the next CBI Director will meet again on February 1, Congress leader Mallikarjun Kharge has said.\n",
      "\n",
      "\n",
      "Abstract:  ab de villiers to play ab de villiers ab de\n",
      "Extract: Nevada State Athletic Commission has banned MMA fighters Conor McGregor and Khabib Nurmagomedov for six months and nine months respectively over their roles in the mass brawl that occurred after their fight at UFC 229 last October.\n",
      "\n",
      "\n",
      "Abstract:  england win world cup for fifa world cup\n",
      "Extract: Pakistan captain Sarfaraz Ahmed, who has been banned for four matches over racist remarks, took an apparent dig at his critics by sharing a video of a child reciting 'log hai na' poem on Twitter.\n",
      "\n",
      "\n",
      "Abstract:  india to buy oil for india to curb oil crisis\n",
      "Extract: Sreesanth further said the bookie tried dragging him into spot-fixing but he didn't fall for it.\n",
      "\n",
      "\n",
      "Abstract:  govt to pay crore to refund for aadhaar transactions\n",
      "Extract: The Finance Ministry on Wednesday said the government will present an Interim Budget on February 1.\n",
      "\n",
      "\n",
      "Abstract:  woman arrested for molesting woman flight at flight\n",
      "Extract: US President Donald Trump on Wednesday called his country's top intelligence chiefs \"naive\" and \"wrong\" on Iran and added that they should perhaps \"go back to school\".\n",
      "\n",
      "\n",
      "Abstract:  year old indian sets world record for\n",
      "Extract: A senior priest at the Vatican who handled cases of sexual abuse has quit after being accused of sexual abuse by a former nun.\n",
      "\n",
      "\n",
      "Abstract:  killed injured in bus accident in uttar pradesh\n",
      "Extract: A 22-year-old writer turned down a job offer, claiming she was bullied to the point of tears during her two-hour interview by a UK company's CEO.\n",
      "\n",
      "\n",
      "Abstract:  nirav modi seeks nirav modi to pnb reports\n",
      "Extract: Noida Police has arrested Sector 20 station in-charge Manoj Pant and three journalists for allegedly extorting money from a call centre owner for removing his name from an FIR.\n",
      "\n",
      "\n",
      "Abstract:  hillary clinton to be appointed as member member\n",
      "Extract: Airtel Africa, the holding company for Airtel's operations in 14 African countries, is preparing for an initial public offering.\n",
      "\n",
      "\n",
      "Abstract:  kerala army leader accused of muslim women in kerala\n",
      "Extract: Actor Shreyas Talpade said that 'Golmaal' filmmaker Rohit Shetty is still working on the script for the fifth instalment of the 'Golmaal' film franchise.\n",
      "Once he's done with the...scripting, he'll take a call,Ã¢ÂÂ the actor added.\n",
      "\n",
      "\n",
      "Abstract:  father of daughter daughter in indonesia crash\n",
      "Extract: A 72-year-old man named Terry Sanderson has sued 'Avengers' actress Gwyneth Paltrow for allegedly crashing into him while skiing, and is seeking $3.1 million (over Ã¢ÂÂ¹22 crore) in damages.\n",
      "\n",
      "\n",
      "Abstract:  airline accused of flight for flight\n",
      "Extract: Yami Gautam was felicitated by Border Security Force (BSF) in Amritsar for her performance in 'Uri: The Surgical Strike'.\n",
      "\n",
      "\n",
      "Abstract:  bcci to play county match for icc next year\n",
      "Extract: Social media giant Facebook has hired privacy critic Nate Cardozo, formerly the top legal counsel for US privacy watchdog EFF, as a privacy policy manager for WhatsApp. Cardozo had called Facebook a \"faceless corporation\" whose business model depends on user's confusion and indifference about privacy, in October 2015.\n",
      "\n",
      "\n",
      "Abstract:  sonam to star in arjun reddy wedding reports\n",
      "Extract: \"WeÃ¢ÂÂve decided to go back to (iPhone prices) more commensurate with...local prices...a year ago,\" Cook added.\n",
      "\n",
      "\n",
      "Abstract:  harbhajan and fan to be the india coach\n",
      "Extract: \"The majority of fatalities from shark bites is due to blood loss...shock from blood loss,\" a scientist said.\n",
      "\n",
      "\n",
      "Abstract:  apple lets users iphone without face id made\n",
      "Extract: BJP National Secretary Rahul Sinha on Wednesday asked the party workers in West Bengal to come armed with sticks to PM Narendra Modi's rally in the state on February 2.\n",
      "\n",
      "\n",
      "Abstract:  world smallest quantum\n",
      "Extract: BJP President Amit Shah on Wednesday took a dig at the Opposition parties saying that the 'mahagathbandhan' for the Opposition is 4B - \"Bua-Bhatija-Bhai-Behen\".\n",
      "\n",
      "\n",
      "Abstract:  mp govt to get free name for women\n",
      "Extract: Volkswagen's sales, including its MAN and Scania heavy trucks and buses, rose 0.9% to 10.83 million in 2018, the company had said.\n",
      "\n",
      "\n",
      "Abstract:  man held for stealing gold worth lakh\n",
      "Extract: Ousted Nissan Chairman Carlos Ghosn has said his arrest over alleged financial misconduct was led by \"plot and treason\" by the Japanese carmaker's executives who opposed its deeper integration with Renault and Mitsubishi.\n",
      "\n",
      "\n",
      "Abstract:  interpol member of corruption in new york\n",
      "Extract: The government has cut down customs duty on import of parts and components for electric vehicles to 10-15%, down from the previous 15-30%.\n",
      "\n",
      "\n",
      "Abstract:  tamil nadu farmers protest against cauvery protests\n",
      "Extract: Government officials on Wednesday said that a swine flu outbreak has killed 76 people this year in Rajasthan.\n",
      "\n",
      "\n",
      "Abstract:  pandya called for ipl snub after years\n",
      "Extract: \"North Korean leaders view nuclear arms as critical to regime survival,\" he added.\n",
      "\n",
      "\n",
      "Abstract:  mother marries husband of daughter\n",
      "Extract: Further, three aircraft have been temporarily grounded to carry out an engine normalisation exercise, it added.\n",
      "\n",
      "\n"
     ]
    }
   ],
   "source": [
    "abstract = []\n",
    "extract = []\n",
    "\n",
    "for i in range(50, 80):\n",
    "    a = decode_sequence(encoder_input_test[i].reshape(1, text_max_len))\n",
    "    e = summarize(origin_text[i], ratio=0.5)\n",
    "    print(\"Abstract:\", a)\n",
    "    print(\"Extract:\", e)\n",
    "    print(\"\\n\")\n",
    "    abstract.append(a)\n",
    "    extract.append(e)"
   ]
  },
  {
   "cell_type": "code",
   "execution_count": null,
   "id": "c30a46c3",
   "metadata": {},
   "outputs": [],
   "source": []
  }
 ],
 "metadata": {
  "kernelspec": {
   "display_name": "Python 3 (ipykernel)",
   "language": "python",
   "name": "python3"
  },
  "language_info": {
   "codemirror_mode": {
    "name": "ipython",
    "version": 3
   },
   "file_extension": ".py",
   "mimetype": "text/x-python",
   "name": "python",
   "nbconvert_exporter": "python",
   "pygments_lexer": "ipython3",
   "version": "3.9.7"
  }
 },
 "nbformat": 4,
 "nbformat_minor": 5
}
