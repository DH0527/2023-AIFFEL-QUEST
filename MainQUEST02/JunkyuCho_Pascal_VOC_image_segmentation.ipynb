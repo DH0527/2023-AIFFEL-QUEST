{
 "cells": [
  {
   "cell_type": "markdown",
   "metadata": {},
   "source": [
    "# Main Project 2 - U-Net을 이용한 이미지 세그멘테이션"
   ]
  },
  {
   "cell_type": "code",
   "execution_count": 18,
   "metadata": {},
   "outputs": [],
   "source": [
    "import os\n",
    "import random, math\n",
    "\n",
    "import pandas as pd\n",
    "import numpy as np\n",
    "import matplotlib.pyplot as plt\n",
    "\n",
    "import tensorflow as tf\n",
    "from tensorflow import keras\n",
    "from keras import layers, utils, Input, Model\n",
    "\n",
    "import warnings \n",
    "warnings.filterwarnings(action='ignore')"
   ]
  },
  {
   "cell_type": "markdown",
   "metadata": {},
   "source": [
    "### (1) 실습환경 준비"
   ]
  },
  {
   "cell_type": "code",
   "execution_count": null,
   "metadata": {},
   "outputs": [],
   "source": [
    "%pip install datasets\n",
    "%pip install huggingface_hub"
   ]
  },
  {
   "cell_type": "code",
   "execution_count": 2,
   "metadata": {},
   "outputs": [
    {
     "data": {
      "text/html": [
       "<div>\n",
       "<style scoped>\n",
       "    .dataframe tbody tr th:only-of-type {\n",
       "        vertical-align: middle;\n",
       "    }\n",
       "\n",
       "    .dataframe tbody tr th {\n",
       "        vertical-align: top;\n",
       "    }\n",
       "\n",
       "    .dataframe thead th {\n",
       "        text-align: right;\n",
       "    }\n",
       "</style>\n",
       "<table border=\"1\" class=\"dataframe\">\n",
       "  <thead>\n",
       "    <tr style=\"text-align: right;\">\n",
       "      <th></th>\n",
       "      <th>image</th>\n",
       "      <th>mask</th>\n",
       "    </tr>\n",
       "  </thead>\n",
       "  <tbody>\n",
       "    <tr>\n",
       "      <th>0</th>\n",
       "      <td>&lt;PIL.JpegImagePlugin.JpegImageFile image mode=...</td>\n",
       "      <td>&lt;PIL.PngImagePlugin.PngImageFile image mode=RG...</td>\n",
       "    </tr>\n",
       "    <tr>\n",
       "      <th>1</th>\n",
       "      <td>&lt;PIL.JpegImagePlugin.JpegImageFile image mode=...</td>\n",
       "      <td>&lt;PIL.PngImagePlugin.PngImageFile image mode=RG...</td>\n",
       "    </tr>\n",
       "    <tr>\n",
       "      <th>2</th>\n",
       "      <td>&lt;PIL.JpegImagePlugin.JpegImageFile image mode=...</td>\n",
       "      <td>&lt;PIL.PngImagePlugin.PngImageFile image mode=RG...</td>\n",
       "    </tr>\n",
       "    <tr>\n",
       "      <th>3</th>\n",
       "      <td>&lt;PIL.JpegImagePlugin.JpegImageFile image mode=...</td>\n",
       "      <td>&lt;PIL.PngImagePlugin.PngImageFile image mode=RG...</td>\n",
       "    </tr>\n",
       "    <tr>\n",
       "      <th>4</th>\n",
       "      <td>&lt;PIL.JpegImagePlugin.JpegImageFile image mode=...</td>\n",
       "      <td>&lt;PIL.PngImagePlugin.PngImageFile image mode=RG...</td>\n",
       "    </tr>\n",
       "    <tr>\n",
       "      <th>...</th>\n",
       "      <td>...</td>\n",
       "      <td>...</td>\n",
       "    </tr>\n",
       "    <tr>\n",
       "      <th>1459</th>\n",
       "      <td>&lt;PIL.JpegImagePlugin.JpegImageFile image mode=...</td>\n",
       "      <td>&lt;PIL.PngImagePlugin.PngImageFile image mode=RG...</td>\n",
       "    </tr>\n",
       "    <tr>\n",
       "      <th>1460</th>\n",
       "      <td>&lt;PIL.JpegImagePlugin.JpegImageFile image mode=...</td>\n",
       "      <td>&lt;PIL.PngImagePlugin.PngImageFile image mode=RG...</td>\n",
       "    </tr>\n",
       "    <tr>\n",
       "      <th>1461</th>\n",
       "      <td>&lt;PIL.JpegImagePlugin.JpegImageFile image mode=...</td>\n",
       "      <td>&lt;PIL.PngImagePlugin.PngImageFile image mode=RG...</td>\n",
       "    </tr>\n",
       "    <tr>\n",
       "      <th>1462</th>\n",
       "      <td>&lt;PIL.JpegImagePlugin.JpegImageFile image mode=...</td>\n",
       "      <td>&lt;PIL.PngImagePlugin.PngImageFile image mode=RG...</td>\n",
       "    </tr>\n",
       "    <tr>\n",
       "      <th>1463</th>\n",
       "      <td>&lt;PIL.JpegImagePlugin.JpegImageFile image mode=...</td>\n",
       "      <td>&lt;PIL.PngImagePlugin.PngImageFile image mode=RG...</td>\n",
       "    </tr>\n",
       "  </tbody>\n",
       "</table>\n",
       "<p>1464 rows × 2 columns</p>\n",
       "</div>"
      ],
      "text/plain": [
       "                                                  image  \\\n",
       "0     <PIL.JpegImagePlugin.JpegImageFile image mode=...   \n",
       "1     <PIL.JpegImagePlugin.JpegImageFile image mode=...   \n",
       "2     <PIL.JpegImagePlugin.JpegImageFile image mode=...   \n",
       "3     <PIL.JpegImagePlugin.JpegImageFile image mode=...   \n",
       "4     <PIL.JpegImagePlugin.JpegImageFile image mode=...   \n",
       "...                                                 ...   \n",
       "1459  <PIL.JpegImagePlugin.JpegImageFile image mode=...   \n",
       "1460  <PIL.JpegImagePlugin.JpegImageFile image mode=...   \n",
       "1461  <PIL.JpegImagePlugin.JpegImageFile image mode=...   \n",
       "1462  <PIL.JpegImagePlugin.JpegImageFile image mode=...   \n",
       "1463  <PIL.JpegImagePlugin.JpegImageFile image mode=...   \n",
       "\n",
       "                                                   mask  \n",
       "0     <PIL.PngImagePlugin.PngImageFile image mode=RG...  \n",
       "1     <PIL.PngImagePlugin.PngImageFile image mode=RG...  \n",
       "2     <PIL.PngImagePlugin.PngImageFile image mode=RG...  \n",
       "3     <PIL.PngImagePlugin.PngImageFile image mode=RG...  \n",
       "4     <PIL.PngImagePlugin.PngImageFile image mode=RG...  \n",
       "...                                                 ...  \n",
       "1459  <PIL.PngImagePlugin.PngImageFile image mode=RG...  \n",
       "1460  <PIL.PngImagePlugin.PngImageFile image mode=RG...  \n",
       "1461  <PIL.PngImagePlugin.PngImageFile image mode=RG...  \n",
       "1462  <PIL.PngImagePlugin.PngImageFile image mode=RG...  \n",
       "1463  <PIL.PngImagePlugin.PngImageFile image mode=RG...  \n",
       "\n",
       "[1464 rows x 2 columns]"
      ]
     },
     "execution_count": 2,
     "metadata": {},
     "output_type": "execute_result"
    }
   ],
   "source": [
    "import datasets\n",
    "from datasets import load_dataset\n",
    "\n",
    "train_dataset, val_dataset = load_dataset(\"nateraw/pascal-voc-2012\", split=['train', 'val'])\n",
    "dataset = pd.DataFrame(train_dataset)\n",
    "dataset"
   ]
  },
  {
   "cell_type": "markdown",
   "metadata": {},
   "source": [
    "### (2) 데이터 전처리"
   ]
  },
  {
   "cell_type": "code",
   "execution_count": 7,
   "metadata": {},
   "outputs": [
    {
     "data": {
      "text/plain": [
       "image      0\n",
       "mask       0\n",
       "reimage    0\n",
       "remask     0\n",
       "dtype: int64"
      ]
     },
     "execution_count": 7,
     "metadata": {},
     "output_type": "execute_result"
    }
   ],
   "source": [
    "from PIL import Image\n",
    "\n",
    "dataset['reimage'] = None\n",
    "dataset['remask'] = None\n",
    "\n",
    "# (572, 572)로 크기 조절\n",
    "for i in range(len(dataset)):\n",
    "    dataset['reimage'][i] = np.array(dataset['image'][i].resize((512, 512)))\n",
    "    dataset['remask'][i] = np.array(dataset['mask'][i].resize((512, 512)))\n",
    "\n",
    "# 결측치 확인\n",
    "dataset.isnull().sum()"
   ]
  },
  {
   "cell_type": "code",
   "execution_count": 8,
   "metadata": {},
   "outputs": [
    {
     "name": "stdout",
     "output_type": "stream",
     "text": [
      "(512, 512, 3)\n",
      "(512, 512, 3)\n"
     ]
    }
   ],
   "source": [
    "# data check\n",
    "print(np.shape(dataset['reimage'][0]))\n",
    "print(np.shape(dataset['remask'][0]))"
   ]
  },
  {
   "cell_type": "code",
   "execution_count": 9,
   "metadata": {},
   "outputs": [],
   "source": [
    "# train, test set split\n",
    "train_size = math.floor(len(dataset) * 0.7)\n",
    "val_size = math.floor(len(dataset) * 0.9)\n",
    "\n",
    "train_image = dataset['reimage'][:train_size]\n",
    "train_label = dataset['remask'][:train_size]\n",
    "\n",
    "val_image = dataset['reimage'][train_size:val_size]\n",
    "val_label = dataset['remask'][train_size:val_size]\n",
    "\n",
    "test_image = dataset['reimage'][val_size:]\n",
    "test_label = dataset['remask'][val_size:]"
   ]
  },
  {
   "cell_type": "markdown",
   "metadata": {},
   "source": [
    "### (3) U-Net 구현"
   ]
  },
  {
   "cell_type": "markdown",
   "metadata": {},
   "source": [
    "- Convolution block"
   ]
  },
  {
   "cell_type": "code",
   "execution_count": 22,
   "metadata": {},
   "outputs": [],
   "source": [
    "def conv_block(inputs, n_filters):\n",
    "    x = layers.Conv2D(n_filters, 3, padding='same')(inputs)\n",
    "    x = layers.BatchNormalization()(x)\n",
    "    x = layers.Activation('relu')(x)\n",
    "    x = layers.Conv2D(n_filters, 3, padding='same')(x)\n",
    "    x = layers.BatchNormalization()(x)\n",
    "    x = layers.Activation('relu')(x)\n",
    "\n",
    "    return x"
   ]
  },
  {
   "cell_type": "markdown",
   "metadata": {},
   "source": [
    "- Encoder block"
   ]
  },
  {
   "cell_type": "code",
   "execution_count": 23,
   "metadata": {},
   "outputs": [],
   "source": [
    "def encode_block(inputs, n_filters):\n",
    "    x = conv_block(inputs, n_filters)\n",
    "    e = layers.MaxPooling2D((2, 2))(x)\n",
    "\n",
    "    return x, e"
   ]
  },
  {
   "cell_type": "markdown",
   "metadata": {},
   "source": [
    "- Decoder block"
   ]
  },
  {
   "cell_type": "code",
   "execution_count": 24,
   "metadata": {},
   "outputs": [],
   "source": [
    "def decode_block(inputs, skip, n_filters):\n",
    "    d = layers.Conv2DTranspose(n_filters, (2, 2), strides=2, padding='same')(inputs)\n",
    "    x = layers.add([d, skip])\n",
    "    x = conv_block(x, n_filters)\n",
    "\n",
    "    return x"
   ]
  },
  {
   "cell_type": "markdown",
   "metadata": {},
   "source": [
    "- U-Net"
   ]
  },
  {
   "cell_type": "code",
   "execution_count": 27,
   "metadata": {},
   "outputs": [],
   "source": [
    "def UNET(n_classes):\n",
    "    inputs = Input(shape=(512, 512, 3))\n",
    "    \n",
    "    e1, x = encode_block(inputs, 64)\n",
    "    e2, x = encode_block(x, 128)\n",
    "    e3, x = encode_block(x, 256)\n",
    "    e4, x = encode_block(x, 512)\n",
    "\n",
    "    x = conv_block(x, 1024)\n",
    "\n",
    "    x = decode_block(x, e4, 512)\n",
    "    x = decode_block(x, e3, 256)\n",
    "    x = decode_block(x, e2, 128)\n",
    "    x = decode_block(x, e1, 64)\n",
    "\n",
    "    if n_classes == 1:\n",
    "        x = layers.Conv2D(n_classes, 1, padding='same', activation='sigmoid')(x)\n",
    "    else:\n",
    "        x = layers.Conv2D(n_classes, 1, padding='same', activation='softmax')(x)\n",
    "\n",
    "    return Model(inputs, x, name='U-Net')"
   ]
  },
  {
   "cell_type": "code",
   "execution_count": 32,
   "metadata": {},
   "outputs": [
    {
     "name": "stdout",
     "output_type": "stream",
     "text": [
      "Model: \"U-Net\"\n",
      "__________________________________________________________________________________________________\n",
      " Layer (type)                Output Shape                 Param #   Connected to                  \n",
      "==================================================================================================\n",
      " input_7 (InputLayer)        [(None, 512, 512, 3)]        0         []                            \n",
      "                                                                                                  \n",
      " conv2d_98 (Conv2D)          (None, 512, 512, 64)         1792      ['input_7[0][0]']             \n",
      "                                                                                                  \n",
      " batch_normalization_92 (Ba  (None, 512, 512, 64)         256       ['conv2d_98[0][0]']           \n",
      " tchNormalization)                                                                                \n",
      "                                                                                                  \n",
      " activation_92 (Activation)  (None, 512, 512, 64)         0         ['batch_normalization_92[0][0]\n",
      "                                                                    ']                            \n",
      "                                                                                                  \n",
      " conv2d_99 (Conv2D)          (None, 512, 512, 64)         36928     ['activation_92[0][0]']       \n",
      "                                                                                                  \n",
      " batch_normalization_93 (Ba  (None, 512, 512, 64)         256       ['conv2d_99[0][0]']           \n",
      " tchNormalization)                                                                                \n",
      "                                                                                                  \n",
      " activation_93 (Activation)  (None, 512, 512, 64)         0         ['batch_normalization_93[0][0]\n",
      "                                                                    ']                            \n",
      "                                                                                                  \n",
      " max_pooling2d_21 (MaxPooli  (None, 256, 256, 64)         0         ['activation_93[0][0]']       \n",
      " ng2D)                                                                                            \n",
      "                                                                                                  \n",
      " conv2d_100 (Conv2D)         (None, 256, 256, 128)        73856     ['max_pooling2d_21[0][0]']    \n",
      "                                                                                                  \n",
      " batch_normalization_94 (Ba  (None, 256, 256, 128)        512       ['conv2d_100[0][0]']          \n",
      " tchNormalization)                                                                                \n",
      "                                                                                                  \n",
      " activation_94 (Activation)  (None, 256, 256, 128)        0         ['batch_normalization_94[0][0]\n",
      "                                                                    ']                            \n",
      "                                                                                                  \n",
      " conv2d_101 (Conv2D)         (None, 256, 256, 128)        147584    ['activation_94[0][0]']       \n",
      "                                                                                                  \n",
      " batch_normalization_95 (Ba  (None, 256, 256, 128)        512       ['conv2d_101[0][0]']          \n",
      " tchNormalization)                                                                                \n",
      "                                                                                                  \n",
      " activation_95 (Activation)  (None, 256, 256, 128)        0         ['batch_normalization_95[0][0]\n",
      "                                                                    ']                            \n",
      "                                                                                                  \n",
      " max_pooling2d_22 (MaxPooli  (None, 128, 128, 128)        0         ['activation_95[0][0]']       \n",
      " ng2D)                                                                                            \n",
      "                                                                                                  \n",
      " conv2d_102 (Conv2D)         (None, 128, 128, 256)        295168    ['max_pooling2d_22[0][0]']    \n",
      "                                                                                                  \n",
      " batch_normalization_96 (Ba  (None, 128, 128, 256)        1024      ['conv2d_102[0][0]']          \n",
      " tchNormalization)                                                                                \n",
      "                                                                                                  \n",
      " activation_96 (Activation)  (None, 128, 128, 256)        0         ['batch_normalization_96[0][0]\n",
      "                                                                    ']                            \n",
      "                                                                                                  \n",
      " conv2d_103 (Conv2D)         (None, 128, 128, 256)        590080    ['activation_96[0][0]']       \n",
      "                                                                                                  \n",
      " batch_normalization_97 (Ba  (None, 128, 128, 256)        1024      ['conv2d_103[0][0]']          \n",
      " tchNormalization)                                                                                \n",
      "                                                                                                  \n",
      " activation_97 (Activation)  (None, 128, 128, 256)        0         ['batch_normalization_97[0][0]\n",
      "                                                                    ']                            \n",
      "                                                                                                  \n",
      " max_pooling2d_23 (MaxPooli  (None, 64, 64, 256)          0         ['activation_97[0][0]']       \n",
      " ng2D)                                                                                            \n",
      "                                                                                                  \n",
      " conv2d_104 (Conv2D)         (None, 64, 64, 512)          1180160   ['max_pooling2d_23[0][0]']    \n",
      "                                                                                                  \n",
      " batch_normalization_98 (Ba  (None, 64, 64, 512)          2048      ['conv2d_104[0][0]']          \n",
      " tchNormalization)                                                                                \n",
      "                                                                                                  \n",
      " activation_98 (Activation)  (None, 64, 64, 512)          0         ['batch_normalization_98[0][0]\n",
      "                                                                    ']                            \n",
      "                                                                                                  \n",
      " conv2d_105 (Conv2D)         (None, 64, 64, 512)          2359808   ['activation_98[0][0]']       \n",
      "                                                                                                  \n",
      " batch_normalization_99 (Ba  (None, 64, 64, 512)          2048      ['conv2d_105[0][0]']          \n",
      " tchNormalization)                                                                                \n",
      "                                                                                                  \n",
      " activation_99 (Activation)  (None, 64, 64, 512)          0         ['batch_normalization_99[0][0]\n",
      "                                                                    ']                            \n",
      "                                                                                                  \n",
      " max_pooling2d_24 (MaxPooli  (None, 32, 32, 512)          0         ['activation_99[0][0]']       \n",
      " ng2D)                                                                                            \n",
      "                                                                                                  \n",
      " conv2d_106 (Conv2D)         (None, 32, 32, 1024)         4719616   ['max_pooling2d_24[0][0]']    \n",
      "                                                                                                  \n",
      " batch_normalization_100 (B  (None, 32, 32, 1024)         4096      ['conv2d_106[0][0]']          \n",
      " atchNormalization)                                                                               \n",
      "                                                                                                  \n",
      " activation_100 (Activation  (None, 32, 32, 1024)         0         ['batch_normalization_100[0][0\n",
      " )                                                                  ]']                           \n",
      "                                                                                                  \n",
      " conv2d_107 (Conv2D)         (None, 32, 32, 1024)         9438208   ['activation_100[0][0]']      \n",
      "                                                                                                  \n",
      " batch_normalization_101 (B  (None, 32, 32, 1024)         4096      ['conv2d_107[0][0]']          \n",
      " atchNormalization)                                                                               \n",
      "                                                                                                  \n",
      " activation_101 (Activation  (None, 32, 32, 1024)         0         ['batch_normalization_101[0][0\n",
      " )                                                                  ]']                           \n",
      "                                                                                                  \n",
      " conv2d_transpose_20 (Conv2  (None, 64, 64, 512)          2097664   ['activation_101[0][0]']      \n",
      " DTranspose)                                                                                      \n",
      "                                                                                                  \n",
      " add_20 (Add)                (None, 64, 64, 512)          0         ['conv2d_transpose_20[0][0]', \n",
      "                                                                     'activation_99[0][0]']       \n",
      "                                                                                                  \n",
      " conv2d_108 (Conv2D)         (None, 64, 64, 512)          2359808   ['add_20[0][0]']              \n",
      "                                                                                                  \n",
      " batch_normalization_102 (B  (None, 64, 64, 512)          2048      ['conv2d_108[0][0]']          \n",
      " atchNormalization)                                                                               \n",
      "                                                                                                  \n",
      " activation_102 (Activation  (None, 64, 64, 512)          0         ['batch_normalization_102[0][0\n",
      " )                                                                  ]']                           \n",
      "                                                                                                  \n",
      " conv2d_109 (Conv2D)         (None, 64, 64, 512)          2359808   ['activation_102[0][0]']      \n",
      "                                                                                                  \n",
      " batch_normalization_103 (B  (None, 64, 64, 512)          2048      ['conv2d_109[0][0]']          \n",
      " atchNormalization)                                                                               \n",
      "                                                                                                  \n",
      " activation_103 (Activation  (None, 64, 64, 512)          0         ['batch_normalization_103[0][0\n",
      " )                                                                  ]']                           \n",
      "                                                                                                  \n",
      " conv2d_transpose_21 (Conv2  (None, 128, 128, 256)        524544    ['activation_103[0][0]']      \n",
      " DTranspose)                                                                                      \n",
      "                                                                                                  \n",
      " add_21 (Add)                (None, 128, 128, 256)        0         ['conv2d_transpose_21[0][0]', \n",
      "                                                                     'activation_97[0][0]']       \n",
      "                                                                                                  \n",
      " conv2d_110 (Conv2D)         (None, 128, 128, 256)        590080    ['add_21[0][0]']              \n",
      "                                                                                                  \n",
      " batch_normalization_104 (B  (None, 128, 128, 256)        1024      ['conv2d_110[0][0]']          \n",
      " atchNormalization)                                                                               \n",
      "                                                                                                  \n",
      " activation_104 (Activation  (None, 128, 128, 256)        0         ['batch_normalization_104[0][0\n",
      " )                                                                  ]']                           \n",
      "                                                                                                  \n",
      " conv2d_111 (Conv2D)         (None, 128, 128, 256)        590080    ['activation_104[0][0]']      \n",
      "                                                                                                  \n",
      " batch_normalization_105 (B  (None, 128, 128, 256)        1024      ['conv2d_111[0][0]']          \n",
      " atchNormalization)                                                                               \n",
      "                                                                                                  \n",
      " activation_105 (Activation  (None, 128, 128, 256)        0         ['batch_normalization_105[0][0\n",
      " )                                                                  ]']                           \n",
      "                                                                                                  \n",
      " conv2d_transpose_22 (Conv2  (None, 256, 256, 128)        131200    ['activation_105[0][0]']      \n",
      " DTranspose)                                                                                      \n",
      "                                                                                                  \n",
      " add_22 (Add)                (None, 256, 256, 128)        0         ['conv2d_transpose_22[0][0]', \n",
      "                                                                     'activation_95[0][0]']       \n",
      "                                                                                                  \n",
      " conv2d_112 (Conv2D)         (None, 256, 256, 128)        147584    ['add_22[0][0]']              \n",
      "                                                                                                  \n",
      " batch_normalization_106 (B  (None, 256, 256, 128)        512       ['conv2d_112[0][0]']          \n",
      " atchNormalization)                                                                               \n",
      "                                                                                                  \n",
      " activation_106 (Activation  (None, 256, 256, 128)        0         ['batch_normalization_106[0][0\n",
      " )                                                                  ]']                           \n",
      "                                                                                                  \n",
      " conv2d_113 (Conv2D)         (None, 256, 256, 128)        147584    ['activation_106[0][0]']      \n",
      "                                                                                                  \n",
      " batch_normalization_107 (B  (None, 256, 256, 128)        512       ['conv2d_113[0][0]']          \n",
      " atchNormalization)                                                                               \n",
      "                                                                                                  \n",
      " activation_107 (Activation  (None, 256, 256, 128)        0         ['batch_normalization_107[0][0\n",
      " )                                                                  ]']                           \n",
      "                                                                                                  \n",
      " conv2d_transpose_23 (Conv2  (None, 512, 512, 64)         32832     ['activation_107[0][0]']      \n",
      " DTranspose)                                                                                      \n",
      "                                                                                                  \n",
      " add_23 (Add)                (None, 512, 512, 64)         0         ['conv2d_transpose_23[0][0]', \n",
      "                                                                     'activation_93[0][0]']       \n",
      "                                                                                                  \n",
      " conv2d_114 (Conv2D)         (None, 512, 512, 64)         36928     ['add_23[0][0]']              \n",
      "                                                                                                  \n",
      " batch_normalization_108 (B  (None, 512, 512, 64)         256       ['conv2d_114[0][0]']          \n",
      " atchNormalization)                                                                               \n",
      "                                                                                                  \n",
      " activation_108 (Activation  (None, 512, 512, 64)         0         ['batch_normalization_108[0][0\n",
      " )                                                                  ]']                           \n",
      "                                                                                                  \n",
      " conv2d_115 (Conv2D)         (None, 512, 512, 64)         36928     ['activation_108[0][0]']      \n",
      "                                                                                                  \n",
      " batch_normalization_109 (B  (None, 512, 512, 64)         256       ['conv2d_115[0][0]']          \n",
      " atchNormalization)                                                                               \n",
      "                                                                                                  \n",
      " activation_109 (Activation  (None, 512, 512, 64)         0         ['batch_normalization_109[0][0\n",
      " )                                                                  ]']                           \n",
      "                                                                                                  \n",
      " conv2d_116 (Conv2D)         (None, 512, 512, 3)          195       ['activation_109[0][0]']      \n",
      "                                                                                                  \n",
      "==================================================================================================\n",
      "Total params: 27921987 (106.51 MB)\n",
      "Trainable params: 27910211 (106.47 MB)\n",
      "Non-trainable params: 11776 (46.00 KB)\n",
      "__________________________________________________________________________________________________\n"
     ]
    }
   ],
   "source": [
    "with tf.device('/GPU:0'):\n",
    "    model = UNET(3)\n",
    "\n",
    "    METRICS = [\n",
    "        'accuracy',\n",
    "        tf.keras.metrics.Precision(name='precision'),\n",
    "        tf.keras.metrics.Recall(name='recall')\n",
    "    ]\n",
    "    \n",
    "    model.compile(\n",
    "        optimizer='adam',\n",
    "        loss='sparse_categorical_crossentropy',\n",
    "        metrics=METRICS\n",
    "    )\n",
    "    \n",
    "    model.summary()"
   ]
  },
  {
   "cell_type": "code",
   "execution_count": 34,
   "metadata": {},
   "outputs": [
    {
     "name": "stdout",
     "output_type": "stream",
     "text": [
      "You must install pydot (`pip install pydot`) and install graphviz (see instructions at https://graphviz.gitlab.io/download/) for plot_model to work.\n"
     ]
    }
   ],
   "source": [
    "utils.plot_model(model)"
   ]
  },
  {
   "cell_type": "code",
   "execution_count": null,
   "metadata": {},
   "outputs": [],
   "source": []
  }
 ],
 "metadata": {
  "kernelspec": {
   "display_name": "Python 3",
   "language": "python",
   "name": "python3"
  },
  "language_info": {
   "codemirror_mode": {
    "name": "ipython",
    "version": 3
   },
   "file_extension": ".py",
   "mimetype": "text/x-python",
   "name": "python",
   "nbconvert_exporter": "python",
   "pygments_lexer": "ipython3",
   "version": "3.11.4"
  },
  "orig_nbformat": 4
 },
 "nbformat": 4,
 "nbformat_minor": 2
}
