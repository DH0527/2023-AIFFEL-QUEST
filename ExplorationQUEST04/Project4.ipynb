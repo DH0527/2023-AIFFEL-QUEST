{
 "cells": [
  {
   "cell_type": "markdown",
   "id": "b0397966",
   "metadata": {},
   "source": [
    "# Project 4 - 네이버 영화리뷰 감성분석 도전하기"
   ]
  },
  {
   "cell_type": "code",
   "execution_count": 1,
   "id": "4155fb6b",
   "metadata": {},
   "outputs": [],
   "source": [
    "import gensim\n",
    "import os\n",
    "\n",
    "from konlpy.tag import Mecab\n",
    "from collections import Counter\n",
    "\n",
    "import pandas as pd\n",
    "import numpy as np\n",
    "import tensorflow as tf\n",
    "import matplotlib.pyplot as plt"
   ]
  },
  {
   "cell_type": "markdown",
   "id": "303bc909",
   "metadata": {},
   "source": [
    "### (1) 데이터 준비 및 확인"
   ]
  },
  {
   "cell_type": "code",
   "execution_count": 2,
   "id": "97387233",
   "metadata": {},
   "outputs": [
    {
     "data": {
      "text/html": [
       "<div>\n",
       "<style scoped>\n",
       "    .dataframe tbody tr th:only-of-type {\n",
       "        vertical-align: middle;\n",
       "    }\n",
       "\n",
       "    .dataframe tbody tr th {\n",
       "        vertical-align: top;\n",
       "    }\n",
       "\n",
       "    .dataframe thead th {\n",
       "        text-align: right;\n",
       "    }\n",
       "</style>\n",
       "<table border=\"1\" class=\"dataframe\">\n",
       "  <thead>\n",
       "    <tr style=\"text-align: right;\">\n",
       "      <th></th>\n",
       "      <th>id</th>\n",
       "      <th>document</th>\n",
       "      <th>label</th>\n",
       "    </tr>\n",
       "  </thead>\n",
       "  <tbody>\n",
       "    <tr>\n",
       "      <th>0</th>\n",
       "      <td>9976970</td>\n",
       "      <td>아 더빙.. 진짜 짜증나네요 목소리</td>\n",
       "      <td>0</td>\n",
       "    </tr>\n",
       "    <tr>\n",
       "      <th>1</th>\n",
       "      <td>3819312</td>\n",
       "      <td>흠...포스터보고 초딩영화줄....오버연기조차 가볍지 않구나</td>\n",
       "      <td>1</td>\n",
       "    </tr>\n",
       "    <tr>\n",
       "      <th>2</th>\n",
       "      <td>10265843</td>\n",
       "      <td>너무재밓었다그래서보는것을추천한다</td>\n",
       "      <td>0</td>\n",
       "    </tr>\n",
       "    <tr>\n",
       "      <th>3</th>\n",
       "      <td>9045019</td>\n",
       "      <td>교도소 이야기구먼 ..솔직히 재미는 없다..평점 조정</td>\n",
       "      <td>0</td>\n",
       "    </tr>\n",
       "    <tr>\n",
       "      <th>4</th>\n",
       "      <td>6483659</td>\n",
       "      <td>사이몬페그의 익살스런 연기가 돋보였던 영화!스파이더맨에서 늙어보이기만 했던 커스틴 ...</td>\n",
       "      <td>1</td>\n",
       "    </tr>\n",
       "    <tr>\n",
       "      <th>...</th>\n",
       "      <td>...</td>\n",
       "      <td>...</td>\n",
       "      <td>...</td>\n",
       "    </tr>\n",
       "    <tr>\n",
       "      <th>149995</th>\n",
       "      <td>6222902</td>\n",
       "      <td>인간이 문제지.. 소는 뭔죄인가..</td>\n",
       "      <td>0</td>\n",
       "    </tr>\n",
       "    <tr>\n",
       "      <th>149996</th>\n",
       "      <td>8549745</td>\n",
       "      <td>평점이 너무 낮아서...</td>\n",
       "      <td>1</td>\n",
       "    </tr>\n",
       "    <tr>\n",
       "      <th>149997</th>\n",
       "      <td>9311800</td>\n",
       "      <td>이게 뭐요? 한국인은 거들먹거리고 필리핀 혼혈은 착하다?</td>\n",
       "      <td>0</td>\n",
       "    </tr>\n",
       "    <tr>\n",
       "      <th>149998</th>\n",
       "      <td>2376369</td>\n",
       "      <td>청춘 영화의 최고봉.방황과 우울했던 날들의 자화상</td>\n",
       "      <td>1</td>\n",
       "    </tr>\n",
       "    <tr>\n",
       "      <th>149999</th>\n",
       "      <td>9619869</td>\n",
       "      <td>한국 영화 최초로 수간하는 내용이 담긴 영화</td>\n",
       "      <td>0</td>\n",
       "    </tr>\n",
       "  </tbody>\n",
       "</table>\n",
       "<p>150000 rows × 3 columns</p>\n",
       "</div>"
      ],
      "text/plain": [
       "              id                                           document  label\n",
       "0        9976970                                아 더빙.. 진짜 짜증나네요 목소리      0\n",
       "1        3819312                  흠...포스터보고 초딩영화줄....오버연기조차 가볍지 않구나      1\n",
       "2       10265843                                  너무재밓었다그래서보는것을추천한다      0\n",
       "3        9045019                      교도소 이야기구먼 ..솔직히 재미는 없다..평점 조정      0\n",
       "4        6483659  사이몬페그의 익살스런 연기가 돋보였던 영화!스파이더맨에서 늙어보이기만 했던 커스틴 ...      1\n",
       "...          ...                                                ...    ...\n",
       "149995   6222902                                인간이 문제지.. 소는 뭔죄인가..      0\n",
       "149996   8549745                                      평점이 너무 낮아서...      1\n",
       "149997   9311800                    이게 뭐요? 한국인은 거들먹거리고 필리핀 혼혈은 착하다?      0\n",
       "149998   2376369                        청춘 영화의 최고봉.방황과 우울했던 날들의 자화상      1\n",
       "149999   9619869                           한국 영화 최초로 수간하는 내용이 담긴 영화      0\n",
       "\n",
       "[150000 rows x 3 columns]"
      ]
     },
     "execution_count": 2,
     "metadata": {},
     "output_type": "execute_result"
    }
   ],
   "source": [
    "train_data = pd.read_table('~/aiffel/sentiment_classification/data/ratings_train.txt') # 150000 데이터\n",
    "test_data = pd.read_table('~/aiffel/sentiment_classification/data/ratings_test.txt') # 50000 데이터\n",
    "\n",
    "train_data"
   ]
  },
  {
   "cell_type": "markdown",
   "id": "e59412dd",
   "metadata": {},
   "source": [
    "### (2) 데이터로더 구성"
   ]
  },
  {
   "cell_type": "code",
   "execution_count": 3,
   "id": "ac27cbc0",
   "metadata": {},
   "outputs": [],
   "source": [
    "tokenizer = Mecab()\n",
    "stopwords = ['의','가','이','은','들','는','좀','잘','걍','과','도','를','으로','자','에','와','한','하다']\n",
    "num_words = 10000"
   ]
  },
  {
   "cell_type": "markdown",
   "id": "99c6aec8",
   "metadata": {},
   "source": [
    "encode, decode 함수를 구현한다."
   ]
  },
  {
   "cell_type": "code",
   "execution_count": 4,
   "id": "ab688a4e",
   "metadata": {},
   "outputs": [],
   "source": [
    "# 영단어로 이루어진 벡터 -> 숫자 벡터로 encode\n",
    "# 단, 모든 문장은 <BOS>로 시작\n",
    "def get_encoded_word_vec(word_vec, word_to_index):\n",
    "    return [word_to_index['<BOS>']] + [word_to_index[word] if word in word_to_index else word_to_index['<UNK>'] for word in word_vec]\n",
    "\n",
    "# 여러 문장 한꺼번에 encode\n",
    "def get_encoded_word_vecs(word_vecs, word_to_index):\n",
    "    return [get_encoded_word_vec(word_vec, word_to_index) for word_vec in word_vecs]\n",
    "\n",
    "# 숫자로 encode된 벡터 -> 영단어 벡터로 decode\n",
    "# 단, [1:]를 통해 <BOS>를 제외\n",
    "def get_decoded_word_vec(enc_word_vec, index_to_word):\n",
    "    return [index_to_word[index] if index in index_to_word else '<UNK>' for index in enc_word_vec[1:]]\n",
    "\n",
    "# 여러 문장 한꺼번에 decode\n",
    "def get_decoded_word_vecs(enc_word_vecs, index_to_word):\n",
    "    return [get_decoded_word_vec(enc_word_vec, index_to_word) for enc_word_vec in enc_word_vecs]"
   ]
  },
  {
   "cell_type": "markdown",
   "id": "5da5ae84",
   "metadata": {},
   "source": [
    "data load 함수를 구현한다."
   ]
  },
  {
   "cell_type": "code",
   "execution_count": 5,
   "id": "30b4d44b",
   "metadata": {},
   "outputs": [],
   "source": [
    "def load_data(train_data, test_data, num_words=10000):\n",
    "    # 데이터 중복 및 결측치 제거\n",
    "    train_data.drop_duplicates(subset=['document'], inplace=True)\n",
    "    train_data = train_data.dropna(how = 'any') \n",
    "    test_data.drop_duplicates(subset=['document'], inplace=True)\n",
    "    test_data = test_data.dropna(how = 'any')\n",
    "\n",
    "    X_train = []\n",
    "    for sentence in train_data['document']:\n",
    "        # 문장을 형태소로 분리하고 stopwords에 없는 단어들만 추가\n",
    "        token_X = tokenizer.morphs(sentence)\n",
    "        X_train.append([word for word in token_X if not word in stopwords])\n",
    "\n",
    "    X_test = []\n",
    "    for sentence in test_data['document']:\n",
    "        # 문장을 형태소로 분리하고 stopwords에 없는 단어들만 추가\n",
    "        token_X = tokenizer.morphs(sentence)\n",
    "        X_test.append([word for word in token_X if not word in stopwords])\n",
    "    \n",
    "    # 가장 빈도수가 높은 10000개 단어 선택\n",
    "    words = np.concatenate(X_train).tolist()\n",
    "    counter = Counter(words)\n",
    "    counter = counter.most_common(num_words - 4)\n",
    "\n",
    "    # 단어 사전 구성\n",
    "    vocab = [\"<PAD>\", \"<BOS>\", \"<UNK>\", \"<UNUSED>\"] + [key for key, _ in counter]\n",
    "    index_to_word = {index : word for index, word in enumerate(vocab)}\n",
    "    word_to_index = {word : index for index, word in enumerate(vocab)}\n",
    "\n",
    "    X_train = get_encoded_word_vecs(X_train, word_to_index)\n",
    "    X_test = get_encoded_word_vecs(X_test, word_to_index)\n",
    "    y_train = list(train_data['label'])\n",
    "    y_test = list(test_data['label'])\n",
    "    \n",
    "    return X_train, np.array(y_train), X_test, np.array(y_test), index_to_word, word_to_index"
   ]
  },
  {
   "cell_type": "code",
   "execution_count": 6,
   "id": "07d6d657",
   "metadata": {},
   "outputs": [],
   "source": [
    "X_train, y_train, X_test, y_test, index_to_word, word_to_index = load_data(train_data, test_data, num_words)"
   ]
  },
  {
   "cell_type": "markdown",
   "id": "6a03f0fc",
   "metadata": {},
   "source": [
    "### (3) 모델 구성을 위한 데이터 분석 및 가공"
   ]
  },
  {
   "cell_type": "code",
   "execution_count": 7,
   "id": "581c6d39",
   "metadata": {},
   "outputs": [
    {
     "name": "stdout",
     "output_type": "stream",
     "text": [
      "문장길이 평균 : 16.96940191154864\n",
      "문장길이 최대 : 117\n",
      "문장길이 표준편차 : 12.843571191092\n",
      "maxlen : 42\n",
      "전체 문장의  93.1%가 maxlen 설정값 이내에 포함\n"
     ]
    }
   ],
   "source": [
    "# 텍스트데이터 문장길이 리스트 생성\n",
    "num_tokens = [len(tokens) for tokens in (X_train + X_test)]\n",
    "num_tokens = np.array(num_tokens)\n",
    "\n",
    "# 문장길이의 평균값, 최대값, 표준편차\n",
    "print('문장길이 평균 :', np.mean(num_tokens))\n",
    "print('문장길이 최대 :', np.max(num_tokens))\n",
    "print('문장길이 표준편차 :', np.std(num_tokens))\n",
    "\n",
    "# 최대 길이는 (평균 + 2*표준편차)로 설정\n",
    "maxlen = int(np.mean(num_tokens) + 2 * np.std(num_tokens))\n",
    "print('maxlen :', maxlen)\n",
    "print(f'전체 문장의 {np.sum(num_tokens < maxlen) / len(num_tokens) * 100 : .1f}%가 maxlen 설정값 이내에 포함')"
   ]
  },
  {
   "cell_type": "code",
   "execution_count": 8,
   "id": "eb04de4f",
   "metadata": {},
   "outputs": [],
   "source": [
    "# 최대 문장을 기준으로 padding 추가\n",
    "X_train = tf.keras.preprocessing.sequence.pad_sequences(X_train,\n",
    "                                                        value=word_to_index[\"<PAD>\"],\n",
    "                                                        padding='pre',\n",
    "                                                        maxlen=maxlen)\n",
    "\n",
    "X_test = tf.keras.preprocessing.sequence.pad_sequences(X_test,\n",
    "                                                       value=word_to_index[\"<PAD>\"],\n",
    "                                                       padding='pre',\n",
    "                                                       maxlen=maxlen)"
   ]
  },
  {
   "cell_type": "code",
   "execution_count": 9,
   "id": "2542a779",
   "metadata": {},
   "outputs": [
    {
     "name": "stdout",
     "output_type": "stream",
     "text": [
      "(146182, 42) (146182,) (49157, 42) (49157,)\n"
     ]
    }
   ],
   "source": [
    "print(X_train.shape, y_train.shape, X_test.shape, y_test.shape)"
   ]
  },
  {
   "cell_type": "markdown",
   "id": "669c5859",
   "metadata": {},
   "source": [
    "### (4) 모델 구성 및 validation set 구성"
   ]
  },
  {
   "cell_type": "code",
   "execution_count": 10,
   "id": "e26162ac",
   "metadata": {},
   "outputs": [
    {
     "name": "stdout",
     "output_type": "stream",
     "text": [
      "Model: \"cnn_16\"\n",
      "_________________________________________________________________\n",
      "Layer (type)                 Output Shape              Param #   \n",
      "=================================================================\n",
      "embedding (Embedding)        (None, None, 16)          160000    \n",
      "_________________________________________________________________\n",
      "conv1d (Conv1D)              (None, None, 16)          1808      \n",
      "_________________________________________________________________\n",
      "max_pooling1d (MaxPooling1D) (None, None, 16)          0         \n",
      "_________________________________________________________________\n",
      "conv1d_1 (Conv1D)            (None, None, 16)          1808      \n",
      "_________________________________________________________________\n",
      "global_max_pooling1d (Global (None, 16)                0         \n",
      "_________________________________________________________________\n",
      "dense (Dense)                (None, 8)                 136       \n",
      "_________________________________________________________________\n",
      "dense_1 (Dense)              (None, 1)                 9         \n",
      "=================================================================\n",
      "Total params: 163,761\n",
      "Trainable params: 163,761\n",
      "Non-trainable params: 0\n",
      "_________________________________________________________________\n"
     ]
    }
   ],
   "source": [
    "word_vector_dim = 16 # 워드 벡터의 차원 수\n",
    "\n",
    "cnn_16 = tf.keras.Sequential(name='cnn_16')\n",
    "cnn_16.add(tf.keras.layers.Embedding(num_words, word_vector_dim, input_shape=(None,)))\n",
    "cnn_16.add(tf.keras.layers.Conv1D(16, 7, activation='relu'))\n",
    "cnn_16.add(tf.keras.layers.MaxPooling1D(5))\n",
    "cnn_16.add(tf.keras.layers.Conv1D(16, 7, activation='relu'))\n",
    "cnn_16.add(tf.keras.layers.GlobalMaxPooling1D())\n",
    "cnn_16.add(tf.keras.layers.Dense(8, activation='relu'))\n",
    "cnn_16.add(tf.keras.layers.Dense(1, activation='sigmoid'))  # 최종 출력은 긍정/부정을 나타내는 1dim\n",
    "\n",
    "cnn_16.summary()"
   ]
  },
  {
   "cell_type": "code",
   "execution_count": 11,
   "id": "b558d8ee",
   "metadata": {},
   "outputs": [
    {
     "name": "stdout",
     "output_type": "stream",
     "text": [
      "Model: \"cnn_32\"\n",
      "_________________________________________________________________\n",
      "Layer (type)                 Output Shape              Param #   \n",
      "=================================================================\n",
      "embedding_1 (Embedding)      (None, None, 32)          320000    \n",
      "_________________________________________________________________\n",
      "conv1d_2 (Conv1D)            (None, None, 32)          7200      \n",
      "_________________________________________________________________\n",
      "max_pooling1d_1 (MaxPooling1 (None, None, 32)          0         \n",
      "_________________________________________________________________\n",
      "conv1d_3 (Conv1D)            (None, None, 16)          3600      \n",
      "_________________________________________________________________\n",
      "global_max_pooling1d_1 (Glob (None, 16)                0         \n",
      "_________________________________________________________________\n",
      "dense_2 (Dense)              (None, 8)                 136       \n",
      "_________________________________________________________________\n",
      "dense_3 (Dense)              (None, 1)                 9         \n",
      "=================================================================\n",
      "Total params: 330,945\n",
      "Trainable params: 330,945\n",
      "Non-trainable params: 0\n",
      "_________________________________________________________________\n"
     ]
    }
   ],
   "source": [
    "word_vector_dim = 32  # 워드 벡터의 차원 수 (변경 가능한 하이퍼파라미터)\n",
    "\n",
    "cnn_32 = tf.keras.Sequential(name='cnn_32')\n",
    "cnn_32.add(tf.keras.layers.Embedding(num_words, word_vector_dim, input_shape=(None,)))\n",
    "cnn_32.add(tf.keras.layers.Conv1D(32, 7, activation='relu'))\n",
    "cnn_32.add(tf.keras.layers.MaxPooling1D(5))\n",
    "cnn_32.add(tf.keras.layers.Conv1D(16, 7, activation='relu'))\n",
    "cnn_32.add(tf.keras.layers.GlobalMaxPooling1D())\n",
    "cnn_32.add(tf.keras.layers.Dense(8, activation='relu'))\n",
    "cnn_32.add(tf.keras.layers.Dense(1, activation='sigmoid'))  # 최종 출력은 긍정/부정을 나타내는 1dim\n",
    "\n",
    "cnn_32.summary()"
   ]
  },
  {
   "cell_type": "code",
   "execution_count": 12,
   "id": "9b25b703",
   "metadata": {},
   "outputs": [
    {
     "name": "stdout",
     "output_type": "stream",
     "text": [
      "Model: \"lstm\"\n",
      "_________________________________________________________________\n",
      "Layer (type)                 Output Shape              Param #   \n",
      "=================================================================\n",
      "embedding_2 (Embedding)      (None, None, 16)          160000    \n",
      "_________________________________________________________________\n",
      "lstm (LSTM)                  (None, 16)                2112      \n",
      "_________________________________________________________________\n",
      "dense_4 (Dense)              (None, 8)                 136       \n",
      "_________________________________________________________________\n",
      "dense_5 (Dense)              (None, 1)                 9         \n",
      "=================================================================\n",
      "Total params: 162,257\n",
      "Trainable params: 162,257\n",
      "Non-trainable params: 0\n",
      "_________________________________________________________________\n"
     ]
    }
   ],
   "source": [
    "word_vector_dim = 16 # 워드 벡터의 차원 수\n",
    "\n",
    "lstm = tf.keras.Sequential(name='lstm')\n",
    "lstm.add(tf.keras.layers.Embedding(num_words, word_vector_dim, input_shape=(None,)))\n",
    "lstm.add(tf.keras.layers.LSTM(16))\n",
    "lstm.add(tf.keras.layers.Dense(8, activation='relu'))\n",
    "lstm.add(tf.keras.layers.Dense(1, activation='sigmoid'))  # 최종 출력은 긍정/부정을 나타내는 1dim\n",
    "\n",
    "lstm.summary()"
   ]
  },
  {
   "cell_type": "code",
   "execution_count": 13,
   "id": "a2b556e7",
   "metadata": {
    "scrolled": true
   },
   "outputs": [
    {
     "name": "stdout",
     "output_type": "stream",
     "text": [
      "Model: \"gmp\"\n",
      "_________________________________________________________________\n",
      "Layer (type)                 Output Shape              Param #   \n",
      "=================================================================\n",
      "embedding_3 (Embedding)      (None, None, 16)          160000    \n",
      "_________________________________________________________________\n",
      "global_max_pooling1d_2 (Glob (None, 16)                0         \n",
      "_________________________________________________________________\n",
      "dense_6 (Dense)              (None, 8)                 136       \n",
      "_________________________________________________________________\n",
      "dense_7 (Dense)              (None, 1)                 9         \n",
      "=================================================================\n",
      "Total params: 160,145\n",
      "Trainable params: 160,145\n",
      "Non-trainable params: 0\n",
      "_________________________________________________________________\n"
     ]
    }
   ],
   "source": [
    "word_vector_dim = 16 # 워드 벡터의 차원 수\n",
    "\n",
    "gmp = tf.keras.Sequential(name='gmp')\n",
    "gmp.add(tf.keras.layers.Embedding(num_words, word_vector_dim, input_shape=(None,)))\n",
    "gmp.add(tf.keras.layers.GlobalMaxPooling1D())\n",
    "gmp.add(tf.keras.layers.Dense(8, activation='relu'))\n",
    "gmp.add(tf.keras.layers.Dense(1, activation='sigmoid'))  # 최종 출력은 긍정/부정을 나타내는 1dim 입니다.\n",
    "\n",
    "gmp.summary()"
   ]
  },
  {
   "cell_type": "code",
   "execution_count": 14,
   "id": "00d3b6cb",
   "metadata": {},
   "outputs": [],
   "source": [
    "models = [cnn_16, cnn_32, lstm, gmp]"
   ]
  },
  {
   "cell_type": "markdown",
   "id": "3f85277f",
   "metadata": {},
   "source": [
    "### (5) 모델 훈련"
   ]
  },
  {
   "cell_type": "code",
   "execution_count": 15,
   "id": "ff658de9",
   "metadata": {},
   "outputs": [],
   "source": [
    "# validation set 분리\n",
    "val_num = 50000\n",
    "X_val = X_train[:val_num]\n",
    "y_val = y_train[:val_num]\n",
    "\n",
    "# validation set을 제외한 나머지\n",
    "par_X_train = X_train[val_num:]  \n",
    "par_y_train = y_train[val_num:]\n",
    "\n",
    "history_dist = {}"
   ]
  },
  {
   "cell_type": "markdown",
   "id": "2c870400",
   "metadata": {},
   "source": [
    "vec dim 16 CNN, vec dim 32 CNN, LSTM, GlobalMaxPooling 이렇게 4가지 모델을 학습해본다."
   ]
  },
  {
   "cell_type": "code",
   "execution_count": 16,
   "id": "c3aa27e1",
   "metadata": {},
   "outputs": [
    {
     "name": "stdout",
     "output_type": "stream",
     "text": [
      "cnn_16 train start\n",
      "Epoch 1/10\n",
      "188/188 [==============================] - 5s 8ms/step - loss: 0.5644 - accuracy: 0.6817 - val_loss: 0.3819 - val_accuracy: 0.8283\n",
      "Epoch 2/10\n",
      "188/188 [==============================] - 1s 6ms/step - loss: 0.3509 - accuracy: 0.8470 - val_loss: 0.3580 - val_accuracy: 0.8403\n",
      "Epoch 3/10\n",
      "188/188 [==============================] - 1s 6ms/step - loss: 0.3073 - accuracy: 0.8699 - val_loss: 0.3583 - val_accuracy: 0.8420\n",
      "Epoch 4/10\n",
      "188/188 [==============================] - 1s 6ms/step - loss: 0.2763 - accuracy: 0.8854 - val_loss: 0.3660 - val_accuracy: 0.8408\n",
      "Epoch 5/10\n",
      "188/188 [==============================] - 1s 6ms/step - loss: 0.2445 - accuracy: 0.9010 - val_loss: 0.3827 - val_accuracy: 0.8366\n",
      "Epoch 6/10\n",
      "188/188 [==============================] - 1s 6ms/step - loss: 0.2124 - accuracy: 0.9166 - val_loss: 0.4062 - val_accuracy: 0.8364\n",
      "Epoch 7/10\n",
      "188/188 [==============================] - 1s 6ms/step - loss: 0.1796 - accuracy: 0.9324 - val_loss: 0.4444 - val_accuracy: 0.8324\n",
      "Epoch 8/10\n",
      "188/188 [==============================] - 1s 6ms/step - loss: 0.1501 - accuracy: 0.9460 - val_loss: 0.4955 - val_accuracy: 0.8293\n",
      "Epoch 9/10\n",
      "188/188 [==============================] - 1s 6ms/step - loss: 0.1248 - accuracy: 0.9562 - val_loss: 0.5374 - val_accuracy: 0.8266\n",
      "Epoch 10/10\n",
      "188/188 [==============================] - 1s 6ms/step - loss: 0.1050 - accuracy: 0.9641 - val_loss: 0.5815 - val_accuracy: 0.8236\n",
      "\n",
      "cnn_32 train start\n",
      "Epoch 1/10\n",
      "188/188 [==============================] - 2s 7ms/step - loss: 0.5196 - accuracy: 0.7289 - val_loss: 0.3708 - val_accuracy: 0.8355\n",
      "Epoch 2/10\n",
      "188/188 [==============================] - 1s 6ms/step - loss: 0.3426 - accuracy: 0.8524 - val_loss: 0.3564 - val_accuracy: 0.8416\n",
      "Epoch 3/10\n",
      "188/188 [==============================] - 1s 6ms/step - loss: 0.3017 - accuracy: 0.8729 - val_loss: 0.3545 - val_accuracy: 0.8445\n",
      "Epoch 4/10\n",
      "188/188 [==============================] - 1s 6ms/step - loss: 0.2672 - accuracy: 0.8902 - val_loss: 0.3598 - val_accuracy: 0.8442\n",
      "Epoch 5/10\n",
      "188/188 [==============================] - 1s 6ms/step - loss: 0.2271 - accuracy: 0.9115 - val_loss: 0.3850 - val_accuracy: 0.8403\n",
      "Epoch 6/10\n",
      "188/188 [==============================] - 1s 6ms/step - loss: 0.1863 - accuracy: 0.9304 - val_loss: 0.4220 - val_accuracy: 0.8357\n",
      "Epoch 7/10\n",
      "188/188 [==============================] - 1s 6ms/step - loss: 0.1471 - accuracy: 0.9474 - val_loss: 0.4624 - val_accuracy: 0.8336\n",
      "Epoch 8/10\n",
      "188/188 [==============================] - 1s 6ms/step - loss: 0.1141 - accuracy: 0.9603 - val_loss: 0.5233 - val_accuracy: 0.8313\n",
      "Epoch 9/10\n",
      "188/188 [==============================] - 1s 6ms/step - loss: 0.0893 - accuracy: 0.9704 - val_loss: 0.5910 - val_accuracy: 0.8287\n",
      "Epoch 10/10\n",
      "188/188 [==============================] - 1s 6ms/step - loss: 0.0717 - accuracy: 0.9765 - val_loss: 0.6319 - val_accuracy: 0.8234\n",
      "\n",
      "lstm train start\n",
      "Epoch 1/10\n",
      "188/188 [==============================] - 4s 9ms/step - loss: 0.5005 - accuracy: 0.7699 - val_loss: 0.3700 - val_accuracy: 0.8397\n",
      "Epoch 2/10\n",
      "188/188 [==============================] - 1s 7ms/step - loss: 0.3446 - accuracy: 0.8540 - val_loss: 0.3524 - val_accuracy: 0.8474\n",
      "Epoch 3/10\n",
      "188/188 [==============================] - 1s 7ms/step - loss: 0.3213 - accuracy: 0.8654 - val_loss: 0.3511 - val_accuracy: 0.8494\n",
      "Epoch 4/10\n",
      "188/188 [==============================] - 1s 7ms/step - loss: 0.3078 - accuracy: 0.8726 - val_loss: 0.3628 - val_accuracy: 0.8442\n",
      "Epoch 5/10\n",
      "188/188 [==============================] - 1s 7ms/step - loss: 0.3017 - accuracy: 0.8752 - val_loss: 0.3653 - val_accuracy: 0.8447\n",
      "Epoch 6/10\n",
      "188/188 [==============================] - 1s 7ms/step - loss: 0.2942 - accuracy: 0.8793 - val_loss: 0.3633 - val_accuracy: 0.8458\n",
      "Epoch 7/10\n",
      "188/188 [==============================] - 1s 7ms/step - loss: 0.2874 - accuracy: 0.8828 - val_loss: 0.3659 - val_accuracy: 0.8451\n",
      "Epoch 8/10\n",
      "188/188 [==============================] - 1s 7ms/step - loss: 0.2804 - accuracy: 0.8870 - val_loss: 0.3681 - val_accuracy: 0.8456\n",
      "Epoch 9/10\n",
      "188/188 [==============================] - 1s 7ms/step - loss: 0.2734 - accuracy: 0.8908 - val_loss: 0.3724 - val_accuracy: 0.8450\n",
      "Epoch 10/10\n",
      "188/188 [==============================] - 1s 7ms/step - loss: 0.2632 - accuracy: 0.8960 - val_loss: 0.3794 - val_accuracy: 0.8438\n",
      "\n",
      "gmp train start\n",
      "Epoch 1/10\n",
      "188/188 [==============================] - 2s 5ms/step - loss: 0.6235 - accuracy: 0.7227 - val_loss: 0.4955 - val_accuracy: 0.8119\n",
      "Epoch 2/10\n",
      "188/188 [==============================] - 1s 4ms/step - loss: 0.4111 - accuracy: 0.8317 - val_loss: 0.3762 - val_accuracy: 0.8363\n",
      "Epoch 3/10\n",
      "188/188 [==============================] - 1s 4ms/step - loss: 0.3397 - accuracy: 0.8564 - val_loss: 0.3585 - val_accuracy: 0.8419\n",
      "Epoch 4/10\n",
      "188/188 [==============================] - 1s 4ms/step - loss: 0.3070 - accuracy: 0.8719 - val_loss: 0.3552 - val_accuracy: 0.8445\n",
      "Epoch 5/10\n",
      "188/188 [==============================] - 1s 4ms/step - loss: 0.2834 - accuracy: 0.8820 - val_loss: 0.3573 - val_accuracy: 0.8451\n",
      "Epoch 6/10\n",
      "188/188 [==============================] - 1s 5ms/step - loss: 0.2646 - accuracy: 0.8921 - val_loss: 0.3633 - val_accuracy: 0.8446\n",
      "Epoch 7/10\n",
      "188/188 [==============================] - 1s 5ms/step - loss: 0.2484 - accuracy: 0.9002 - val_loss: 0.3715 - val_accuracy: 0.8440\n",
      "Epoch 8/10\n",
      "188/188 [==============================] - 1s 5ms/step - loss: 0.2342 - accuracy: 0.9069 - val_loss: 0.3816 - val_accuracy: 0.8421\n",
      "Epoch 9/10\n",
      "188/188 [==============================] - 1s 4ms/step - loss: 0.2215 - accuracy: 0.9127 - val_loss: 0.3922 - val_accuracy: 0.8405\n",
      "Epoch 10/10\n",
      "188/188 [==============================] - 1s 4ms/step - loss: 0.2099 - accuracy: 0.9189 - val_loss: 0.4037 - val_accuracy: 0.8391\n",
      "\n"
     ]
    }
   ],
   "source": [
    "for model in models:\n",
    "    print(model.name, \"train start\")\n",
    "    model.compile(optimizer='adam',\n",
    "                  loss='binary_crossentropy',\n",
    "                  metrics=['accuracy'])\n",
    "\n",
    "    epochs=10 \n",
    "\n",
    "    history = model.fit(par_X_train,\n",
    "                        np.array(par_y_train),\n",
    "                        epochs=epochs,\n",
    "                        batch_size=512,\n",
    "                        validation_data=(X_val, y_val),\n",
    "                        verbose=1)\n",
    "\n",
    "    history_dist[model.name] = history.history\n",
    "    print()"
   ]
  },
  {
   "cell_type": "markdown",
   "id": "120e047a",
   "metadata": {},
   "source": [
    "### (6) Loss, Accuracy 그래프 시각화"
   ]
  },
  {
   "cell_type": "code",
   "execution_count": 17,
   "id": "52ea2ebc",
   "metadata": {
    "scrolled": true
   },
   "outputs": [
    {
     "name": "stdout",
     "output_type": "stream",
     "text": [
      "cnn_16 result\n",
      "1537/1537 - 3s - loss: 0.5943 - accuracy: 0.8191\n",
      "[0.5942518711090088, 0.8190898299217224]\n",
      "\n",
      "cnn_32 result\n",
      "1537/1537 - 3s - loss: 0.6602 - accuracy: 0.8172\n",
      "[0.6602016091346741, 0.8172183036804199]\n",
      "\n",
      "lstm result\n",
      "1537/1537 - 3s - loss: 0.3909 - accuracy: 0.8386\n",
      "[0.39093881845474243, 0.8385580778121948]\n",
      "\n",
      "gmp result\n",
      "1537/1537 - 2s - loss: 0.4123 - accuracy: 0.8344\n",
      "[0.412265807390213, 0.8343877792358398]\n",
      "\n"
     ]
    }
   ],
   "source": [
    "for model in models:\n",
    "    print(model.name, \"result\")\n",
    "    print(model.evaluate(X_test, y_test, verbose=2))\n",
    "    print()"
   ]
  },
  {
   "cell_type": "code",
   "execution_count": 18,
   "id": "776d28bf",
   "metadata": {},
   "outputs": [
    {
     "data": {
      "image/png": "[encoded data removed]",
      "text/plain": [
       "<Figure size 432x288 with 1 Axes>"
      ]
     },
     "metadata": {
      "needs_background": "light"
     },
     "output_type": "display_data"
    }
   ],
   "source": [
    "color = ['b', 'r', 'g', 'y']\n",
    "num = 0\n",
    "\n",
    "for model, history in history_dist.items():\n",
    "    loss = history['loss']\n",
    "    val_loss = history['val_loss']\n",
    "\n",
    "    epochs = range(1, len(loss) + 1)\n",
    "\n",
    "    plt.plot(epochs, loss, color[num]+'o', label='TL '+model)\n",
    "    plt.plot(epochs, val_loss, color[num], label='VL '+model)\n",
    "    \n",
    "    num += 1\n",
    "    \n",
    "plt.title('Training and validation loss')\n",
    "plt.xlabel('Epochs')\n",
    "plt.ylabel('Loss')\n",
    "plt.legend(ncol=2)\n",
    "\n",
    "plt.show()"
   ]
  },
  {
   "cell_type": "markdown",
   "id": "1ede6035",
   "metadata": {},
   "source": [
    "CNN들은 training loss가 낮지만, epoch가 늘어날수록 validation loss가 크게 증가하였다.  \n",
    "LSTM, GMP는 training loss가 높지만, epoch가 늘어나도 validation loss가 크게 증가하진 않았다."
   ]
  },
  {
   "cell_type": "code",
   "execution_count": 19,
   "id": "39aceccf",
   "metadata": {},
   "outputs": [
    {
     "data": {
      "image/png": "[encoded data removed]",
      "text/plain": [
       "<Figure size 432x288 with 1 Axes>"
      ]
     },
     "metadata": {
      "needs_background": "light"
     },
     "output_type": "display_data"
    }
   ],
   "source": [
    "num = 0\n",
    "\n",
    "for model, history in history_dist.items():\n",
    "    acc = history['accuracy']\n",
    "    val_acc = history['val_accuracy']\n",
    "    \n",
    "    epochs = range(1, len(acc) + 1)\n",
    "    \n",
    "    plt.plot(epochs, acc, color[num]+'o', label='TA '+model)\n",
    "    plt.plot(epochs, val_acc, color[num], label='VA '+model)\n",
    "    \n",
    "    num += 1\n",
    "    \n",
    "plt.title('Training and validation accuracy')\n",
    "plt.xlabel('Epochs')\n",
    "plt.ylabel('Accuracy')\n",
    "plt.legend(ncol=2)\n",
    "\n",
    "plt.show()"
   ]
  },
  {
   "cell_type": "markdown",
   "id": "170c5b50",
   "metadata": {},
   "source": [
    "CNN들은 training accuracy가 높았지만, epoch이 늘어날수록 validation accuracy가 점점 낮아졌다.  \n",
    "LSTM, GMP는 training accuracy는 다소 낮았지만, epoch이 늘어날수록 validation accuracy가 낮아지진 않았다."
   ]
  },
  {
   "cell_type": "markdown",
   "id": "27ae9a96",
   "metadata": {},
   "source": [
    "### (7) 학습된 Embedding layer 분석"
   ]
  },
  {
   "cell_type": "code",
   "execution_count": 20,
   "id": "22e673c0",
   "metadata": {
    "scrolled": true
   },
   "outputs": [],
   "source": [
    "word2vec_file_paths = []\n",
    "\n",
    "for model in models: # 학습한 Embedding 파라미터를 파일에 저장\n",
    "    word2vec_file_path = './data/word2vec_{}.txt'.format(model.name)\n",
    "    word2vec_file_paths.append(word2vec_file_path)\n",
    "    \n",
    "    f = open(word2vec_file_path, 'w')\n",
    "    f.write('{} {}\\n'.format(num_words - 4, model.layers[0].output_dim)) # title\n",
    "\n",
    "    vectors = model.get_weights()[0]\n",
    "    for i in range(4, num_words):\n",
    "        f.write('{} {}\\n'.format(index_to_word[i], ' '.join(map(str, list(vectors[i, :])))))\n",
    "    f.close()"
   ]
  },
  {
   "cell_type": "code",
   "execution_count": 21,
   "id": "c98bee8c",
   "metadata": {},
   "outputs": [
    {
     "name": "stdout",
     "output_type": "stream",
     "text": [
      "[('무서웠', 0.7906397581100464), ('미드', 0.7865535020828247), ('외롭', 0.736176609992981), ('엉', 0.7345657348632812), ('한없이', 0.731546938419342), ('볼까', 0.7113322615623474), ('ㅣ', 0.7049014568328857), ('한번', 0.6985402703285217), ('파탄', 0.6983817219734192), ('들어오', 0.696330189704895)]\n",
      "[('연결', 0.627652108669281), ('내게', 0.5870734453201294), ('복잡', 0.5868930816650391), ('지효', 0.5737143158912659), ('습', 0.5455553531646729), ('다룬', 0.5431646704673767), ('중점', 0.5384677052497864), ('선배', 0.533012330532074), ('이걸로', 0.5251250267028809), ('드라', 0.5223225355148315)]\n",
      "[('멜', 0.8282473683357239), ('편성', 0.7847239971160889), ('달인', 0.7687711715698242), ('점줄', 0.7684017419815063), ('연말', 0.7640092372894287), ('쿠', 0.7356906533241272), ('케빈', 0.7091132998466492), ('관통', 0.7076927423477173), ('류승범', 0.707446813583374), ('ㅡㅡㅋ', 0.7024317383766174)]\n",
      "[('음', 0.992438018321991), ('너무', 0.9911234378814697), ('을', 0.9879825115203857), ('나', 0.9823884963989258), ('하', 0.9810553193092346), ('해', 0.9796835780143738), ('지', 0.9793301224708557), ('적', 0.9765158891677856), ('암튼', 0.9745075702667236), ('인', 0.9732681512832642)]\n"
     ]
    }
   ],
   "source": [
    "from gensim.models.keyedvectors import Word2VecKeyedVectors\n",
    "\n",
    "for word2vec_file_path in word2vec_file_paths:\n",
    "    word_vectors = Word2VecKeyedVectors.load_word2vec_format(word2vec_file_path, binary=False)\n",
    "    print(word_vectors.similar_by_word(\"영화\"))"
   ]
  },
  {
   "cell_type": "markdown",
   "id": "4dee384d",
   "metadata": {},
   "source": [
    "Embedding이 썩 잘 된 것 같지는 않다."
   ]
  },
  {
   "cell_type": "markdown",
   "id": "f76ee94e",
   "metadata": {},
   "source": [
    "### (8) 한국어 Word2Vec Embedding 활용하여 성능 개선"
   ]
  },
  {
   "cell_type": "code",
   "execution_count": 22,
   "id": "b9d6e767",
   "metadata": {},
   "outputs": [],
   "source": [
    "word2vec_path = './data/word2vec_ko.model'\n",
    "word2vec = Word2VecKeyedVectors.load(word2vec_path)"
   ]
  },
  {
   "cell_type": "code",
   "execution_count": 23,
   "id": "eaa6ff20",
   "metadata": {},
   "outputs": [
    {
     "data": {
      "text/plain": [
       "(100,)"
      ]
     },
     "execution_count": 23,
     "metadata": {},
     "output_type": "execute_result"
    }
   ],
   "source": [
    "word2vec.wv['영화'].shape # 100 dim"
   ]
  },
  {
   "cell_type": "code",
   "execution_count": 24,
   "id": "556d3f43",
   "metadata": {},
   "outputs": [
    {
     "data": {
      "text/plain": [
       "[('드라마', 0.8418774008750916),\n",
       " ('뮤지컬', 0.7775140404701233),\n",
       " ('코미디', 0.7489107251167297),\n",
       " ('다큐멘터리', 0.7401294708251953),\n",
       " ('헐리우드', 0.7397844195365906),\n",
       " ('애니메이션', 0.7170552015304565),\n",
       " ('독립영화', 0.7113528251647949),\n",
       " ('로맨틱', 0.7107657194137573),\n",
       " ('장편', 0.7101576924324036),\n",
       " ('극영화', 0.7045413255691528)]"
      ]
     },
     "execution_count": 24,
     "metadata": {},
     "output_type": "execute_result"
    }
   ],
   "source": [
    "word2vec.wv.similar_by_word(\"영화\")"
   ]
  },
  {
   "cell_type": "code",
   "execution_count": 25,
   "id": "98eb838d",
   "metadata": {},
   "outputs": [],
   "source": [
    "word_vector_dim = 100  # 워드 벡터의 차원수\n",
    "embedding_matrix = np.random.rand(num_words, word_vector_dim)\n",
    "\n",
    "# embedding_matrix에 Word2Vec 워드 벡터를 단어 하나씩마다 차례차례 카피한다.\n",
    "for i in range(4, num_words):\n",
    "    if index_to_word[i] in word2vec.wv:\n",
    "        embedding_matrix[i] = word2vec.wv[index_to_word[i]]"
   ]
  },
  {
   "cell_type": "markdown",
   "id": "2d045045",
   "metadata": {},
   "source": [
    "가장 성능이 좋았던 LSTM을 가지고 Embedding Matrix를 이용해 다시 학습한다."
   ]
  },
  {
   "cell_type": "code",
   "execution_count": 36,
   "id": "93392e6c",
   "metadata": {},
   "outputs": [
    {
     "name": "stdout",
     "output_type": "stream",
     "text": [
      "Model: \"kor_lstm\"\n",
      "_________________________________________________________________\n",
      "Layer (type)                 Output Shape              Param #   \n",
      "=================================================================\n",
      "embedding_6 (Embedding)      (None, None, 100)         1000000   \n",
      "_________________________________________________________________\n",
      "lstm_3 (LSTM)                (None, 100)               80400     \n",
      "_________________________________________________________________\n",
      "dense_12 (Dense)             (None, 8)                 808       \n",
      "_________________________________________________________________\n",
      "dense_13 (Dense)             (None, 1)                 9         \n",
      "=================================================================\n",
      "Total params: 1,081,217\n",
      "Trainable params: 1,081,217\n",
      "Non-trainable params: 0\n",
      "_________________________________________________________________\n"
     ]
    }
   ],
   "source": [
    "from tensorflow.keras.initializers import Constant\n",
    "\n",
    "kor_lstm = tf.keras.Sequential(name='kor_lstm')\n",
    "kor_lstm.add(tf.keras.layers.Embedding(num_words,\n",
    "                                       word_vector_dim,\n",
    "                                       embeddings_initializer=Constant(embedding_matrix), # 카피한 임베딩 활용\n",
    "                                       trainable=True,\n",
    "                                       input_shape=(None,)))\n",
    "kor_lstm.add(tf.keras.layers.LSTM(100))\n",
    "kor_lstm.add(tf.keras.layers.Dense(8, activation='relu'))\n",
    "kor_lstm.add(tf.keras.layers.Dense(1, activation='sigmoid'))  # 최종 출력은 긍정/부정을 나타내는 1dim\n",
    "\n",
    "kor_lstm.summary()"
   ]
  },
  {
   "cell_type": "code",
   "execution_count": 37,
   "id": "1749e101",
   "metadata": {
    "scrolled": true
   },
   "outputs": [
    {
     "name": "stdout",
     "output_type": "stream",
     "text": [
      "Epoch 1/10\n",
      "188/188 [==============================] - 4s 15ms/step - loss: 0.4982 - accuracy: 0.7526 - val_loss: 0.4140 - val_accuracy: 0.8120\n",
      "Epoch 2/10\n",
      "188/188 [==============================] - 2s 11ms/step - loss: 0.3747 - accuracy: 0.8330 - val_loss: 0.3689 - val_accuracy: 0.8363\n",
      "Epoch 3/10\n",
      "188/188 [==============================] - 2s 11ms/step - loss: 0.3248 - accuracy: 0.8595 - val_loss: 0.3531 - val_accuracy: 0.8430\n",
      "Epoch 4/10\n",
      "188/188 [==============================] - 2s 11ms/step - loss: 0.2886 - accuracy: 0.8779 - val_loss: 0.3415 - val_accuracy: 0.8526\n",
      "Epoch 5/10\n",
      "188/188 [==============================] - 2s 11ms/step - loss: 0.2627 - accuracy: 0.8895 - val_loss: 0.3366 - val_accuracy: 0.8574\n",
      "Epoch 6/10\n",
      "188/188 [==============================] - 2s 11ms/step - loss: 0.2403 - accuracy: 0.9014 - val_loss: 0.3410 - val_accuracy: 0.8580\n",
      "Epoch 7/10\n",
      "188/188 [==============================] - 2s 11ms/step - loss: 0.2189 - accuracy: 0.9122 - val_loss: 0.3459 - val_accuracy: 0.8578\n",
      "Epoch 8/10\n",
      "188/188 [==============================] - 2s 11ms/step - loss: 0.1985 - accuracy: 0.9218 - val_loss: 0.3587 - val_accuracy: 0.8585\n",
      "Epoch 9/10\n",
      "188/188 [==============================] - 2s 12ms/step - loss: 0.1775 - accuracy: 0.9314 - val_loss: 0.3824 - val_accuracy: 0.8551\n",
      "Epoch 10/10\n",
      "188/188 [==============================] - 2s 11ms/step - loss: 0.1580 - accuracy: 0.9399 - val_loss: 0.4078 - val_accuracy: 0.8551\n"
     ]
    }
   ],
   "source": [
    "# 학습의 진행\n",
    "kor_lstm.compile(optimizer='adam',\n",
    "              loss='binary_crossentropy',\n",
    "              metrics=['accuracy'])\n",
    "              \n",
    "epochs=10\n",
    "\n",
    "history = kor_lstm.fit(par_X_train,\n",
    "                    par_y_train,\n",
    "                    epochs=epochs,\n",
    "                    batch_size=512,\n",
    "                    validation_data=(X_val, y_val),\n",
    "                    verbose=1)\n",
    "\n",
    "history_dist[kor_lstm.name] = history.history"
   ]
  },
  {
   "cell_type": "markdown",
   "id": "f922b0e4",
   "metadata": {},
   "source": [
    "validation accuracy가 꽤 잘 나온 것 같다.  \n",
    "기존 LSTM과 비교해보자."
   ]
  },
  {
   "cell_type": "code",
   "execution_count": 38,
   "id": "e19149a3",
   "metadata": {},
   "outputs": [
    {
     "data": {
      "image/png": "[encoded data removed]",
      "text/plain": [
       "<Figure size 432x288 with 1 Axes>"
      ]
     },
     "metadata": {
      "needs_background": "light"
     },
     "output_type": "display_data"
    }
   ],
   "source": [
    "color = ['c', 'm']\n",
    "num = 0\n",
    "\n",
    "for model, history in history_dist.items():\n",
    "    if 'lstm' in model:\n",
    "        loss = history['loss']\n",
    "        val_loss = history['val_loss']\n",
    "\n",
    "        epochs = range(1, len(loss) + 1)\n",
    "\n",
    "        plt.plot(epochs, loss, color[num]+'o', label='TL '+model)\n",
    "        plt.plot(epochs, val_loss, color[num], label='VL '+model)\n",
    "\n",
    "        num += 1\n",
    "    \n",
    "plt.title('Training and validation loss')\n",
    "plt.xlabel('Epochs')\n",
    "plt.ylabel('Loss')\n",
    "plt.legend(ncol=2)\n",
    "\n",
    "plt.show()"
   ]
  },
  {
   "cell_type": "code",
   "execution_count": 39,
   "id": "41bf88d5",
   "metadata": {
    "scrolled": true
   },
   "outputs": [
    {
     "data": {
      "image/png": "[encoded data removed]",
      "text/plain": [
       "<Figure size 432x288 with 1 Axes>"
      ]
     },
     "metadata": {
      "needs_background": "light"
     },
     "output_type": "display_data"
    }
   ],
   "source": [
    "num = 0\n",
    "\n",
    "for model, history in history_dist.items():\n",
    "    if 'lstm' in model:\n",
    "        acc = history['accuracy']\n",
    "        val_acc = history['val_accuracy']\n",
    "\n",
    "        epochs = range(1, len(acc) + 1)\n",
    "\n",
    "        plt.plot(epochs, acc, color[num]+'o', label='TA '+model)\n",
    "        plt.plot(epochs, val_acc, color[num], label='VA '+model)\n",
    "\n",
    "        num += 1\n",
    "    \n",
    "plt.title('Training and validation accuracy')\n",
    "plt.xlabel('Epochs')\n",
    "plt.ylabel('Accuracy')\n",
    "plt.legend(ncol=2)\n",
    "\n",
    "plt.show()"
   ]
  },
  {
   "cell_type": "markdown",
   "id": "728a8301",
   "metadata": {},
   "source": [
    "기존 LSTM보다 accuracy가 더 높게 나왔다.  \n",
    "처음 몇 epoch에서는 기존보다 accuracy가 낮았지만, 4 epoch 정도 지나고부터는 역전하였다.  \n",
    "이는 기존보다 학습해야할 파라미터가 많기도 하고 단어사전의 차이도 있어서 생기는 현상이라고 생각한다."
   ]
  },
  {
   "cell_type": "code",
   "execution_count": 40,
   "id": "ed3f4f5f",
   "metadata": {},
   "outputs": [
    {
     "name": "stdout",
     "output_type": "stream",
     "text": [
      "lstm result\n",
      "1537/1537 - 3s - loss: 0.3909 - accuracy: 0.8386\n",
      "[0.39093881845474243, 0.8385580778121948]\n",
      "\n",
      "kor_lstm result\n",
      "1537/1537 - 3s - loss: 0.4144 - accuracy: 0.8517\n",
      "[0.4144410192966461, 0.8517403602600098]\n"
     ]
    }
   ],
   "source": [
    "print('lstm result')\n",
    "print(lstm.evaluate(X_test, y_test, verbose=2))\n",
    "print()\n",
    "print('kor_lstm result')\n",
    "print(kor_lstm.evaluate(X_test, y_test, verbose=2))"
   ]
  },
  {
   "cell_type": "markdown",
   "id": "1611e28f",
   "metadata": {},
   "source": [
    "최종 test accuracy는 0.85를 넘긴 것을 확인할 수 있었다."
   ]
  },
  {
   "cell_type": "code",
   "execution_count": null,
   "id": "74ed7836",
   "metadata": {},
   "outputs": [],
   "source": []
  }
 ],
 "metadata": {
  "kernelspec": {
   "display_name": "Python 3 (ipykernel)",
   "language": "python",
   "name": "python3"
  },
  "language_info": {
   "codemirror_mode": {
    "name": "ipython",
    "version": 3
   },
   "file_extension": ".py",
   "mimetype": "text/x-python",
   "name": "python",
   "nbconvert_exporter": "python",
   "pygments_lexer": "ipython3",
   "version": "3.9.7"
  }
 },
 "nbformat": 4,
 "nbformat_minor": 5
}
