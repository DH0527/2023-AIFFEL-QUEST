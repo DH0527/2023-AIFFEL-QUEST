{
 "cells": [
  {
   "cell_type": "markdown",
   "id": "94f17fa3",
   "metadata": {},
   "source": [
    "# Project 8 - 한국어 데이터로 챗봇 만들기"
   ]
  },
  {
   "cell_type": "code",
   "execution_count": 1,
   "id": "815e5f93",
   "metadata": {},
   "outputs": [],
   "source": [
    "import os\n",
    "import re\n",
    "\n",
    "import tensorflow as tf\n",
    "import tensorflow_datasets as tfds\n",
    "\n",
    "import pandas as pd\n",
    "import numpy as np\n",
    "import matplotlib.pyplot as plt"
   ]
  },
  {
   "cell_type": "markdown",
   "id": "b7f14c70",
   "metadata": {},
   "source": [
    "### (1) 데이터 수집 및 불러오기"
   ]
  },
  {
   "cell_type": "code",
   "execution_count": 2,
   "id": "2b7492a9",
   "metadata": {},
   "outputs": [],
   "source": [
    "path_to_chatbot_data = './data/ChatbotData.csv'\n",
    "data = pd.read_csv(path_to_chatbot_data)"
   ]
  },
  {
   "cell_type": "code",
   "execution_count": 3,
   "id": "cc6d90e5",
   "metadata": {},
   "outputs": [
    {
     "name": "stdout",
     "output_type": "stream",
     "text": [
      "(11823, 3)\n"
     ]
    },
    {
     "data": {
      "text/html": [
       "<div>\n",
       "<style scoped>\n",
       "    .dataframe tbody tr th:only-of-type {\n",
       "        vertical-align: middle;\n",
       "    }\n",
       "\n",
       "    .dataframe tbody tr th {\n",
       "        vertical-align: top;\n",
       "    }\n",
       "\n",
       "    .dataframe thead th {\n",
       "        text-align: right;\n",
       "    }\n",
       "</style>\n",
       "<table border=\"1\" class=\"dataframe\">\n",
       "  <thead>\n",
       "    <tr style=\"text-align: right;\">\n",
       "      <th></th>\n",
       "      <th>Q</th>\n",
       "      <th>A</th>\n",
       "      <th>label</th>\n",
       "    </tr>\n",
       "  </thead>\n",
       "  <tbody>\n",
       "    <tr>\n",
       "      <th>0</th>\n",
       "      <td>12시 땡!</td>\n",
       "      <td>하루가 또 가네요.</td>\n",
       "      <td>0</td>\n",
       "    </tr>\n",
       "    <tr>\n",
       "      <th>1</th>\n",
       "      <td>1지망 학교 떨어졌어</td>\n",
       "      <td>위로해 드립니다.</td>\n",
       "      <td>0</td>\n",
       "    </tr>\n",
       "    <tr>\n",
       "      <th>2</th>\n",
       "      <td>3박4일 놀러가고 싶다</td>\n",
       "      <td>여행은 언제나 좋죠.</td>\n",
       "      <td>0</td>\n",
       "    </tr>\n",
       "    <tr>\n",
       "      <th>3</th>\n",
       "      <td>3박4일 정도 놀러가고 싶다</td>\n",
       "      <td>여행은 언제나 좋죠.</td>\n",
       "      <td>0</td>\n",
       "    </tr>\n",
       "    <tr>\n",
       "      <th>4</th>\n",
       "      <td>PPL 심하네</td>\n",
       "      <td>눈살이 찌푸려지죠.</td>\n",
       "      <td>0</td>\n",
       "    </tr>\n",
       "  </tbody>\n",
       "</table>\n",
       "</div>"
      ],
      "text/plain": [
       "                 Q            A  label\n",
       "0           12시 땡!   하루가 또 가네요.      0\n",
       "1      1지망 학교 떨어졌어    위로해 드립니다.      0\n",
       "2     3박4일 놀러가고 싶다  여행은 언제나 좋죠.      0\n",
       "3  3박4일 정도 놀러가고 싶다  여행은 언제나 좋죠.      0\n",
       "4          PPL 심하네   눈살이 찌푸려지죠.      0"
      ]
     },
     "execution_count": 3,
     "metadata": {},
     "output_type": "execute_result"
    }
   ],
   "source": [
    "print(data.shape)\n",
    "data.head()"
   ]
  },
  {
   "cell_type": "markdown",
   "id": "66ee9471",
   "metadata": {},
   "source": [
    "### (2) 데이터 전처리"
   ]
  },
  {
   "cell_type": "markdown",
   "id": "d1879c81",
   "metadata": {},
   "source": [
    "__전처리 함수 작성 (데이터셋 가공)__\n",
    "\n",
    "- 정규 표현식(Regular Expression)을 사용하여 구두점(punctuation) 제거\n",
    "- 단어 토크나이징(tokenizing)에 방해가 되지 않도록 정제"
   ]
  },
  {
   "cell_type": "code",
   "execution_count": 4,
   "id": "db4d94c3",
   "metadata": {},
   "outputs": [],
   "source": [
    "# 전처리 함수\n",
    "def preprocess_sentence(sentence):    \n",
    "    sentence = sentence.lower().strip() # 입력받은 sentence를 소문자로 변경하고 양쪽 공백 제거\n",
    "\n",
    "    # 단어와 구두점(punctuation) 사이의 거리를 만듦.\n",
    "    sentence = re.sub(r\"([?.!,])\", r\" \\1 \", sentence)\n",
    "    sentence = re.sub(r'[\" \"]+', \" \", sentence)\n",
    "\n",
    "    # (한글, 알파벳, 숫자 \".\", \"?\", \"!\", \",\")를 제외한 모든 문자를 공백으로 대체\n",
    "    sentence = re.sub(r\"[^가-힣a-zA-Z0-9?.!,]+\", \" \", sentence)\n",
    "    sentence = sentence.strip()\n",
    "    \n",
    "    return sentence"
   ]
  },
  {
   "cell_type": "markdown",
   "id": "bbc30da6",
   "metadata": {},
   "source": [
    "__데이터 로드 함수 작성 (질문과 답변의 쌍인 데이터셋 구성)__\n",
    "- 데이터를 로드하는 동시에 전처리 함수를 호출하여 질문과 답변의 쌍을 전처리함."
   ]
  },
  {
   "cell_type": "code",
   "execution_count": 5,
   "id": "6d5b9cd1",
   "metadata": {},
   "outputs": [],
   "source": [
    "# 데이터 로드 함수\n",
    "def load_conversations():\n",
    "    inputs, outputs = [], []\n",
    "\n",
    "    for i in range(len(data)):\n",
    "        # 전처리 함수를 질문에 해당되는 inputs과 답변에 해당되는 outputs에 적용\n",
    "        inputs.append(preprocess_sentence(data['Q'].values[i]))\n",
    "        outputs.append(preprocess_sentence(data['A'].values[i]))\n",
    "        \n",
    "    return inputs, outputs"
   ]
  },
  {
   "cell_type": "markdown",
   "id": "1e791fc7",
   "metadata": {},
   "source": [
    "__데이터 로드와 전처리 수행__"
   ]
  },
  {
   "cell_type": "code",
   "execution_count": 6,
   "id": "dc88cfde",
   "metadata": {},
   "outputs": [
    {
     "name": "stdout",
     "output_type": "stream",
     "text": [
      "전체 샘플 수 : 11823\n",
      "전체 샘플 수 : 11823\n"
     ]
    }
   ],
   "source": [
    "# 데이터를 로드하고 전처리하여 질문, 답변을 각각 questions, answers에 저장\n",
    "questions, answers = load_conversations()\n",
    "\n",
    "print('전체 샘플 수 :', len(questions))\n",
    "print('전체 샘플 수 :', len(answers))"
   ]
  },
  {
   "cell_type": "code",
   "execution_count": 13,
   "id": "4da30b64",
   "metadata": {},
   "outputs": [
    {
     "name": "stdout",
     "output_type": "stream",
     "text": [
      "전처리 후의 22번째 질문 샘플: 가스비 장난 아님\n",
      "전처리 후의 22번째 답변 샘플: 다음 달에는 더 절약해봐요 .\n"
     ]
    }
   ],
   "source": [
    "# sample 출력\n",
    "i = 21\n",
    "print('전처리 후의 {}번째 질문 샘플: {}'.format(i + 1, questions[i]))\n",
    "print('전처리 후의 {}번째 답변 샘플: {}'.format(i + 1, answers[i]))"
   ]
  },
  {
   "cell_type": "markdown",
   "id": "109cd02b",
   "metadata": {},
   "source": [
    "### (3) 병렬 데이터 전처리 (SubwordTextEncoder)"
   ]
  },
  {
   "cell_type": "markdown",
   "id": "a99e5e95",
   "metadata": {},
   "source": [
    "__단어장(Vocabulary) 만들기__\n",
    "- 내부 단어 토크나이저인 SubwordTextEncoder을 사용해 단어장 생성"
   ]
  },
  {
   "cell_type": "code",
   "execution_count": 8,
   "id": "e84497ce",
   "metadata": {},
   "outputs": [],
   "source": [
    "# 질문과 답변 데이터셋에 대한 Vocabulary 생성\n",
    "tokenizer = tfds.deprecated.text.SubwordTextEncoder.build_from_corpus(questions + answers, target_vocab_size=2**13)"
   ]
  },
  {
   "cell_type": "code",
   "execution_count": 9,
   "id": "db5d0cf1",
   "metadata": {},
   "outputs": [],
   "source": [
    "# 시작 토큰과 종료 토큰에 고유한 정수 부여\n",
    "START_TOKEN, END_TOKEN = [tokenizer.vocab_size], [tokenizer.vocab_size + 1]"
   ]
  },
  {
   "cell_type": "code",
   "execution_count": 10,
   "id": "9bd85d77",
   "metadata": {},
   "outputs": [
    {
     "name": "stdout",
     "output_type": "stream",
     "text": [
      "START_TOKEN의 번호 : [8162]\n",
      "END_TOKEN의 번호 : [8163]\n"
     ]
    }
   ],
   "source": [
    "print('START_TOKEN의 번호 :' ,[tokenizer.vocab_size])\n",
    "print('END_TOKEN의 번호 :' ,[tokenizer.vocab_size + 1])"
   ]
  },
  {
   "cell_type": "code",
   "execution_count": 11,
   "id": "2728669f",
   "metadata": {},
   "outputs": [
    {
     "name": "stdout",
     "output_type": "stream",
     "text": [
      "8164\n"
     ]
    }
   ],
   "source": [
    "# (단어장의 크기가 8,162이므로) 시작 토큰과 종료 토큰을 고려한 단어장 크기 산정\n",
    "VOCAB_SIZE = tokenizer.vocab_size + 2\n",
    "print(VOCAB_SIZE)"
   ]
  },
  {
   "cell_type": "markdown",
   "id": "bff87be9",
   "metadata": {},
   "source": [
    "__정수 인코딩(Integer encoding)과 패딩(Padding)__\n",
    "- tokenizer.decode()를 통해 정수 시퀀스를 단어 시퀀스로 변환"
   ]
  },
  {
   "cell_type": "code",
   "execution_count": 15,
   "id": "cab93d47",
   "metadata": {
    "scrolled": true
   },
   "outputs": [
    {
     "name": "stdout",
     "output_type": "stream",
     "text": [
      "정수 인코딩 후의 22번째 질문 샘플: [5756, 610, 2486, 4158]\n",
      "정수 인코딩 후의 22번째 답변 샘플: [2355, 7502, 7, 6266, 97, 1]\n"
     ]
    }
   ],
   "source": [
    "# 정수 인코딩 sample 출력\n",
    "print('정수 인코딩 후의 {}번째 질문 샘플: {}'.format(i + 1, tokenizer.encode(questions[i])))\n",
    "print('정수 인코딩 후의 {}번째 답변 샘플: {}'.format(i + 1, tokenizer.encode(answers[i])))"
   ]
  },
  {
   "cell_type": "code",
   "execution_count": 16,
   "id": "73e2c174",
   "metadata": {},
   "outputs": [
    {
     "name": "stdout",
     "output_type": "stream",
     "text": [
      "질문의 최소 길이 : 1\n",
      "질문의 최대 길이 : 16\n",
      "질문의 평균 길이 : 3.9378330373001775\n",
      "답변의 최소 길이 : 1\n",
      "답변의 최대 길이 : 24\n",
      "답변의 평균 길이 : 4.716146494121627\n"
     ]
    }
   ],
   "source": [
    "# 질문과 답변의 길이 분포\n",
    "question_len = [len(s.split()) for s in questions]\n",
    "answer_len = [len(s.split()) for s in answers]\n",
    "\n",
    "print('질문의 최소 길이 : {}'.format(np.min(question_len)))\n",
    "print('질문의 최대 길이 : {}'.format(np.max(question_len)))\n",
    "print('질문의 평균 길이 : {}'.format(np.mean(question_len)))\n",
    "print('답변의 최소 길이 : {}'.format(np.min(answer_len)))\n",
    "print('답변의 최대 길이 : {}'.format(np.max(answer_len)))\n",
    "print('답변의 평균 길이 : {}'.format(np.mean(answer_len)))"
   ]
  },
  {
   "cell_type": "code",
   "execution_count": 17,
   "id": "c0f04662",
   "metadata": {},
   "outputs": [
    {
     "data": {
      "image/png": "[encoded data removed]",
      "text/plain": [
       "<Figure size 432x288 with 2 Axes>"
      ]
     },
     "metadata": {
      "needs_background": "light"
     },
     "output_type": "display_data"
    },
    {
     "data": {
      "image/png": "[encoded data removed]",
      "text/plain": [
       "<Figure size 432x288 with 1 Axes>"
      ]
     },
     "metadata": {
      "needs_background": "light"
     },
     "output_type": "display_data"
    },
    {
     "data": {
      "image/png": "[encoded data removed]",
      "text/plain": [
       "<Figure size 432x288 with 1 Axes>"
      ]
     },
     "metadata": {
      "needs_background": "light"
     },
     "output_type": "display_data"
    }
   ],
   "source": [
    "plt.subplot(1,2,1)\n",
    "plt.boxplot(question_len)\n",
    "plt.title('questions')\n",
    "plt.subplot(1,2,2)\n",
    "plt.boxplot(answer_len)\n",
    "plt.title('answers')\n",
    "plt.tight_layout()\n",
    "plt.show()\n",
    "\n",
    "plt.title('questions')\n",
    "plt.hist(question_len, bins = 40)\n",
    "plt.xlabel('length of samples')\n",
    "plt.ylabel('number of samples')\n",
    "plt.show()\n",
    "\n",
    "plt.title('answers')\n",
    "plt.hist(answer_len, bins = 40)\n",
    "plt.xlabel('length of samples')\n",
    "plt.ylabel('number of samples')\n",
    "plt.show()"
   ]
  },
  {
   "cell_type": "markdown",
   "id": "0d96eb42",
   "metadata": {},
   "source": [
    "__전체 질문과 답변 셋에 대해서 정수 인코딩 수행__"
   ]
  },
  {
   "cell_type": "code",
   "execution_count": 18,
   "id": "ee07a1a1",
   "metadata": {},
   "outputs": [],
   "source": [
    "# 문장의 최대 길이를 정하고, 해당 길이로 패딩(padding)\n",
    "MAX_LENGTH = 10"
   ]
  },
  {
   "cell_type": "code",
   "execution_count": 19,
   "id": "1e566fea",
   "metadata": {},
   "outputs": [],
   "source": [
    "def below_threshold_len(max_len, len_list):\n",
    "    cnt = 0\n",
    "    for s in len_list:\n",
    "        if(s <= max_len):\n",
    "            cnt = cnt + 1\n",
    "    print('전체 샘플 중 길이가 %s 이하인 샘플의 비율: %s'%(max_len, (cnt / len(len_list))))"
   ]
  },
  {
   "cell_type": "code",
   "execution_count": 20,
   "id": "487ab548",
   "metadata": {},
   "outputs": [
    {
     "name": "stdout",
     "output_type": "stream",
     "text": [
      "전체 샘플 중 길이가 10 이하인 샘플의 비율: 0.9956017931151147\n",
      "전체 샘플 중 길이가 10 이하인 샘플의 비율: 0.9853675040175929\n"
     ]
    }
   ],
   "source": [
    "below_threshold_len(MAX_LENGTH, question_len)\n",
    "below_threshold_len(MAX_LENGTH, answer_len)"
   ]
  },
  {
   "cell_type": "code",
   "execution_count": 21,
   "id": "78ddc340",
   "metadata": {},
   "outputs": [],
   "source": [
    "# 정수 인코딩, 최대 길이를 초과하는 샘플 제거, 패딩\n",
    "def tokenize_and_filter(inputs, outputs):\n",
    "    tokenized_inputs, tokenized_outputs = [], []\n",
    "\n",
    "    for (sentence1, sentence2) in zip(inputs, outputs):\n",
    "        # 정수 인코딩 과정에서 시작 토큰과 종료 토큰을 추가\n",
    "        sentence1 = START_TOKEN + tokenizer.encode(sentence1) + END_TOKEN\n",
    "        sentence2 = START_TOKEN + tokenizer.encode(sentence2) + END_TOKEN\n",
    "\n",
    "        # 최대 길이 10 이하인 경우에만 데이터셋으로 허용\n",
    "        if len(sentence1) <= MAX_LENGTH and len(sentence2) <= MAX_LENGTH:\n",
    "            tokenized_inputs.append(sentence1)\n",
    "            tokenized_outputs.append(sentence2)\n",
    "\n",
    "    # 최대 길이 10로 모든 데이터셋을 패딩\n",
    "    tokenized_inputs = tf.keras.preprocessing.sequence.pad_sequences(\n",
    "        tokenized_inputs, maxlen=MAX_LENGTH, padding='post')\n",
    "    tokenized_outputs = tf.keras.preprocessing.sequence.pad_sequences(\n",
    "        tokenized_outputs, maxlen=MAX_LENGTH, padding='post')\n",
    "\n",
    "    return tokenized_inputs, tokenized_outputs"
   ]
  },
  {
   "cell_type": "code",
   "execution_count": 22,
   "id": "909d442d",
   "metadata": {},
   "outputs": [
    {
     "name": "stdout",
     "output_type": "stream",
     "text": [
      "단어장의 크기 : 8164\n",
      "필터링 후의 질문 샘플 개수: 9108\n",
      "필터링 후의 답변 샘플 개수: 9108\n"
     ]
    }
   ],
   "source": [
    "# 필터링 된 단어장의 크기와 샘플 개수 확인\n",
    "questions, answers = tokenize_and_filter(questions, answers)\n",
    "print('단어장의 크기 :',(VOCAB_SIZE))\n",
    "print('필터링 후의 질문 샘플 개수: {}'.format(len(questions)))\n",
    "print('필터링 후의 답변 샘플 개수: {}'.format(len(answers)))"
   ]
  },
  {
   "cell_type": "markdown",
   "id": "c8b33a1c",
   "metadata": {},
   "source": [
    "__교사 강요(Teacher Forcing) 사용하기__"
   ]
  },
  {
   "cell_type": "code",
   "execution_count": 23,
   "id": "aefa124e",
   "metadata": {},
   "outputs": [],
   "source": [
    "BATCH_SIZE = 64\n",
    "BUFFER_SIZE = 20000"
   ]
  },
  {
   "cell_type": "code",
   "execution_count": 24,
   "id": "f327338d",
   "metadata": {},
   "outputs": [],
   "source": [
    "# 디코더는 이전의 target을 다음의 input으로 사용\n",
    "# 이에 따라 outputs에서는 START_TOKEN 제거\n",
    "\n",
    "dataset = tf.data.Dataset.from_tensor_slices((\n",
    "    {\n",
    "        'inputs': questions,\n",
    "        'dec_inputs': answers[:, :-1]\n",
    "    },\n",
    "    {\n",
    "        'outputs': answers[:, 1:]\n",
    "    },\n",
    "))\n",
    "\n",
    "dataset = dataset.cache()\n",
    "dataset = dataset.shuffle(BUFFER_SIZE)\n",
    "dataset = dataset.batch(BATCH_SIZE)\n",
    "dataset = dataset.prefetch(tf.data.experimental.AUTOTUNE)"
   ]
  },
  {
   "cell_type": "markdown",
   "id": "e9e4e8c1",
   "metadata": {},
   "source": [
    "### (4) 모델 구성하기"
   ]
  },
  {
   "cell_type": "markdown",
   "id": "471d6ee8",
   "metadata": {},
   "source": [
    "__Positional Encoding__"
   ]
  },
  {
   "cell_type": "code",
   "execution_count": 26,
   "id": "140ea0e5",
   "metadata": {},
   "outputs": [],
   "source": [
    "class PositionalEncoding(tf.keras.layers.Layer):\n",
    "\n",
    "    def __init__(self, position, d_model):\n",
    "        super(PositionalEncoding, self).__init__()\n",
    "        self.pos_encoding = self.positional_encoding(position, d_model)\n",
    "\n",
    "    def get_angles(self, position, i, d_model):\n",
    "        angles = 1 / tf.pow(10000, (2 * (i // 2)) / tf.cast(d_model, tf.float32))\n",
    "        return position * angles\n",
    "\n",
    "    def positional_encoding(self, position, d_model):\n",
    "        # 각도 배열 생성\n",
    "        angle_rads = self.get_angles(\n",
    "            position=tf.range(position, dtype=tf.float32)[:, tf.newaxis],\n",
    "            i=tf.range(d_model, dtype=tf.float32)[tf.newaxis, :],\n",
    "            d_model=d_model)\n",
    "\n",
    "        # 배열의 짝수 인덱스에는 sin 함수 적용\n",
    "        sines = tf.math.sin(angle_rads[:, 0::2])\n",
    "        # 배열의 홀수 인덱스에는 cosine 함수 적용\n",
    "        cosines = tf.math.cos(angle_rads[:, 1::2])\n",
    "\n",
    "        # sin과 cosine이 교차되도록 재배열\n",
    "        pos_encoding = tf.stack([sines, cosines], axis=0)\n",
    "        pos_encoding = tf.transpose(pos_encoding,[1, 2, 0]) \n",
    "        pos_encoding = tf.reshape(pos_encoding, [position, d_model])\n",
    "\n",
    "        pos_encoding = pos_encoding[tf.newaxis, ...]\n",
    "        return tf.cast(pos_encoding, tf.float32)\n",
    "\n",
    "    def call(self, inputs):\n",
    "        return inputs + self.pos_encoding[:, :tf.shape(inputs)[1], :]"
   ]
  },
  {
   "cell_type": "markdown",
   "id": "e05a77f7",
   "metadata": {},
   "source": [
    "__Attention__"
   ]
  },
  {
   "cell_type": "markdown",
   "id": "56c702f6",
   "metadata": {},
   "source": [
    "- Scaled Dot Product Attention"
   ]
  },
  {
   "cell_type": "code",
   "execution_count": 27,
   "id": "ed99b151",
   "metadata": {},
   "outputs": [],
   "source": [
    "def scaled_dot_product_attention(query, key, value, mask):\n",
    "    # 어텐션 가중치는 Q와 K의 닷 프로덕트\n",
    "    matmul_qk = tf.matmul(query, key, transpose_b=True)\n",
    "\n",
    "    # 가중치를 정규화\n",
    "    depth = tf.cast(tf.shape(key)[-1], tf.float32)\n",
    "    logits = matmul_qk / tf.math.sqrt(depth)\n",
    "\n",
    "    # 패딩에 마스크 추가\n",
    "    if mask is not None:\n",
    "        logits += (mask * -1e9)\n",
    "\n",
    "    # softmax적용\n",
    "    attention_weights = tf.nn.softmax(logits, axis=-1)\n",
    "\n",
    "    # 최종 어텐션은 가중치와 V의 닷 프로덕트\n",
    "    output = tf.matmul(attention_weights, value)\n",
    "    \n",
    "    return output"
   ]
  },
  {
   "cell_type": "markdown",
   "id": "d06e357f",
   "metadata": {},
   "source": [
    "- Multi Head Attention"
   ]
  },
  {
   "cell_type": "code",
   "execution_count": 28,
   "id": "8ed0c883",
   "metadata": {},
   "outputs": [],
   "source": [
    "class MultiHeadAttention(tf.keras.layers.Layer):\n",
    "\n",
    "    def __init__(self, d_model, num_heads, name=\"multi_head_attention\"):\n",
    "        super(MultiHeadAttention, self).__init__(name=name)\n",
    "        self.num_heads = num_heads\n",
    "        self.d_model = d_model\n",
    "\n",
    "        assert d_model % self.num_heads == 0\n",
    "\n",
    "        self.depth = d_model // self.num_heads\n",
    "\n",
    "        self.query_dense = tf.keras.layers.Dense(units=d_model)\n",
    "        self.key_dense = tf.keras.layers.Dense(units=d_model)\n",
    "        self.value_dense = tf.keras.layers.Dense(units=d_model)\n",
    "\n",
    "        self.dense = tf.keras.layers.Dense(units=d_model)\n",
    "\n",
    "    def split_heads(self, inputs, batch_size):\n",
    "        inputs = tf.reshape(\n",
    "            inputs, shape=(batch_size, -1, self.num_heads, self.depth))\n",
    "        return tf.transpose(inputs, perm=[0, 2, 1, 3])\n",
    "\n",
    "    def call(self, inputs):\n",
    "        query, key, value, mask = inputs['query'], inputs['key'], inputs[\n",
    "            'value'], inputs['mask']\n",
    "        batch_size = tf.shape(query)[0]\n",
    "\n",
    "        # Q, K, V에 각각 Dense를 적용합니다\n",
    "        query = self.query_dense(query)\n",
    "        key = self.key_dense(key)\n",
    "        value = self.value_dense(value)\n",
    "\n",
    "        # 병렬 연산을 위한 머리를 여러 개 만듭니다\n",
    "        query = self.split_heads(query, batch_size)\n",
    "        key = self.split_heads(key, batch_size)\n",
    "        value = self.split_heads(value, batch_size)\n",
    "\n",
    "        # 스케일드 닷 프로덕트 어텐션 함수\n",
    "        scaled_attention = scaled_dot_product_attention(query, key, value, mask)\n",
    "\n",
    "        scaled_attention = tf.transpose(scaled_attention, perm=[0, 2, 1, 3])\n",
    "\n",
    "        # 어텐션 연산 후에 각 결과를 다시 연결(concatenate)합니다\n",
    "        concat_attention = tf.reshape(scaled_attention,\n",
    "                                      (batch_size, -1, self.d_model))\n",
    "\n",
    "        # 최종 결과에도 Dense를 한 번 더 적용합니다\n",
    "        outputs = self.dense(concat_attention)\n",
    "\n",
    "        return outputs"
   ]
  },
  {
   "cell_type": "markdown",
   "id": "c410a891",
   "metadata": {},
   "source": [
    "__마스킹(Masking)__"
   ]
  },
  {
   "cell_type": "markdown",
   "id": "c3325121",
   "metadata": {},
   "source": [
    "- 패딩 마스킹(Padding Masking)"
   ]
  },
  {
   "cell_type": "code",
   "execution_count": 29,
   "id": "ea7b7a74",
   "metadata": {},
   "outputs": [],
   "source": [
    "def create_padding_mask(x):\n",
    "    mask = tf.cast(tf.math.equal(x, 0), tf.float32)\n",
    "    # (batch_size, 1, 1, sequence length)\n",
    "    return mask[:, tf.newaxis, tf.newaxis, :]"
   ]
  },
  {
   "cell_type": "markdown",
   "id": "09843eea",
   "metadata": {},
   "source": [
    "- 룩 어헤드 마스킹(Look-ahead masking, 다음 단어 가리기)"
   ]
  },
  {
   "cell_type": "code",
   "execution_count": 30,
   "id": "171bf31d",
   "metadata": {},
   "outputs": [],
   "source": [
    "def create_look_ahead_mask(x):\n",
    "    seq_len = tf.shape(x)[1]\n",
    "    look_ahead_mask = 1 - tf.linalg.band_part(tf.ones((seq_len, seq_len)), -1, 0)\n",
    "    padding_mask = create_padding_mask(x)\n",
    "    \n",
    "    return tf.maximum(look_ahead_mask, padding_mask)"
   ]
  },
  {
   "cell_type": "markdown",
   "id": "34be30e7",
   "metadata": {},
   "source": [
    "__인코더(Encoder)__"
   ]
  },
  {
   "cell_type": "markdown",
   "id": "21516f26",
   "metadata": {},
   "source": [
    "#### 1) 인코더 층 만들기"
   ]
  },
  {
   "cell_type": "code",
   "execution_count": 68,
   "id": "a7289eb2",
   "metadata": {},
   "outputs": [],
   "source": [
    "# 두 개의 서브 층을 가지는 하나의 인코더 층을 구현하는 함수\n",
    "# 1) 셀프 어텐션  2) 피드 포워드 신경망"
   ]
  },
  {
   "cell_type": "code",
   "execution_count": 69,
   "id": "9fde74e0",
   "metadata": {},
   "outputs": [],
   "source": [
    "def encoder_layer(units, d_model, num_heads, dropout, name=\"encoder_layer\"):\n",
    "    inputs = tf.keras.Input(shape=(None, d_model), name=\"inputs\")\n",
    "\n",
    "    # 패딩 마스크 사용\n",
    "    padding_mask = tf.keras.Input(shape=(1, 1, None), name=\"padding_mask\")\n",
    "\n",
    "    # 첫 번째 서브 레이어 : 멀티 헤드 어텐션 수행 (셀프 어텐션)\n",
    "    attention = MultiHeadAttention(\n",
    "        d_model, num_heads, name=\"attention\")({\n",
    "            'query': inputs,\n",
    "            'key': inputs,\n",
    "            'value': inputs,\n",
    "            'mask': padding_mask\n",
    "        })\n",
    "\n",
    "    # 어텐션의 결과는 Dropout과 Layer Normalization이라는 훈련을 돕는 테크닉을 수행\n",
    "    attention = tf.keras.layers.Dropout(rate=dropout)(attention)\n",
    "    attention = tf.keras.layers.LayerNormalization(\n",
    "        epsilon=1e-6)(inputs + attention)\n",
    "\n",
    "    # 두 번째 서브 레이어 : 2개의 완전연결층\n",
    "    outputs = tf.keras.layers.Dense(units=units, activation='relu')(attention)\n",
    "    outputs = tf.keras.layers.Dense(units=d_model)(outputs)\n",
    "\n",
    "    # 완전연결층의 결과는 Dropout과 LayerNormalization이라는 훈련을 돕는 테크닉을 수행\n",
    "    outputs = tf.keras.layers.Dropout(rate=dropout)(outputs)\n",
    "    outputs = tf.keras.layers.LayerNormalization(\n",
    "        epsilon=1e-6)(attention + outputs)\n",
    "\n",
    "    return tf.keras.Model(\n",
    "        inputs=[inputs, padding_mask], outputs=outputs, name=name)"
   ]
  },
  {
   "cell_type": "markdown",
   "id": "e2e7d32b",
   "metadata": {},
   "source": [
    " "
   ]
  },
  {
   "cell_type": "markdown",
   "id": "f6653591",
   "metadata": {},
   "source": [
    "#### 2) 인코더 층을 쌓아 인코더 만들기"
   ]
  },
  {
   "cell_type": "code",
   "execution_count": 70,
   "id": "f91f198d",
   "metadata": {},
   "outputs": [],
   "source": [
    "def encoder(vocab_size,\n",
    "            num_layers,\n",
    "            units,\n",
    "            d_model,\n",
    "            num_heads,\n",
    "            dropout,\n",
    "            name=\"encoder\"):\n",
    "    inputs = tf.keras.Input(shape=(None,), name=\"inputs\")\n",
    "\n",
    "    # 패딩 마스크 사용\n",
    "    padding_mask = tf.keras.Input(shape=(1, 1, None), name=\"padding_mask\")\n",
    "\n",
    "    # 임베딩 레이어\n",
    "    embeddings = tf.keras.layers.Embedding(vocab_size, d_model)(inputs)\n",
    "    embeddings *= tf.math.sqrt(tf.cast(d_model, tf.float32))\n",
    "\n",
    "    # 포지셔널 인코딩\n",
    "    embeddings = PositionalEncoding(vocab_size, d_model)(embeddings)\n",
    "\n",
    "    outputs = tf.keras.layers.Dropout(rate=dropout)(embeddings)\n",
    "\n",
    "    # num_layers만큼 쌓아올린 인코더의 층.\n",
    "    for i in range(num_layers):\n",
    "        outputs = encoder_layer(\n",
    "            units=units,\n",
    "            d_model=d_model,\n",
    "            num_heads=num_heads,\n",
    "            dropout=dropout,\n",
    "            name=\"encoder_layer_{}\".format(i),\n",
    "        )([outputs, padding_mask])\n",
    "\n",
    "    return tf.keras.Model(\n",
    "        inputs=[inputs, padding_mask], outputs=outputs, name=name)"
   ]
  },
  {
   "cell_type": "markdown",
   "id": "5037b914",
   "metadata": {},
   "source": [
    " "
   ]
  },
  {
   "cell_type": "markdown",
   "id": "a7ff1d12",
   "metadata": {},
   "source": [
    "### 5. 디코더"
   ]
  },
  {
   "cell_type": "markdown",
   "id": "91a8534c",
   "metadata": {},
   "source": [
    "#### 1) 디코더 층 만들기"
   ]
  },
  {
   "cell_type": "code",
   "execution_count": 71,
   "id": "b0fd9d79",
   "metadata": {},
   "outputs": [],
   "source": [
    "# 세 개의 서브 층을 내부적으로 구현한 디코더 함수\n",
    "# 1) 셀프 어텐션   2) 인코더-디코더 어텐션   3) 피드 포워드 신경망"
   ]
  },
  {
   "cell_type": "code",
   "execution_count": 72,
   "id": "91a7272b",
   "metadata": {},
   "outputs": [],
   "source": [
    "def decoder_layer(units, d_model, num_heads, dropout, name=\"decoder_layer\"):\n",
    "    inputs = tf.keras.Input(shape=(None, d_model), name=\"inputs\")\n",
    "    enc_outputs = tf.keras.Input(shape=(None, d_model), name=\"encoder_outputs\")\n",
    "    look_ahead_mask = tf.keras.Input(\n",
    "        shape=(1, None, None), name=\"look_ahead_mask\")\n",
    "    padding_mask = tf.keras.Input(shape=(1, 1, None), name='padding_mask')\n",
    "\n",
    "    # 첫 번째 서브 레이어 : 멀티 헤드 어텐션 수행 (셀프 어텐션)\n",
    "    attention1 = MultiHeadAttention(\n",
    "    d_model, num_heads, name=\"attention_1\")(inputs={\n",
    "        'query': inputs,\n",
    "        'key': inputs,\n",
    "        'value': inputs,\n",
    "        'mask': look_ahead_mask\n",
    "    })\n",
    "\n",
    "    # 멀티 헤드 어텐션의 결과는 LayerNormalization이라는 훈련을 돕는 테크닉을 수행\n",
    "    attention1 = tf.keras.layers.LayerNormalization(\n",
    "        epsilon=1e-6)(attention1 + inputs)\n",
    "\n",
    "    # 두 번째 서브 레이어 : 마스크드 멀티 헤드 어텐션 수행 (인코더-디코더 어텐션)\n",
    "    attention2 = MultiHeadAttention(\n",
    "        d_model, num_heads, name=\"attention_2\")(inputs={\n",
    "            'query': attention1,\n",
    "            'key': enc_outputs,\n",
    "            'value': enc_outputs,\n",
    "            'mask': padding_mask\n",
    "        })\n",
    "\n",
    "    # 마스크드 멀티 헤드 어텐션의 결과는\n",
    "    # Dropout과 LayerNormalization이라는 훈련을 돕는 테크닉을 수행\n",
    "    attention2 = tf.keras.layers.Dropout(rate=dropout)(attention2)\n",
    "    attention2 = tf.keras.layers.LayerNormalization(\n",
    "        epsilon=1e-6)(attention2 + attention1)\n",
    "\n",
    "    # 세 번째 서브 레이어 : 2개의 완전연결층\n",
    "    outputs = tf.keras.layers.Dense(units=units, activation='relu')(attention2)\n",
    "    outputs = tf.keras.layers.Dense(units=d_model)(outputs)\n",
    "\n",
    "    # 완전연결층의 결과는 Dropout과 LayerNormalization 수행\n",
    "    outputs = tf.keras.layers.Dropout(rate=dropout)(outputs)\n",
    "    outputs = tf.keras.layers.LayerNormalization(\n",
    "        epsilon=1e-6)(outputs + attention2)\n",
    "\n",
    "    return tf.keras.Model(\n",
    "        inputs=[inputs, enc_outputs, look_ahead_mask, padding_mask],\n",
    "        outputs=outputs,\n",
    "        name=name)"
   ]
  },
  {
   "cell_type": "markdown",
   "id": "e0984e81",
   "metadata": {},
   "source": [
    " "
   ]
  },
  {
   "cell_type": "markdown",
   "id": "bf8d986a",
   "metadata": {},
   "source": [
    "#### 2) 디코더 층을 쌓아 디코더 만들기"
   ]
  },
  {
   "cell_type": "code",
   "execution_count": 73,
   "id": "ec7a6d2e",
   "metadata": {},
   "outputs": [],
   "source": [
    "def decoder(vocab_size,\n",
    "            num_layers,\n",
    "            units,\n",
    "            d_model,\n",
    "            num_heads,\n",
    "            dropout,\n",
    "            name='decoder'):\n",
    "    inputs = tf.keras.Input(shape=(None,), name='inputs')\n",
    "    enc_outputs = tf.keras.Input(shape=(None, d_model), name='encoder_outputs')\n",
    "    look_ahead_mask = tf.keras.Input(\n",
    "        shape=(1, None, None), name='look_ahead_mask')\n",
    "\n",
    "    # 패딩 마스크\n",
    "    padding_mask = tf.keras.Input(shape=(1, 1, None), name='padding_mask')\n",
    "  \n",
    "    # 임베딩 레이어\n",
    "    embeddings = tf.keras.layers.Embedding(vocab_size, d_model)(inputs)\n",
    "    embeddings *= tf.math.sqrt(tf.cast(d_model, tf.float32))\n",
    "\n",
    "    # 포지셔널 인코딩\n",
    "    embeddings = PositionalEncoding(vocab_size, d_model)(embeddings)\n",
    "\n",
    "    # Dropout이라는 훈련을 돕는 테크닉을 수행\n",
    "    outputs = tf.keras.layers.Dropout(rate=dropout)(embeddings)\n",
    "\n",
    "    for i in range(num_layers):\n",
    "        outputs = decoder_layer(\n",
    "            units=units,\n",
    "            d_model=d_model,\n",
    "            num_heads=num_heads,\n",
    "            dropout=dropout,\n",
    "            name='decoder_layer_{}'.format(i),\n",
    "        )(inputs=[outputs, enc_outputs, look_ahead_mask, padding_mask])\n",
    "\n",
    "    return tf.keras.Model(\n",
    "        inputs=[inputs, enc_outputs, look_ahead_mask, padding_mask],\n",
    "        outputs=outputs,\n",
    "        name=name)"
   ]
  },
  {
   "cell_type": "markdown",
   "id": "7b26372a",
   "metadata": {},
   "source": [
    " "
   ]
  },
  {
   "cell_type": "markdown",
   "id": "6d513da0",
   "metadata": {},
   "source": [
    "### 6. 트랜스포머(Transformer)\n",
    "#### 위 인코더 층 함수와 디코더 층 함수를 사용하여 트랜스포머 함수를 정의합니다."
   ]
  },
  {
   "cell_type": "code",
   "execution_count": 74,
   "id": "f946c60c",
   "metadata": {},
   "outputs": [],
   "source": [
    "def transformer(vocab_size,\n",
    "                num_layers,\n",
    "                units,\n",
    "                d_model,\n",
    "                num_heads,\n",
    "                dropout,\n",
    "                name=\"transformer\"):\n",
    "    inputs = tf.keras.Input(shape=(None,), name=\"inputs\")\n",
    "    dec_inputs = tf.keras.Input(shape=(None,), name=\"dec_inputs\")\n",
    "\n",
    "    # 인코더에서 패딩을 위한 마스크\n",
    "    enc_padding_mask = tf.keras.layers.Lambda(\n",
    "        create_padding_mask, output_shape=(1, 1, None),\n",
    "        name='enc_padding_mask')(inputs)\n",
    "\n",
    "    # 디코더에서 미래의 토큰을 마스크 하기 위해서 사용합니다.\n",
    "    # 내부적으로 패딩 마스크도 포함되어져 있습니다.\n",
    "    look_ahead_mask = tf.keras.layers.Lambda(\n",
    "        create_look_ahead_mask,\n",
    "        output_shape=(1, None, None),\n",
    "        name='look_ahead_mask')(dec_inputs)\n",
    "\n",
    "    # 두 번째 어텐션 블록에서 인코더의 벡터들을 마스킹\n",
    "    # 디코더에서 패딩을 위한 마스크\n",
    "    dec_padding_mask = tf.keras.layers.Lambda(\n",
    "        create_padding_mask, output_shape=(1, 1, None),\n",
    "        name='dec_padding_mask')(inputs)\n",
    "\n",
    "    # 인코더\n",
    "    enc_outputs = encoder(\n",
    "        vocab_size=vocab_size,\n",
    "        num_layers=num_layers,\n",
    "        units=units,\n",
    "        d_model=d_model,\n",
    "        num_heads=num_heads,\n",
    "        dropout=dropout,\n",
    "    )(inputs=[inputs, enc_padding_mask])\n",
    "\n",
    "    # 디코더\n",
    "    dec_outputs = decoder(\n",
    "        vocab_size=vocab_size,\n",
    "        num_layers=num_layers,\n",
    "        units=units,\n",
    "        d_model=d_model,\n",
    "        num_heads=num_heads,\n",
    "        dropout=dropout,\n",
    "    )(inputs=[dec_inputs, enc_outputs, look_ahead_mask, dec_padding_mask])\n",
    "\n",
    "    # 완전연결층\n",
    "    outputs = tf.keras.layers.Dense(units=vocab_size, name=\"outputs\")(dec_outputs)\n",
    "\n",
    "    return tf.keras.Model(inputs=[inputs, dec_inputs], outputs=outputs, name=name)"
   ]
  },
  {
   "cell_type": "markdown",
   "id": "6f069574",
   "metadata": {},
   "source": [
    " "
   ]
  },
  {
   "cell_type": "markdown",
   "id": "9628601c",
   "metadata": {},
   "source": [
    "### 7. 모델 정의 및 학습하기"
   ]
  },
  {
   "cell_type": "markdown",
   "id": "18fd5005",
   "metadata": {},
   "source": [
    "#### 1) 모델 생성"
   ]
  },
  {
   "cell_type": "code",
   "execution_count": 75,
   "id": "130cedc7",
   "metadata": {},
   "outputs": [
    {
     "name": "stdout",
     "output_type": "stream",
     "text": [
      "Model: \"transformer\"\n",
      "__________________________________________________________________________________________________\n",
      "Layer (type)                    Output Shape         Param #     Connected to                     \n",
      "==================================================================================================\n",
      "inputs (InputLayer)             [(None, None)]       0                                            \n",
      "__________________________________________________________________________________________________\n",
      "dec_inputs (InputLayer)         [(None, None)]       0                                            \n",
      "__________________________________________________________________________________________________\n",
      "enc_padding_mask (Lambda)       (None, 1, 1, None)   0           inputs[0][0]                     \n",
      "__________________________________________________________________________________________________\n",
      "encoder (Functional)            (None, None, 256)    3144192     inputs[0][0]                     \n",
      "                                                                 enc_padding_mask[0][0]           \n",
      "__________________________________________________________________________________________________\n",
      "look_ahead_mask (Lambda)        (None, 1, None, None 0           dec_inputs[0][0]                 \n",
      "__________________________________________________________________________________________________\n",
      "dec_padding_mask (Lambda)       (None, 1, 1, None)   0           inputs[0][0]                     \n",
      "__________________________________________________________________________________________________\n",
      "decoder (Functional)            (None, None, 256)    3671552     dec_inputs[0][0]                 \n",
      "                                                                 encoder[0][0]                    \n",
      "                                                                 look_ahead_mask[0][0]            \n",
      "                                                                 dec_padding_mask[0][0]           \n",
      "__________________________________________________________________________________________________\n",
      "outputs (Dense)                 (None, None, 8164)   2098148     decoder[0][0]                    \n",
      "==================================================================================================\n",
      "Total params: 8,913,892\n",
      "Trainable params: 8,913,892\n",
      "Non-trainable params: 0\n",
      "__________________________________________________________________________________________________\n"
     ]
    }
   ],
   "source": [
    "tf.keras.backend.clear_session()\n",
    "\n",
    "# 하이퍼파라미터\n",
    "NUM_LAYERS = 2 # 인코더와 디코더의 층의 개수\n",
    "D_MODEL = 256 # 인코더와 디코더 내부의 입, 출력의 고정 차원\n",
    "NUM_HEADS = 8 # 멀티 헤드 어텐션에서의 헤드 수 \n",
    "UNITS = 512 # 피드 포워드 신경망의 은닉층의 크기\n",
    "DROPOUT = 0.1 # 드롭아웃의 비율\n",
    "\n",
    "model = transformer(\n",
    "    vocab_size=VOCAB_SIZE,\n",
    "    num_layers=NUM_LAYERS,\n",
    "    units=UNITS,\n",
    "    d_model=D_MODEL,\n",
    "    num_heads=NUM_HEADS,\n",
    "    dropout=DROPOUT)\n",
    "\n",
    "model.summary()"
   ]
  },
  {
   "cell_type": "markdown",
   "id": "25a4e643",
   "metadata": {},
   "source": [
    " "
   ]
  },
  {
   "cell_type": "markdown",
   "id": "dbaa2eb0",
   "metadata": {},
   "source": [
    "#### 2) 손실 함수(Loss function) 정의"
   ]
  },
  {
   "cell_type": "code",
   "execution_count": 76,
   "id": "3e592ba4",
   "metadata": {},
   "outputs": [],
   "source": [
    "def loss_function(y_true, y_pred):\n",
    "    y_true = tf.reshape(y_true, shape=(-1, MAX_LENGTH - 1))\n",
    "\n",
    "    loss = tf.keras.losses.SparseCategoricalCrossentropy(\n",
    "        from_logits=True, reduction='none')(y_true, y_pred)\n",
    "\n",
    "    mask = tf.cast(tf.not_equal(y_true, 0), tf.float32)\n",
    "    loss = tf.multiply(loss, mask)\n",
    "\n",
    "    return tf.reduce_mean(loss)"
   ]
  },
  {
   "cell_type": "markdown",
   "id": "580006cf",
   "metadata": {},
   "source": [
    " "
   ]
  },
  {
   "cell_type": "markdown",
   "id": "e7984e87",
   "metadata": {},
   "source": [
    "#### 3) 커스텀 된 학습률(Learning rate) 계획"
   ]
  },
  {
   "cell_type": "code",
   "execution_count": 77,
   "id": "34801c7c",
   "metadata": {},
   "outputs": [],
   "source": [
    "# 커스텀 된 학습률(Learning rate) 스케줄링 계획"
   ]
  },
  {
   "cell_type": "code",
   "execution_count": 78,
   "id": "e4cbd98f",
   "metadata": {},
   "outputs": [],
   "source": [
    "class CustomSchedule(tf.keras.optimizers.schedules.LearningRateSchedule):\n",
    "\n",
    "    def __init__(self, d_model, warmup_steps=4000):\n",
    "        super(CustomSchedule, self).__init__()\n",
    "\n",
    "        self.d_model = d_model\n",
    "        self.d_model = tf.cast(self.d_model, tf.float32)\n",
    "\n",
    "        self.warmup_steps = warmup_steps\n",
    "\n",
    "    def __call__(self, step):\n",
    "        arg1 = tf.math.rsqrt(step)\n",
    "        arg2 = step * (self.warmup_steps**-1.5)\n",
    "\n",
    "        return tf.math.rsqrt(self.d_model) * tf.math.minimum(arg1, arg2)"
   ]
  },
  {
   "cell_type": "markdown",
   "id": "9037ddc4",
   "metadata": {},
   "source": [
    " "
   ]
  },
  {
   "cell_type": "code",
   "execution_count": 79,
   "id": "c41491c3",
   "metadata": {},
   "outputs": [],
   "source": [
    "# 커스텀 학습률 스케줄링 계획 시각화"
   ]
  },
  {
   "cell_type": "code",
   "execution_count": 80,
   "id": "ca034909",
   "metadata": {},
   "outputs": [
    {
     "data": {
      "text/plain": [
       "Text(0.5, 0, 'Train Step')"
      ]
     },
     "execution_count": 80,
     "metadata": {},
     "output_type": "execute_result"
    },
    {
     "data": {
      "image/png": "[encoded data removed]",
      "text/plain": [
       "<Figure size 432x288 with 1 Axes>"
      ]
     },
     "metadata": {
      "needs_background": "light"
     },
     "output_type": "display_data"
    }
   ],
   "source": [
    "\n",
    "sample_learning_rate = CustomSchedule(d_model=128)\n",
    "\n",
    "plt.plot(sample_learning_rate(tf.range(200000, dtype=tf.float32)))\n",
    "plt.ylabel(\"Learning Rate\")\n",
    "plt.xlabel(\"Train Step\")"
   ]
  },
  {
   "cell_type": "markdown",
   "id": "9ed51e92",
   "metadata": {},
   "source": [
    " "
   ]
  },
  {
   "cell_type": "markdown",
   "id": "8666fc15",
   "metadata": {},
   "source": [
    "#### 4) 모델 컴파일"
   ]
  },
  {
   "cell_type": "code",
   "execution_count": 81,
   "id": "22be98cb",
   "metadata": {},
   "outputs": [],
   "source": [
    "# 손실 함수와 커스텀 된 학습률(learning rate)을 사용하여 모델을 컴파일합니다."
   ]
  },
  {
   "cell_type": "code",
   "execution_count": 82,
   "id": "3e109594",
   "metadata": {},
   "outputs": [],
   "source": [
    "learning_rate = CustomSchedule(D_MODEL)\n",
    "\n",
    "optimizer = tf.keras.optimizers.Adam(\n",
    "    learning_rate, beta_1=0.9, beta_2=0.98, epsilon=1e-9)\n",
    "\n",
    "def accuracy(y_true, y_pred):\n",
    "    y_true = tf.reshape(y_true, shape=(-1, MAX_LENGTH - 1))\n",
    "    return tf.keras.metrics.sparse_categorical_accuracy(y_true, y_pred)\n",
    "\n",
    "model.compile(optimizer=optimizer, loss=loss_function, metrics=[accuracy])"
   ]
  },
  {
   "cell_type": "markdown",
   "id": "6144682a",
   "metadata": {},
   "source": [
    "  "
   ]
  },
  {
   "cell_type": "markdown",
   "id": "21fc865d",
   "metadata": {},
   "source": [
    "#### 5) 훈련하기(Training)"
   ]
  },
  {
   "cell_type": "code",
   "execution_count": 83,
   "id": "acc92e20",
   "metadata": {},
   "outputs": [
    {
     "name": "stdout",
     "output_type": "stream",
     "text": [
      "Epoch 1/100\n",
      "143/143 [==============================] - 27s 125ms/step - loss: 5.5494 - accuracy: 0.1012\n",
      "Epoch 2/100\n",
      "143/143 [==============================] - 18s 123ms/step - loss: 4.6747 - accuracy: 0.2105\n",
      "Epoch 3/100\n",
      "143/143 [==============================] - 18s 123ms/step - loss: 3.9133 - accuracy: 0.2154\n",
      "Epoch 4/100\n",
      "143/143 [==============================] - 18s 127ms/step - loss: 3.5112 - accuracy: 0.2192\n",
      "Epoch 5/100\n",
      "143/143 [==============================] - 18s 123ms/step - loss: 3.2848 - accuracy: 0.2307\n",
      "Epoch 6/100\n",
      "143/143 [==============================] - 18s 126ms/step - loss: 3.0890 - accuracy: 0.2430\n",
      "Epoch 7/100\n",
      "143/143 [==============================] - 18s 124ms/step - loss: 2.8894 - accuracy: 0.2596\n",
      "Epoch 8/100\n",
      "143/143 [==============================] - 17s 122ms/step - loss: 2.6725 - accuracy: 0.2821\n",
      "Epoch 9/100\n",
      "143/143 [==============================] - 18s 126ms/step - loss: 2.4347 - accuracy: 0.3105\n",
      "Epoch 10/100\n",
      "143/143 [==============================] - 18s 123ms/step - loss: 2.1783 - accuracy: 0.3418\n",
      "Epoch 11/100\n",
      "143/143 [==============================] - 18s 125ms/step - loss: 1.9072 - accuracy: 0.3734\n",
      "Epoch 12/100\n",
      "143/143 [==============================] - 18s 123ms/step - loss: 1.6282 - accuracy: 0.4093\n",
      "Epoch 13/100\n",
      "143/143 [==============================] - 18s 124ms/step - loss: 1.3544 - accuracy: 0.4460\n",
      "Epoch 14/100\n",
      "143/143 [==============================] - 18s 123ms/step - loss: 1.0919 - accuracy: 0.4824\n",
      "Epoch 15/100\n",
      "143/143 [==============================] - 17s 122ms/step - loss: 0.8506 - accuracy: 0.5194\n",
      "Epoch 16/100\n",
      "143/143 [==============================] - 18s 124ms/step - loss: 0.6415 - accuracy: 0.5519\n",
      "Epoch 17/100\n",
      "143/143 [==============================] - 17s 122ms/step - loss: 0.4683 - accuracy: 0.5833\n",
      "Epoch 18/100\n",
      "143/143 [==============================] - 18s 125ms/step - loss: 0.3333 - accuracy: 0.6086\n",
      "Epoch 19/100\n",
      "143/143 [==============================] - 18s 123ms/step - loss: 0.2372 - accuracy: 0.6249\n",
      "Epoch 20/100\n",
      "143/143 [==============================] - 18s 123ms/step - loss: 0.1722 - accuracy: 0.6354\n",
      "Epoch 21/100\n",
      "143/143 [==============================] - 18s 124ms/step - loss: 0.1377 - accuracy: 0.6401\n",
      "Epoch 22/100\n",
      "143/143 [==============================] - 18s 123ms/step - loss: 0.1128 - accuracy: 0.6437\n",
      "Epoch 23/100\n",
      "143/143 [==============================] - 18s 124ms/step - loss: 0.1061 - accuracy: 0.6434\n",
      "Epoch 24/100\n",
      "143/143 [==============================] - 17s 121ms/step - loss: 0.0972 - accuracy: 0.6446\n",
      "Epoch 25/100\n",
      "143/143 [==============================] - 18s 125ms/step - loss: 0.0947 - accuracy: 0.6442\n",
      "Epoch 26/100\n",
      "143/143 [==============================] - 17s 121ms/step - loss: 0.0912 - accuracy: 0.6450\n",
      "Epoch 27/100\n",
      "143/143 [==============================] - 18s 123ms/step - loss: 0.0863 - accuracy: 0.6461\n",
      "Epoch 28/100\n",
      "143/143 [==============================] - 18s 124ms/step - loss: 0.0881 - accuracy: 0.6455\n",
      "Epoch 29/100\n",
      "143/143 [==============================] - 18s 123ms/step - loss: 0.0830 - accuracy: 0.6456\n",
      "Epoch 00029: early stopping\n"
     ]
    }
   ],
   "source": [
    "from keras.callbacks import EarlyStopping\n",
    "es=EarlyStopping(monitor='accuracy',mode='max',verbose=1,patience=2)\n",
    "\n",
    "EPOCHS = 100\n",
    "history = model.fit(dataset, epochs=EPOCHS, callbacks=[es], verbose=1)"
   ]
  },
  {
   "cell_type": "code",
   "execution_count": 90,
   "id": "5bbaee65",
   "metadata": {},
   "outputs": [
    {
     "data": {
      "image/png": "[encoded data removed]",
      "text/plain": [
       "<Figure size 432x288 with 1 Axes>"
      ]
     },
     "metadata": {
      "needs_background": "light"
     },
     "output_type": "display_data"
    }
   ],
   "source": [
    "# 데이터 시각화\n",
    "plt.plot(history.history['loss'], label='train')\n",
    "plt.plot(history.history['accuracy'], label='test')\n",
    "plt.legend()\n",
    "plt.show()"
   ]
  },
  {
   "cell_type": "markdown",
   "id": "2046a0e4",
   "metadata": {},
   "source": [
    "## Step 5. 모델 평가하기"
   ]
  },
  {
   "cell_type": "markdown",
   "id": "fa4986db",
   "metadata": {},
   "source": [
    "### 1. 예측 함수 구현"
   ]
  },
  {
   "cell_type": "code",
   "execution_count": 84,
   "id": "7d165388",
   "metadata": {},
   "outputs": [],
   "source": [
    "# 위 과정을 모두 담은 decoder_inference() 함수"
   ]
  },
  {
   "cell_type": "code",
   "execution_count": 85,
   "id": "3772dca0",
   "metadata": {},
   "outputs": [],
   "source": [
    "def decoder_inference(sentence):\n",
    "    sentence = preprocess_sentence(sentence)\n",
    "\n",
    "    # 입력된 문장을 정수 인코딩 후, 시작 토큰과 종료 토큰을 앞뒤로 추가.\n",
    "    # ex) Where have you been? → [[8331   86   30    5 1059    7 8332]]\n",
    "    sentence = tf.expand_dims(\n",
    "        START_TOKEN + tokenizer.encode(sentence) + END_TOKEN, axis=0)\n",
    "\n",
    "    # 디코더의 현재까지의 예측한 출력 시퀀스가 지속적으로 저장되는 변수.\n",
    "    # 처음에는 예측한 내용이 없음으로 시작 토큰만 별도 저장. ex) 8331\n",
    "    output_sequence = tf.expand_dims(START_TOKEN, 0)\n",
    "\n",
    "    # 디코더의 인퍼런스 단계\n",
    "    for i in range(MAX_LENGTH):\n",
    "        # 디코더는 최대 MAX_LENGTH의 길이만큼 다음 단어 예측을 반복합니다.\n",
    "        predictions = model(inputs=[sentence, output_sequence], training=False)\n",
    "        predictions = predictions[:, -1:, :]\n",
    "\n",
    "        # 현재 예측한 단어의 정수\n",
    "        predicted_id = tf.cast(tf.argmax(predictions, axis=-1), tf.int32)\n",
    "\n",
    "        # 만약 현재 예측한 단어가 종료 토큰이라면 for문을 종료\n",
    "        if tf.equal(predicted_id, END_TOKEN[0]):\n",
    "            break\n",
    "\n",
    "        # 예측한 단어들은 지속적으로 output_sequence에 추가됩니다.\n",
    "        # 이 output_sequence는 다시 디코더의 입력이 됩니다.\n",
    "        output_sequence = tf.concat([output_sequence, predicted_id], axis=-1)\n",
    "\n",
    "    return tf.squeeze(output_sequence, axis=0)"
   ]
  },
  {
   "cell_type": "markdown",
   "id": "82244403",
   "metadata": {},
   "source": [
    " "
   ]
  },
  {
   "cell_type": "code",
   "execution_count": 86,
   "id": "61506441",
   "metadata": {},
   "outputs": [],
   "source": [
    "# sentence_generation() 함수\n",
    "# 임의의 입력 문장에 대해서 decoder_inference() 함수를 호출하여 챗봇의 대답을 얻음."
   ]
  },
  {
   "cell_type": "code",
   "execution_count": 94,
   "id": "b3150b01",
   "metadata": {},
   "outputs": [],
   "source": [
    "def sentence_generation(sentence):\n",
    "    # 입력 문장에 대해서 디코더를 동작 시켜 예측된 정수 시퀀스를 리턴받습니다.\n",
    "    prediction = decoder_inference(sentence)\n",
    "\n",
    "    # 정수 시퀀스를 다시 텍스트 시퀀스로 변환합니다.\n",
    "    predicted_sentence = tokenizer.decode(\n",
    "        [i for i in prediction if i < tokenizer.vocab_size])\n",
    "\n",
    "    input_sentence = '입력 : {}'.format(sentence)\n",
    "    output_sentence = '출력 : {}'.format(predicted_sentence)\n",
    "#     print('입력 : {}'.format(sentence))\n",
    "#     print('출력 : {}'.format(predicted_sentence))\n",
    "\n",
    "    return input_sentence, output_sentence # predicted_sentence"
   ]
  },
  {
   "cell_type": "markdown",
   "id": "5ccd2eca",
   "metadata": {},
   "source": [
    " "
   ]
  },
  {
   "cell_type": "markdown",
   "id": "0b03603e",
   "metadata": {},
   "source": [
    "### 2. 챗봇 테스트하기"
   ]
  },
  {
   "cell_type": "code",
   "execution_count": 91,
   "id": "837cc98b",
   "metadata": {},
   "outputs": [],
   "source": [
    "# 임의의 문장으로부터 챗봇의 대답을 얻어보자."
   ]
  },
  {
   "cell_type": "code",
   "execution_count": 113,
   "id": "bc0867bf",
   "metadata": {},
   "outputs": [
    {
     "name": "stdout",
     "output_type": "stream",
     "text": [
      "입력 : 누구세요?\n",
      "출력 : 저는 위로해드리는 로봇이에요 .\n"
     ]
    }
   ],
   "source": [
    "print(*sentence_generation('누구세요?'), sep='\\n')"
   ]
  },
  {
   "cell_type": "code",
   "execution_count": 110,
   "id": "f5e2dc93",
   "metadata": {},
   "outputs": [
    {
     "name": "stdout",
     "output_type": "stream",
     "text": [
      "입력 : 반가워요\n",
      "출력 : 반갑습니다 .\n"
     ]
    }
   ],
   "source": [
    "print(*sentence_generation('반가워요'), sep='\\n')"
   ]
  },
  {
   "cell_type": "code",
   "execution_count": 117,
   "id": "c69427a3",
   "metadata": {},
   "outputs": [
    {
     "name": "stdout",
     "output_type": "stream",
     "text": [
      "입력 : 잘 부탁드립니다.\n",
      "출력 : 조그만 더 버텨요 .\n"
     ]
    }
   ],
   "source": [
    "print(*sentence_generation('잘 부탁드립니다.'), sep='\\n')"
   ]
  },
  {
   "cell_type": "code",
   "execution_count": 114,
   "id": "85e3c980",
   "metadata": {},
   "outputs": [
    {
     "name": "stdout",
     "output_type": "stream",
     "text": [
      "입력 : 밥은 먹었어요?\n",
      "출력 : 잘 살고 있을 거예요 .\n"
     ]
    }
   ],
   "source": [
    "print(*sentence_generation('밥은 먹었어요?'), sep='\\n')"
   ]
  },
  {
   "cell_type": "code",
   "execution_count": 115,
   "id": "9c1c5589",
   "metadata": {},
   "outputs": [
    {
     "name": "stdout",
     "output_type": "stream",
     "text": [
      "입력 : 잠은 잘 잤어요?\n",
      "출력 : 피곤했나봐요 .\n"
     ]
    }
   ],
   "source": [
    "print(*sentence_generation('잠은 잘 잤어요?'), sep='\\n')"
   ]
  },
  {
   "cell_type": "code",
   "execution_count": 121,
   "id": "4eef8b25",
   "metadata": {},
   "outputs": [
    {
     "name": "stdout",
     "output_type": "stream",
     "text": [
      "입력 : 드라마 추천해 주세요\n",
      "출력 : 재미있는 다른걸 찾아보세요 .\n"
     ]
    }
   ],
   "source": [
    "print(*sentence_generation('드라마 추천해 주세요'), sep='\\n')"
   ]
  },
  {
   "cell_type": "code",
   "execution_count": 118,
   "id": "4b7fe8bb",
   "metadata": {},
   "outputs": [
    {
     "name": "stdout",
     "output_type": "stream",
     "text": [
      "입력 : 좋아해요\n",
      "출력 : 솔직한 사람이에요 .\n"
     ]
    }
   ],
   "source": [
    "print(*sentence_generation('좋아해요'), sep='\\n')"
   ]
  },
  {
   "cell_type": "code",
   "execution_count": 108,
   "id": "8f2109b0",
   "metadata": {},
   "outputs": [
    {
     "name": "stdout",
     "output_type": "stream",
     "text": [
      "입력 : 잘자요\n",
      "출력 : 나쁜 사람이네요 .\n"
     ]
    }
   ],
   "source": [
    "print(*sentence_generation('잘자요'), sep='\\n')"
   ]
  },
  {
   "cell_type": "code",
   "execution_count": 109,
   "id": "8d0ff75b",
   "metadata": {},
   "outputs": [
    {
     "name": "stdout",
     "output_type": "stream",
     "text": [
      "입력 : 울지마요\n",
      "출력 : 당연한건데 우린 걱정을 해야 하네요 .\n"
     ]
    }
   ],
   "source": [
    "print(*sentence_generation('울지마요'), sep='\\n')"
   ]
  },
  {
   "cell_type": "code",
   "execution_count": 122,
   "id": "35eae87e",
   "metadata": {},
   "outputs": [
    {
     "name": "stdout",
     "output_type": "stream",
     "text": [
      "입력 : 또 만나요.\n",
      "출력 : 또 다른 시작 .\n"
     ]
    }
   ],
   "source": [
    "print(*sentence_generation('또 만나요.'), sep='\\n')"
   ]
  },
  {
   "cell_type": "code",
   "execution_count": null,
   "id": "29c6bf8c",
   "metadata": {},
   "outputs": [],
   "source": []
  }
 ],
 "metadata": {
  "kernelspec": {
   "display_name": "Python 3 (ipykernel)",
   "language": "python",
   "name": "python3"
  },
  "language_info": {
   "codemirror_mode": {
    "name": "ipython",
    "version": 3
   },
   "file_extension": ".py",
   "mimetype": "text/x-python",
   "name": "python",
   "nbconvert_exporter": "python",
   "pygments_lexer": "ipython3",
   "version": "3.9.7"
  }
 },
 "nbformat": 4,
 "nbformat_minor": 5
}
