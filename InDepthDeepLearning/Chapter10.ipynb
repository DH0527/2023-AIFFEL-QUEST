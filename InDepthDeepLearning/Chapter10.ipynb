{
 "cells": [
  {
   "cell_type": "markdown",
   "metadata": {},
   "source": [
    "# Chapter 10. 시계열을 위한 딥러닝"
   ]
  },
  {
   "cell_type": "markdown",
   "metadata": {},
   "source": [
    "## 10.1 다양한 종류의 시계열 작업"
   ]
  },
  {
   "cell_type": "markdown",
   "metadata": {},
   "source": [
    "**시계열** 데이터: 일정한 간격으로 측정하여 얻은 데이터"
   ]
  },
  {
   "cell_type": "markdown",
   "metadata": {},
   "source": [
    "> **분류**: 하나 이상의 범주형 레이블을 시계열에 부여  \n",
    "> **이벤트 감지**: 연속된 데이터 스트림에서 예상되는 특정 이벤트 발생을 식별  \n",
    "> **이상치 탐지**: 연속된 데이터 스트림에서 발생하는 비정상적인 현상을 감지"
   ]
  },
  {
   "cell_type": "markdown",
   "metadata": {},
   "source": [
    "## 10.2 온도 예측 문제"
   ]
  },
  {
   "cell_type": "code",
   "execution_count": null,
   "metadata": {},
   "outputs": [],
   "source": []
  },
  {
   "cell_type": "markdown",
   "metadata": {},
   "source": [
    "건물 지붕 위의 센서에서 측정한 시계열 데이터를 이용하여 24시간 뒤의 온도를 예측하는 문제"
   ]
  },
  {
   "cell_type": "code",
   "execution_count": 5,
   "metadata": {},
   "outputs": [
    {
     "name": "stdout",
     "output_type": "stream",
     "text": [
      " C ����̺��� �������� �̸��� �����ϴ�.\n",
      " ���� �Ϸ� ��ȣ: 28CE-1EDA\n",
      "\n",
      " c:\\Users\\JDINO\\Desktop\\AIFFEL\\2023-AIFFEL-QUEST\\InDepthDeepLearning ���͸�\n",
      "\n",
      "2023-08-08  ���� 03:09    <DIR>          .\n",
      "2023-08-08  ���� 03:09    <DIR>          ..\n",
      "2023-08-07  ���� 04:08           162,298 Chapter10.ipynb\n",
      "2023-07-28  ���� 06:32               628 Chapter2.ipynb\n",
      "2023-07-28  ���� 06:32               614 Chapter3.ipynb\n",
      "2023-07-31  ���� 02:46            12,021 Chapter4.ipynb\n",
      "2023-08-07  ���� 04:08           162,298 Chapter5.ipynb\n",
      "2023-07-28  ���� 04:22           159,520 deep_learning_with_python_2nd_cover.jpg\n",
      "2023-07-28  ���� 04:22             1,584 README.md\n",
      "               7�� ����             498,963 ����Ʈ\n",
      "               2�� ���͸�  140,586,795,008 ����Ʈ ����\n"
     ]
    }
   ],
   "source": [
    "!dir"
   ]
  },
  {
   "cell_type": "code",
   "execution_count": 1,
   "metadata": {},
   "outputs": [
    {
     "name": "stderr",
     "output_type": "stream",
     "text": [
      "'wget'��(��) ���� �Ǵ� �ܺ� ����, ������ �� �ִ� ���α׷�, �Ǵ�\n",
      "��ġ ������ �ƴմϴ�.\n"
     ]
    },
    {
     "name": "stderr",
     "output_type": "stream",
     "text": [
      "'unzip'��(��) ���� �Ǵ� �ܺ� ����, ������ �� �ִ� ���α׷�, �Ǵ�\n",
      "��ġ ������ �ƴմϴ�.\n"
     ]
    }
   ],
   "source": [
    "# time series data download\n",
    "!wget https://s3.amazonaws.com/keras-datasets/jena_climate_2009_2016.csv.zip ./\n",
    "!unzip ./jena_climate_2009_2016.csv.zip"
   ]
  },
  {
   "cell_type": "code",
   "execution_count": 6,
   "metadata": {},
   "outputs": [
    {
     "ename": "FileNotFoundError",
     "evalue": "[Errno 2] No such file or directory: './jena_climate_2009_2016.csv'",
     "output_type": "error",
     "traceback": [
      "\u001b[1;31m---------------------------------------------------------------------------\u001b[0m",
      "\u001b[1;31mFileNotFoundError\u001b[0m                         Traceback (most recent call last)",
      "Cell \u001b[1;32mIn[6], line 7\u001b[0m\n\u001b[0;32m      3\u001b[0m \u001b[39m# fname = os.path.join(\"./jena_climate_2009_2016.csv\")\u001b[39;00m\n\u001b[0;32m      4\u001b[0m fname \u001b[39m=\u001b[39m \u001b[39m\"\u001b[39m\u001b[39m./jena_climate_2009_2016.csv\u001b[39m\u001b[39m\"\u001b[39m\n\u001b[1;32m----> 7\u001b[0m \u001b[39mwith\u001b[39;00m \u001b[39mopen\u001b[39;49m(fname) \u001b[39mas\u001b[39;00m f:\n\u001b[0;32m      8\u001b[0m     data \u001b[39m=\u001b[39m f\u001b[39m.\u001b[39mread()\n\u001b[0;32m     10\u001b[0m lines \u001b[39m=\u001b[39m data\u001b[39m.\u001b[39msplit(\u001b[39m\"\u001b[39m\u001b[39m\\n\u001b[39;00m\u001b[39m\"\u001b[39m)\n",
      "File \u001b[1;32m~\\AppData\\Roaming\\Python\\Python311\\site-packages\\IPython\\core\\interactiveshell.py:284\u001b[0m, in \u001b[0;36m_modified_open\u001b[1;34m(file, *args, **kwargs)\u001b[0m\n\u001b[0;32m    277\u001b[0m \u001b[39mif\u001b[39;00m file \u001b[39min\u001b[39;00m {\u001b[39m0\u001b[39m, \u001b[39m1\u001b[39m, \u001b[39m2\u001b[39m}:\n\u001b[0;32m    278\u001b[0m     \u001b[39mraise\u001b[39;00m \u001b[39mValueError\u001b[39;00m(\n\u001b[0;32m    279\u001b[0m         \u001b[39mf\u001b[39m\u001b[39m\"\u001b[39m\u001b[39mIPython won\u001b[39m\u001b[39m'\u001b[39m\u001b[39mt let you open fd=\u001b[39m\u001b[39m{\u001b[39;00mfile\u001b[39m}\u001b[39;00m\u001b[39m by default \u001b[39m\u001b[39m\"\u001b[39m\n\u001b[0;32m    280\u001b[0m         \u001b[39m\"\u001b[39m\u001b[39mas it is likely to crash IPython. If you know what you are doing, \u001b[39m\u001b[39m\"\u001b[39m\n\u001b[0;32m    281\u001b[0m         \u001b[39m\"\u001b[39m\u001b[39myou can use builtins\u001b[39m\u001b[39m'\u001b[39m\u001b[39m open.\u001b[39m\u001b[39m\"\u001b[39m\n\u001b[0;32m    282\u001b[0m     )\n\u001b[1;32m--> 284\u001b[0m \u001b[39mreturn\u001b[39;00m io_open(file, \u001b[39m*\u001b[39;49margs, \u001b[39m*\u001b[39;49m\u001b[39m*\u001b[39;49mkwargs)\n",
      "\u001b[1;31mFileNotFoundError\u001b[0m: [Errno 2] No such file or directory: './jena_climate_2009_2016.csv'"
     ]
    }
   ],
   "source": [
    "# check jena weather dataset\n",
    "import os\n",
    "# fname = os.path.join(\"./jena_climate_2009_2016.csv\")\n",
    "fname = \"./jena_climate_2009_2016.csv\"\n",
    "\n",
    "\n",
    "with open(fname) as f:\n",
    "    data = f.read()\n",
    "\n",
    "lines = data.split(\"\\n\")\n",
    "header = lines[0].split(\",\")\n",
    "print(data)"
   ]
  },
  {
   "cell_type": "code",
   "execution_count": 3,
   "metadata": {},
   "outputs": [
    {
     "name": "stdout",
     "output_type": "stream",
     "text": [
      "Epoch 1/10\n",
      "375/375 [==============================] - 3s 8ms/step - loss: 0.6253 - accuracy: 0.8088 - val_loss: 0.2860 - val_accuracy: 0.9143\n",
      "Epoch 2/10\n",
      "375/375 [==============================] - 3s 7ms/step - loss: 0.2586 - accuracy: 0.9202 - val_loss: 0.1873 - val_accuracy: 0.9454\n",
      "Epoch 3/10\n",
      "375/375 [==============================] - 3s 7ms/step - loss: 0.1706 - accuracy: 0.9470 - val_loss: 0.1563 - val_accuracy: 0.9528\n",
      "Epoch 4/10\n",
      "375/375 [==============================] - 3s 7ms/step - loss: 0.1210 - accuracy: 0.9622 - val_loss: 0.1475 - val_accuracy: 0.9563\n",
      "Epoch 5/10\n",
      "375/375 [==============================] - 3s 7ms/step - loss: 0.0890 - accuracy: 0.9723 - val_loss: 0.1433 - val_accuracy: 0.9566\n",
      "Epoch 6/10\n",
      "375/375 [==============================] - 3s 7ms/step - loss: 0.0656 - accuracy: 0.9794 - val_loss: 0.1197 - val_accuracy: 0.9653\n",
      "Epoch 7/10\n",
      "375/375 [==============================] - 3s 7ms/step - loss: 0.0498 - accuracy: 0.9842 - val_loss: 0.1646 - val_accuracy: 0.9529\n",
      "Epoch 8/10\n",
      "375/375 [==============================] - 3s 7ms/step - loss: 0.0353 - accuracy: 0.9887 - val_loss: 0.1159 - val_accuracy: 0.9690\n",
      "Epoch 9/10\n",
      "375/375 [==============================] - 2s 7ms/step - loss: 0.0273 - accuracy: 0.9913 - val_loss: 0.1430 - val_accuracy: 0.9630\n",
      "Epoch 10/10\n",
      "375/375 [==============================] - 3s 7ms/step - loss: 0.0199 - accuracy: 0.9939 - val_loss: 0.1250 - val_accuracy: 0.9703\n",
      "Epoch 1/10\n",
      "375/375 [==============================] - 3s 7ms/step - loss: 0.3009 - accuracy: 0.9129 - val_loss: 0.1555 - val_accuracy: 0.9565\n",
      "Epoch 2/10\n",
      "375/375 [==============================] - 3s 7ms/step - loss: 0.1271 - accuracy: 0.9629 - val_loss: 0.1148 - val_accuracy: 0.9660\n",
      "Epoch 3/10\n",
      "375/375 [==============================] - 3s 7ms/step - loss: 0.0833 - accuracy: 0.9748 - val_loss: 0.0892 - val_accuracy: 0.9725\n",
      "Epoch 4/10\n",
      "375/375 [==============================] - 3s 7ms/step - loss: 0.0598 - accuracy: 0.9821 - val_loss: 0.0773 - val_accuracy: 0.9778\n",
      "Epoch 5/10\n",
      "375/375 [==============================] - 3s 7ms/step - loss: 0.0449 - accuracy: 0.9868 - val_loss: 0.0912 - val_accuracy: 0.9738\n",
      "Epoch 6/10\n",
      "375/375 [==============================] - 3s 7ms/step - loss: 0.0344 - accuracy: 0.9899 - val_loss: 0.0820 - val_accuracy: 0.9761\n",
      "Epoch 7/10\n",
      "375/375 [==============================] - 3s 7ms/step - loss: 0.0261 - accuracy: 0.9923 - val_loss: 0.0766 - val_accuracy: 0.9772\n",
      "Epoch 8/10\n",
      "375/375 [==============================] - 3s 8ms/step - loss: 0.0195 - accuracy: 0.9946 - val_loss: 0.0787 - val_accuracy: 0.9781\n",
      "Epoch 9/10\n",
      "375/375 [==============================] - 3s 8ms/step - loss: 0.0150 - accuracy: 0.9960 - val_loss: 0.0766 - val_accuracy: 0.9784\n",
      "Epoch 10/10\n",
      "375/375 [==============================] - 3s 7ms/step - loss: 0.0113 - accuracy: 0.9971 - val_loss: 0.0716 - val_accuracy: 0.9808\n"
     ]
    }
   ],
   "source": [
    "# fit models\n",
    "from keras import layers\n",
    "\n",
    "def get_model():\n",
    "    model = keras.Sequential([\n",
    "        layers.Dense(512, activation=\"relu\"),\n",
    "        layers.Dense(10, activation=\"softmax\")\n",
    "    ])\n",
    "    model.compile(optimizer=\"rmsprop\",\n",
    "                  loss=\"sparse_categorical_crossentropy\",\n",
    "                  metrics=[\"accuracy\"])\n",
    "    \n",
    "    return model\n",
    "\n",
    "model = get_model()\n",
    "history_noise = model.fit(\n",
    "    train_images_with_noise_channels,\n",
    "    train_labels,\n",
    "    epochs=10,\n",
    "    batch_size=128,\n",
    "    validation_split=0.2)\n",
    "\n",
    "model = get_model()\n",
    "history_zeros = model.fit(\n",
    "    train_images_with_zeros_channels,\n",
    "    train_labels,\n",
    "    epochs=10,\n",
    "    batch_size=128,\n",
    "    validation_split=0.2)"
   ]
  },
  {
   "cell_type": "code",
   "execution_count": 4,
   "metadata": {},
   "outputs": [
    {
     "data": {
      "image/png": "[encoded data removed]",
      "text/plain": [
       "<Figure size 640x480 with 1 Axes>"
      ]
     },
     "metadata": {},
     "output_type": "display_data"
    }
   ],
   "source": [
    "# plot validation accuracy\n",
    "import matplotlib.pyplot as plt\n",
    "\n",
    "val_acc_noise = history_noise.history[\"val_accuracy\"]\n",
    "val_acc_zeros = history_zeros.history[\"val_accuracy\"]\n",
    "epochs = range(1, 11)\n",
    "\n",
    "plt.plot(epochs, val_acc_noise, \"b-\", label=\"Validation accuracy with noise channels\")\n",
    "plt.plot(epochs, val_acc_zeros, \"b--\", label=\"Validation accuracy with zeros channels\")\n",
    "plt.title(\"Effect of noise channels on validation accuracy\")\n",
    "plt.xlabel(\"Epochs\")\n",
    "plt.ylabel(\"Accuracy\")\n",
    "plt.legend()\n",
    "plt.show()"
   ]
  },
  {
   "cell_type": "markdown",
   "metadata": {},
   "source": [
    "### 5.1.2 딥러닝에서 일반화의 본질"
   ]
  },
  {
   "cell_type": "markdown",
   "metadata": {},
   "source": [
    "MNIST 레이블을 뒤섞은 후 훈련시켜도 훈련 손실이 잘 감소한다."
   ]
  },
  {
   "cell_type": "code",
   "execution_count": 5,
   "metadata": {},
   "outputs": [
    {
     "name": "stdout",
     "output_type": "stream",
     "text": [
      "Epoch 1/10\n",
      "375/375 [==============================] - 2s 5ms/step - loss: 2.3143 - accuracy: 0.1049 - val_loss: 2.3056 - val_accuracy: 0.1049\n",
      "Epoch 2/10\n",
      "375/375 [==============================] - 2s 5ms/step - loss: 2.2990 - accuracy: 0.1172 - val_loss: 2.3117 - val_accuracy: 0.1037\n",
      "Epoch 3/10\n",
      "375/375 [==============================] - 2s 5ms/step - loss: 2.2918 - accuracy: 0.1278 - val_loss: 2.3200 - val_accuracy: 0.1044\n",
      "Epoch 4/10\n",
      "375/375 [==============================] - 2s 5ms/step - loss: 2.2798 - accuracy: 0.1390 - val_loss: 2.3241 - val_accuracy: 0.1058\n",
      "Epoch 5/10\n",
      "375/375 [==============================] - 2s 5ms/step - loss: 2.2634 - accuracy: 0.1536 - val_loss: 2.3356 - val_accuracy: 0.1025\n",
      "Epoch 6/10\n",
      "375/375 [==============================] - 2s 5ms/step - loss: 2.2449 - accuracy: 0.1646 - val_loss: 2.3427 - val_accuracy: 0.1032\n",
      "Epoch 7/10\n",
      "375/375 [==============================] - 2s 5ms/step - loss: 2.2214 - accuracy: 0.1786 - val_loss: 2.3598 - val_accuracy: 0.1013\n",
      "Epoch 8/10\n",
      "375/375 [==============================] - 2s 5ms/step - loss: 2.1945 - accuracy: 0.1989 - val_loss: 2.3776 - val_accuracy: 0.1059\n",
      "Epoch 9/10\n",
      "375/375 [==============================] - 2s 5ms/step - loss: 2.1664 - accuracy: 0.2134 - val_loss: 2.3968 - val_accuracy: 0.1018\n",
      "Epoch 10/10\n",
      "375/375 [==============================] - 2s 5ms/step - loss: 2.1345 - accuracy: 0.2290 - val_loss: 2.4159 - val_accuracy: 0.0995\n"
     ]
    }
   ],
   "source": [
    "(train_images, train_labels), _ = mnist.load_data()\n",
    "train_images = train_images.reshape((60000, 28 * 28))\n",
    "train_images = train_images.astype(\"float32\") / 255\n",
    "\n",
    "random_train_labels = train_labels[:]\n",
    "np.random.shuffle(random_train_labels)\n",
    "\n",
    "model = get_model()\n",
    "history_noise = model.fit(\n",
    "    train_images,\n",
    "    random_train_labels,\n",
    "    epochs=10,\n",
    "    batch_size=128,\n",
    "    validation_split=0.2)"
   ]
  },
  {
   "cell_type": "markdown",
   "metadata": {},
   "source": [
    "**매니폴드 가설**"
   ]
  },
  {
   "cell_type": "markdown",
   "metadata": {},
   "source": [
    "임의의 두 숫자 사이에는 연속적인 중간 이미지가 있다.  \n",
    "기술적으로 이는 손글씨 숫자가 가능한 모든 28 * 28 uint8 배열로 이루어진 공간 안에서 **매니폴드**를 형성한다고 말한다.  \n",
    "**매니폴드 가설**은 실제 세상의 모든 데이터가 고차원 공간 안에 있는 저차원 매니폴드에 있다고 가정한다.  \n",
    "> - 머신 러닝 모델은 가능한 입력 공간 안에서 비교적 간단하고, 저차원이며, 매우 구조적인 부분 공간(잠재 매니폴드)만 학습하면 된다.\n",
    "> - 이런 매니폴드 중 하나 안에서 두 입력 사이를 보간하는 것이 항상 가능하다. 즉, 연속적인 경로를 따라 한 입력에서 다른 입력으로 변형할 때 모든 포인트가 이 매니폴드에 속한다."
   ]
  },
  {
   "cell_type": "markdown",
   "metadata": {},
   "source": [
    "**일반화의 원천인 보간**"
   ]
  },
  {
   "cell_type": "markdown",
   "metadata": {},
   "source": [
    "일반적으로 두 숫자를 평균하면 유효한 숫자가 되지 않는다.  \n",
    "잠재 매니폴드에서는 모든 포인트가 유효한 숫자가 된다.  \n",
    "**지역 일반화**: 학습된 데이터 매니폴드에서 보간을 통해 달성되는 일반화\n",
    "**궁극 일반화**: 추상화, 추론, 논리 등 이성이라는 인지 메커니즘으로 달성되는 일반화"
   ]
  },
  {
   "cell_type": "markdown",
   "metadata": {},
   "source": [
    "**딥러닝이 작동하는 이유**"
   ]
  },
  {
   "cell_type": "markdown",
   "metadata": {},
   "source": [
    "딥러닝의 본질은 크고 복잡한 곡선(매니폴드)을 선택하여 훈련 데이터 포인트에 맞을 때까지 파라미터를 점진적으로 조정하는 것에 있다.\n",
    "> - 딥러닝 모델은 입력에서부터 출력으로 매끄럽고 연속적인 매핑을 구현한다. 이런 매끄러움은 동일한 속성을 가진 잠재 매니폴드를 근사하는데 도움된다.\n",
    "> - 딥러닝 모델은 훈련 데이터에 있는 정보의 형태를 반영하는 식으로 구조화되는 경향이 있다. 일반적으로 심층 신경망은 학습한 표현을 계층적이고 모듈 방식으로 구조화하여 자연적인 데이터가 구성되는 방식이 반영되도록 한다."
   ]
  },
  {
   "cell_type": "markdown",
   "metadata": {},
   "source": [
    "**가장 중요한 훈련 데이터**"
   ]
  },
  {
   "cell_type": "markdown",
   "metadata": {},
   "source": [
    "딥러닝이 곡선을 잘 맞추기 위해서는 입력 공간을 조밀하게 샘플링하여 훈련해야 한다.  \n",
    "조밀한 훈련 데이터로 훈련 입력 사이를 보간하여 새로운 입력에 대한 이해가 원활할 수 있도록 대비한다.  \n",
    "따라서 딥러닝 모델을 향상시키는 가장 좋은 방법은 더 많은 질 좋은 데이터를 훈련하는 것이다.  \n",
    "데이터의 수집이 불가능하다면 눈에 띄는 패턴에 초점이 맞춰지는 과대적합을 막기 위해 **규제**를 추가한다."
   ]
  },
  {
   "cell_type": "markdown",
   "metadata": {},
   "source": [
    "## 5.2 머신 러닝 모델 평가"
   ]
  },
  {
   "cell_type": "markdown",
   "metadata": {},
   "source": [
    "### 5.2.1 훈련, 검증, 테스트 세트"
   ]
  },
  {
   "cell_type": "markdown",
   "metadata": {},
   "source": [
    "모델을 개발할 때 모델의 설정인 **하이퍼 파라미터**를 튜닝한다.  \n",
    "검증 세트에서 모델의 성능을 평가하고 이에 맞도록 하이퍼 파라미터를 튜닝한다면 검증 세트가 훈련에 참여하지 않았더라도 검증 세트에 과대적합 될 수 있다.  \n",
    "이런 현상을 방지하기 위해 오직 평가만을 위한 테스트 세트가 따로 필요하다.\n",
    "데이터의 수가 적을 때에는 다양한 방법으로 검증을 진행한다."
   ]
  },
  {
   "cell_type": "markdown",
   "metadata": {},
   "source": [
    "**단순 홀드아웃 검증**"
   ]
  },
  {
   "cell_type": "markdown",
   "metadata": {},
   "source": [
    "훈련할 데이터를 단순히 정해진 비율로 훈련 데이터와 검증 데이터로 나눈다."
   ]
  },
  {
   "cell_type": "markdown",
   "metadata": {},
   "source": [
    "**K-겹 교차 검증**"
   ]
  },
  {
   "cell_type": "markdown",
   "metadata": {},
   "source": [
    "데이터를 동일한 크기의 K개 분할로 나눈다.  \n",
    "각 분할 i에 대해 남은 K-1개의 분할로 모델을 훈련하고 분할 i로 모델을 평가한다.  \n",
    "최종 점수는 K개의 점수에 대한 평균이다.\n",
    "\n",
    "주로 데이터 분할에 따라 모델의 성능 차이가 클 때 사용된다."
   ]
  },
  {
   "cell_type": "markdown",
   "metadata": {},
   "source": [
    "**셔플링을 사용한 반복 K-겹 교차 검증**"
   ]
  },
  {
   "cell_type": "markdown",
   "metadata": {},
   "source": [
    "K-겹 교차 검증을 여러 번 적용하되 K개의 분할로 나누기 전에 매번 데이터를 무작위로 섞는다.  \n",
    "최종 점수는 모든 K-겹 교차 검증 결과 점수의 평균이다.  \n",
    "P(반복횟수) * K개의 모델을 훈련하고 평가하기 때문에 비용이 많이 든다.\n",
    "\n",
    "주로 가용 데이터가 적고 가능한 정확하게 모델을 평가하고자 할 때 사용한다."
   ]
  },
  {
   "cell_type": "markdown",
   "metadata": {},
   "source": [
    "### 5.2.2 상식 수준의 기준점 넘기"
   ]
  },
  {
   "cell_type": "markdown",
   "metadata": {},
   "source": [
    "모델의 정확도는 기존의 훈련 데이터의 분포에 대한 확률을 넘어서야 한다.  \n",
    "예로 MNIST 숫자 분류의 경우 0.1의 정확도보다는 높아야 할 것이다.  \n",
    "IMDB 예제의 경우 긍정, 부정만 구분하는 것이기에 0.5의 정확도보다는 높아야 할 것이다."
   ]
  },
  {
   "cell_type": "markdown",
   "metadata": {},
   "source": [
    "### 5.2.3 모델 평가에 대해 유념해야 할 점"
   ]
  },
  {
   "cell_type": "markdown",
   "metadata": {},
   "source": [
    "- **대표성 있는 데이터**: 훈련 세트와 테스트 세트가 주어진 데이터에 대한 대표성이 있어야 한다. 데이터의 분포가 훈련 세트와 테스트 세트에 골고루 분포될 수 있도록 준비해야 한다.\n",
    "- **시간의 방향**: 과거에서 미래를 예측하는 경우에는 시간의 흐름을 잃지 않도록 해야 한다. 모델의 테스트는 미래에 대해 이루어져야 하므로, 테스트 세트는 미래 데이터로 이루어져있어야 한다.\n",
    "- **데이터 중복**: 중복된 데이터를 분할하는 경우 검증 세트에 동일한 훈련 데이터가 들어갈 수 있다. 따라서 훈련 세트와 검증 세트가 중복되지 않도록 유의해야 한다."
   ]
  },
  {
   "cell_type": "markdown",
   "metadata": {},
   "source": [
    "## 5.3 훈련 성능 향상하기"
   ]
  },
  {
   "cell_type": "markdown",
   "metadata": {},
   "source": [
    "최적적합 모델을 찾기 위해서는 먼저 과대적합이 되고 그 경계를 찾을 수 있도록 해야한다.\n",
    "이 단계에서 일반적으로 발생하는 문제는 다음과 같다.\n",
    "- **훈련이 안 되는 경우**: 시간이 지나도 훈련 손실이 줄어들지 않는 경우\n",
    "- **훈련은 잘 시작되었지만 모델이 의미 있는 일반화를 달성하지 못하는 경우**: 상식 수준의 기준점을 넘어설 수 없는 경우\n",
    "- **시간이 지나도 훈련과 검증 손실이 모두 줄어들고 과대적합되지 않는 경우**: 여전히 과소적합 상태인 경우"
   ]
  },
  {
   "cell_type": "markdown",
   "metadata": {},
   "source": [
    "### 5.3.1 경사 하강법의 핵심 파라미터 튜닝하기기"
   ]
  },
  {
   "cell_type": "markdown",
   "metadata": {},
   "source": [
    "훈련이 시작되지 않거나 일찍 중단되는 경우는 하이퍼 파라미터에 문제일 수 있다.  \n",
    "일반적으로 학습률과 배치 크기를 튜닝하는 것만으로도 문제가 해결된다."
   ]
  },
  {
   "cell_type": "code",
   "execution_count": 6,
   "metadata": {},
   "outputs": [
    {
     "name": "stdout",
     "output_type": "stream",
     "text": [
      "Epoch 1/10\n",
      "375/375 [==============================] - 2s 5ms/step - loss: 694.2538 - accuracy: 0.3404 - val_loss: 2.3033 - val_accuracy: 0.1959\n",
      "Epoch 2/10\n",
      "375/375 [==============================] - 2s 5ms/step - loss: 2.8090 - accuracy: 0.2392 - val_loss: 2.2994 - val_accuracy: 0.2477\n",
      "Epoch 3/10\n",
      "375/375 [==============================] - 2s 5ms/step - loss: 2.5716 - accuracy: 0.2188 - val_loss: 2.0734 - val_accuracy: 0.2995\n",
      "Epoch 4/10\n",
      "375/375 [==============================] - 2s 5ms/step - loss: 2.4244 - accuracy: 0.2257 - val_loss: 2.3196 - val_accuracy: 0.1724\n",
      "Epoch 5/10\n",
      "375/375 [==============================] - 2s 5ms/step - loss: 2.4314 - accuracy: 0.2335 - val_loss: 2.8928 - val_accuracy: 0.3020\n",
      "Epoch 6/10\n",
      "375/375 [==============================] - 2s 5ms/step - loss: 2.4514 - accuracy: 0.2304 - val_loss: 2.0852 - val_accuracy: 0.2075\n",
      "Epoch 7/10\n",
      "375/375 [==============================] - 2s 5ms/step - loss: 2.5577 - accuracy: 0.2314 - val_loss: 2.1720 - val_accuracy: 0.2192\n",
      "Epoch 8/10\n",
      "375/375 [==============================] - 2s 5ms/step - loss: 2.2885 - accuracy: 0.2098 - val_loss: 2.2092 - val_accuracy: 0.1983\n",
      "Epoch 9/10\n",
      "375/375 [==============================] - 2s 4ms/step - loss: 2.3544 - accuracy: 0.2294 - val_loss: 2.4189 - val_accuracy: 0.2551\n",
      "Epoch 10/10\n",
      "375/375 [==============================] - 2s 5ms/step - loss: 2.2546 - accuracy: 0.2264 - val_loss: 2.1891 - val_accuracy: 0.2278\n"
     ]
    },
    {
     "data": {
      "text/plain": [
       "<keras.src.callbacks.History at 0x1a0ad8df210>"
      ]
     },
     "execution_count": 6,
     "metadata": {},
     "output_type": "execute_result"
    }
   ],
   "source": [
    "(train_images, train_labels), _ = mnist.load_data()\n",
    "train_images = train_images.reshape((60000, 28 * 28))\n",
    "train_images = train_images.astype(\"float32\") / 255\n",
    "\n",
    "model = keras.Sequential([\n",
    "    layers.Dense(512, activation=\"relu\"),\n",
    "    layers.Dense(10, activation=\"softmax\")\n",
    "])\n",
    "model.compile(optimizer=keras.optimizers.RMSprop(1.),\n",
    "              loss=\"sparse_categorical_crossentropy\",\n",
    "              metrics=[\"accuracy\"])\n",
    "model.fit(\n",
    "    train_images,\n",
    "    train_labels,\n",
    "    epochs=10,\n",
    "    batch_size=128,\n",
    "    validation_split=0.2)"
   ]
  },
  {
   "cell_type": "code",
   "execution_count": 7,
   "metadata": {},
   "outputs": [
    {
     "name": "stdout",
     "output_type": "stream",
     "text": [
      "Epoch 1/10\n",
      "375/375 [==============================] - 2s 5ms/step - loss: 0.3271 - accuracy: 0.9130 - val_loss: 0.1671 - val_accuracy: 0.9535\n",
      "Epoch 2/10\n",
      "375/375 [==============================] - 2s 5ms/step - loss: 0.1264 - accuracy: 0.9654 - val_loss: 0.2788 - val_accuracy: 0.9320\n",
      "Epoch 3/10\n",
      "375/375 [==============================] - 2s 5ms/step - loss: 0.0952 - accuracy: 0.9741 - val_loss: 0.1631 - val_accuracy: 0.9644\n",
      "Epoch 4/10\n",
      "375/375 [==============================] - 2s 5ms/step - loss: 0.0836 - accuracy: 0.9788 - val_loss: 0.1742 - val_accuracy: 0.9694\n",
      "Epoch 5/10\n",
      "375/375 [==============================] - 2s 5ms/step - loss: 0.0681 - accuracy: 0.9832 - val_loss: 0.2263 - val_accuracy: 0.9645\n",
      "Epoch 6/10\n",
      "375/375 [==============================] - 2s 5ms/step - loss: 0.0631 - accuracy: 0.9846 - val_loss: 0.2009 - val_accuracy: 0.9677\n",
      "Epoch 7/10\n",
      "375/375 [==============================] - 2s 5ms/step - loss: 0.0505 - accuracy: 0.9873 - val_loss: 0.2726 - val_accuracy: 0.9678\n",
      "Epoch 8/10\n",
      "375/375 [==============================] - 2s 5ms/step - loss: 0.0492 - accuracy: 0.9885 - val_loss: 0.2104 - val_accuracy: 0.9727\n",
      "Epoch 9/10\n",
      "375/375 [==============================] - 2s 5ms/step - loss: 0.0440 - accuracy: 0.9902 - val_loss: 0.2221 - val_accuracy: 0.9732\n",
      "Epoch 10/10\n",
      "375/375 [==============================] - 2s 5ms/step - loss: 0.0401 - accuracy: 0.9911 - val_loss: 0.2080 - val_accuracy: 0.9746\n"
     ]
    },
    {
     "data": {
      "text/plain": [
       "<keras.src.callbacks.History at 0x1a0adb32250>"
      ]
     },
     "execution_count": 7,
     "metadata": {},
     "output_type": "execute_result"
    }
   ],
   "source": [
    "(train_images, train_labels), _ = mnist.load_data()\n",
    "train_images = train_images.reshape((60000, 28 * 28))\n",
    "train_images = train_images.astype(\"float32\") / 255\n",
    "\n",
    "model = keras.Sequential([\n",
    "    layers.Dense(512, activation=\"relu\"),\n",
    "    layers.Dense(10, activation=\"softmax\")\n",
    "])\n",
    "model.compile(optimizer=keras.optimizers.RMSprop(1e-2),\n",
    "              loss=\"sparse_categorical_crossentropy\",\n",
    "              metrics=[\"accuracy\"])\n",
    "model.fit(\n",
    "    train_images,\n",
    "    train_labels,\n",
    "    epochs=10,\n",
    "    batch_size=128,\n",
    "    validation_split=0.2)"
   ]
  },
  {
   "cell_type": "markdown",
   "metadata": {},
   "source": [
    "- 학습률을 낮추거나 높인다. 학습률이 너무 높으면 최적적합을 뛰어넘어 발산할 수 있다. 학습률이 너무 낮으면 학습 속도가 느려져 멈춰보일 수 있다.\n",
    "- 배치 크기를 증가시킨다. 배치 샘플을 늘려 분산이 낮아지도록 만드는 것이 좋다."
   ]
  },
  {
   "cell_type": "markdown",
   "metadata": {},
   "source": [
    "### 5.3.2 구조에 대해 더 나은 가정하기"
   ]
  },
  {
   "cell_type": "markdown",
   "metadata": {},
   "source": [
    "모델이 훈련되어도 검증지표가 나아지지 않을 수 있다.  \n",
    "이유 중 하나는 단순히 입력 데이터에 타깃 예측을 위한 정보가 충분치 않아서이다.  \n",
    "다른 하나는 사용하는 모델의 종류가 문제에 적합하지 않아서이다.  \n",
    "이미지, 텍스트, 시계열 등 다양한 데이터 종류에 알맞는 모델 구조를 알아야 한다."
   ]
  },
  {
   "cell_type": "markdown",
   "metadata": {},
   "source": [
    "### 5.3.3 모델 용량 늘리기"
   ]
  },
  {
   "cell_type": "markdown",
   "metadata": {},
   "source": [
    "검증 지표가 향상된 후에는 모델을 과대적합 시켜야한다."
   ]
  },
  {
   "cell_type": "code",
   "execution_count": 8,
   "metadata": {},
   "outputs": [
    {
     "name": "stdout",
     "output_type": "stream",
     "text": [
      "Epoch 1/20\n",
      "375/375 [==============================] - 1s 2ms/step - loss: 0.6555 - accuracy: 0.8408 - val_loss: 0.3589 - val_accuracy: 0.9021\n",
      "Epoch 2/20\n",
      "375/375 [==============================] - 0s 1ms/step - loss: 0.3528 - accuracy: 0.9025 - val_loss: 0.3090 - val_accuracy: 0.9139\n",
      "Epoch 3/20\n",
      "375/375 [==============================] - 0s 1ms/step - loss: 0.3178 - accuracy: 0.9115 - val_loss: 0.2925 - val_accuracy: 0.9186\n",
      "Epoch 4/20\n",
      "375/375 [==============================] - 0s 1ms/step - loss: 0.3020 - accuracy: 0.9155 - val_loss: 0.2856 - val_accuracy: 0.9200\n",
      "Epoch 5/20\n",
      "375/375 [==============================] - 0s 1ms/step - loss: 0.2922 - accuracy: 0.9179 - val_loss: 0.2800 - val_accuracy: 0.9222\n",
      "Epoch 6/20\n",
      "375/375 [==============================] - 0s 1ms/step - loss: 0.2858 - accuracy: 0.9202 - val_loss: 0.2732 - val_accuracy: 0.9244\n",
      "Epoch 7/20\n",
      "375/375 [==============================] - 0s 1ms/step - loss: 0.2810 - accuracy: 0.9211 - val_loss: 0.2713 - val_accuracy: 0.9260\n",
      "Epoch 8/20\n",
      "375/375 [==============================] - 0s 1ms/step - loss: 0.2768 - accuracy: 0.9226 - val_loss: 0.2699 - val_accuracy: 0.9260\n",
      "Epoch 9/20\n",
      "375/375 [==============================] - 0s 1ms/step - loss: 0.2735 - accuracy: 0.9242 - val_loss: 0.2691 - val_accuracy: 0.9264\n",
      "Epoch 10/20\n",
      "375/375 [==============================] - 0s 1ms/step - loss: 0.2712 - accuracy: 0.9251 - val_loss: 0.2664 - val_accuracy: 0.9269\n",
      "Epoch 11/20\n",
      "375/375 [==============================] - 0s 1ms/step - loss: 0.2689 - accuracy: 0.9256 - val_loss: 0.2651 - val_accuracy: 0.9282\n",
      "Epoch 12/20\n",
      "375/375 [==============================] - 0s 1ms/step - loss: 0.2666 - accuracy: 0.9265 - val_loss: 0.2656 - val_accuracy: 0.9276\n",
      "Epoch 13/20\n",
      "375/375 [==============================] - 0s 1ms/step - loss: 0.2648 - accuracy: 0.9272 - val_loss: 0.2659 - val_accuracy: 0.9277\n",
      "Epoch 14/20\n",
      "375/375 [==============================] - 0s 1ms/step - loss: 0.2633 - accuracy: 0.9280 - val_loss: 0.2641 - val_accuracy: 0.9282\n",
      "Epoch 15/20\n",
      "375/375 [==============================] - 0s 1ms/step - loss: 0.2621 - accuracy: 0.9275 - val_loss: 0.2638 - val_accuracy: 0.9289\n",
      "Epoch 16/20\n",
      "375/375 [==============================] - 0s 1ms/step - loss: 0.2605 - accuracy: 0.9286 - val_loss: 0.2635 - val_accuracy: 0.9284\n",
      "Epoch 17/20\n",
      "375/375 [==============================] - 0s 1ms/step - loss: 0.2593 - accuracy: 0.9286 - val_loss: 0.2646 - val_accuracy: 0.9283\n",
      "Epoch 18/20\n",
      "375/375 [==============================] - 0s 1ms/step - loss: 0.2581 - accuracy: 0.9290 - val_loss: 0.2627 - val_accuracy: 0.9296\n",
      "Epoch 19/20\n",
      "375/375 [==============================] - 0s 1ms/step - loss: 0.2574 - accuracy: 0.9295 - val_loss: 0.2633 - val_accuracy: 0.9312\n",
      "Epoch 20/20\n",
      "375/375 [==============================] - 0s 1ms/step - loss: 0.2565 - accuracy: 0.9300 - val_loss: 0.2616 - val_accuracy: 0.9308\n"
     ]
    }
   ],
   "source": [
    "# small logistic regression model with MNIST\n",
    "model = keras.Sequential([layers.Dense(10, activation=\"softmax\")])\n",
    "model.compile(optimizer=\"rmsprop\",\n",
    "              loss=\"sparse_categorical_crossentropy\",\n",
    "              metrics=[\"accuracy\"])\n",
    "history_small_model = model.fit(\n",
    "    train_images,\n",
    "    train_labels,\n",
    "    epochs=20,\n",
    "    batch_size=128,\n",
    "    validation_split=0.2)"
   ]
  },
  {
   "cell_type": "code",
   "execution_count": 10,
   "metadata": {},
   "outputs": [
    {
     "data": {
      "image/png": "[encoded data removed]",
      "text/plain": [
       "<Figure size 640x480 with 1 Axes>"
      ]
     },
     "metadata": {},
     "output_type": "display_data"
    }
   ],
   "source": [
    "# plot validation loss\n",
    "val_loss = history_small_model.history[\"val_loss\"]\n",
    "epochs = range(1, 21)\n",
    "\n",
    "plt.plot(epochs, val_loss, \"b--\", label=\"Validation loss\")\n",
    "plt.title(\"Effect of insufficient model capacity on validation loss\")\n",
    "plt.xlabel(\"Epochs\")\n",
    "plt.ylabel(\"Loss\")\n",
    "plt.legend()\n",
    "plt.show()"
   ]
  },
  {
   "cell_type": "markdown",
   "metadata": {},
   "source": [
    "모델이 과대적합할 수 없는 것처럼 보인다면 용량이 더 큰 모델로 표현하여야 한다.  \n",
    "층의 수를 늘리거나, 층의 크기를 늘리거나, 현 문제에 더 적합한 층을 추가하거나 해야 한다."
   ]
  },
  {
   "cell_type": "code",
   "execution_count": 11,
   "metadata": {},
   "outputs": [
    {
     "name": "stdout",
     "output_type": "stream",
     "text": [
      "Epoch 1/20\n",
      "375/375 [==============================] - 1s 2ms/step - loss: 0.3705 - accuracy: 0.8941 - val_loss: 0.2151 - val_accuracy: 0.9363\n",
      "Epoch 2/20\n",
      "375/375 [==============================] - 1s 2ms/step - loss: 0.1685 - accuracy: 0.9509 - val_loss: 0.1332 - val_accuracy: 0.9609\n",
      "Epoch 3/20\n",
      "375/375 [==============================] - 1s 2ms/step - loss: 0.1197 - accuracy: 0.9649 - val_loss: 0.1253 - val_accuracy: 0.9620\n",
      "Epoch 4/20\n",
      "375/375 [==============================] - 1s 2ms/step - loss: 0.0913 - accuracy: 0.9732 - val_loss: 0.1006 - val_accuracy: 0.9694\n",
      "Epoch 5/20\n",
      "375/375 [==============================] - 1s 2ms/step - loss: 0.0723 - accuracy: 0.9786 - val_loss: 0.0931 - val_accuracy: 0.9728\n",
      "Epoch 6/20\n",
      "375/375 [==============================] - 1s 2ms/step - loss: 0.0594 - accuracy: 0.9817 - val_loss: 0.1028 - val_accuracy: 0.9700\n",
      "Epoch 7/20\n",
      "375/375 [==============================] - 1s 2ms/step - loss: 0.0490 - accuracy: 0.9853 - val_loss: 0.0933 - val_accuracy: 0.9731\n",
      "Epoch 8/20\n",
      "375/375 [==============================] - 1s 2ms/step - loss: 0.0406 - accuracy: 0.9880 - val_loss: 0.0940 - val_accuracy: 0.9737\n",
      "Epoch 9/20\n",
      "375/375 [==============================] - 1s 2ms/step - loss: 0.0339 - accuracy: 0.9899 - val_loss: 0.0977 - val_accuracy: 0.9736\n",
      "Epoch 10/20\n",
      "375/375 [==============================] - 1s 2ms/step - loss: 0.0288 - accuracy: 0.9912 - val_loss: 0.0938 - val_accuracy: 0.9749\n",
      "Epoch 11/20\n",
      "375/375 [==============================] - 1s 2ms/step - loss: 0.0238 - accuracy: 0.9925 - val_loss: 0.1031 - val_accuracy: 0.9752\n",
      "Epoch 12/20\n",
      "375/375 [==============================] - 1s 2ms/step - loss: 0.0210 - accuracy: 0.9936 - val_loss: 0.0976 - val_accuracy: 0.9753\n",
      "Epoch 13/20\n",
      "375/375 [==============================] - 1s 2ms/step - loss: 0.0167 - accuracy: 0.9946 - val_loss: 0.1010 - val_accuracy: 0.9756\n",
      "Epoch 14/20\n",
      "375/375 [==============================] - 1s 2ms/step - loss: 0.0148 - accuracy: 0.9952 - val_loss: 0.1146 - val_accuracy: 0.9737\n",
      "Epoch 15/20\n",
      "375/375 [==============================] - 1s 2ms/step - loss: 0.0127 - accuracy: 0.9961 - val_loss: 0.1102 - val_accuracy: 0.9740\n",
      "Epoch 16/20\n",
      "375/375 [==============================] - 1s 2ms/step - loss: 0.0100 - accuracy: 0.9972 - val_loss: 0.1164 - val_accuracy: 0.9754\n",
      "Epoch 17/20\n",
      "375/375 [==============================] - 1s 2ms/step - loss: 0.0088 - accuracy: 0.9973 - val_loss: 0.1112 - val_accuracy: 0.9764\n",
      "Epoch 18/20\n",
      "375/375 [==============================] - 1s 2ms/step - loss: 0.0078 - accuracy: 0.9975 - val_loss: 0.1165 - val_accuracy: 0.9773\n",
      "Epoch 19/20\n",
      "375/375 [==============================] - 1s 2ms/step - loss: 0.0068 - accuracy: 0.9980 - val_loss: 0.1148 - val_accuracy: 0.9781\n",
      "Epoch 20/20\n",
      "375/375 [==============================] - 1s 2ms/step - loss: 0.0057 - accuracy: 0.9982 - val_loss: 0.1268 - val_accuracy: 0.9749\n"
     ]
    }
   ],
   "source": [
    "# large logistic regression model with MNIST\n",
    "model = keras.Sequential([\n",
    "    layers.Dense(96, activation=\"relu\"),\n",
    "    layers.Dense(96, activation=\"relu\"),\n",
    "    layers.Dense(10, activation=\"softmax\")\n",
    "])\n",
    "model.compile(optimizer=\"rmsprop\",\n",
    "              loss=\"sparse_categorical_crossentropy\",\n",
    "              metrics=[\"accuracy\"])\n",
    "history_large_model = model.fit(\n",
    "    train_images,\n",
    "    train_labels,\n",
    "    epochs=20,\n",
    "    batch_size=128,\n",
    "    validation_split=0.2)"
   ]
  },
  {
   "cell_type": "code",
   "execution_count": 12,
   "metadata": {},
   "outputs": [
    {
     "data": {
      "image/png": "[encoded data removed]",
      "text/plain": [
       "<Figure size 640x480 with 1 Axes>"
      ]
     },
     "metadata": {},
     "output_type": "display_data"
    }
   ],
   "source": [
    "# plot validation loss\n",
    "val_loss = history_large_model.history[\"val_loss\"]\n",
    "epochs = range(1, 21)\n",
    "\n",
    "plt.plot(epochs, val_loss, \"b--\", label=\"Validation loss\")\n",
    "plt.title(\"Effect of insufficient model capacity on validation loss\")\n",
    "plt.xlabel(\"Epochs\")\n",
    "plt.ylabel(\"Loss\")\n",
    "plt.legend()\n",
    "plt.show()"
   ]
  },
  {
   "cell_type": "code",
   "execution_count": null,
   "metadata": {},
   "outputs": [],
   "source": [
    "import tensorflow as tf\n",
    "class my_model(tf.keras.Model):\n",
    "    def __init__(self, dim):\n",
    "        super(my_model, self).__init__()\n",
    "        self.Base = tf.keras.applications.VGG16(\n",
    "        input_shape=(dim),\n",
    "        include_top = False,\n",
    "        weights = 'imagenet'\n",
    "        )\n",
    "        self.GAP = tf.keras.layers.GlobalAveragePooling2D()\n",
    "        self.BAT = tf.keras.layers.BatchNormalization()\n",
    "        self.DROP = tf.keras.layers.Dropout(rate=0.1)\n",
    "        self.DENS = tf.keras.layers.Dense(256, activation='relu', name = 'dense_A')\n",
    "        self.OUT = tf.keras.layers.Dense(1, activation='sigmoid')\n",
    "\n",
    "    def call(self, inputs):\n",
    "        x = self.Base(inputs)\n",
    "        g = self.GAP(x)\n",
    "        b = self.BAT(g)\n",
    "        d = self.DROP(b)\n",
    "        d = self.DENS(d)\n",
    "\n",
    "        return self.OUT(d)\n",
    "\n",
    "    # AFAIK: The most convenient method to print model.summary()\n",
    "    # similar to the sequential or functional API like.\n",
    "    def build_graph(self):\n",
    "        x = tf.keras.layers.Input(shape=(dim))\n",
    "        return tf.keras.Model(inputs=[x], outputs=self.call(x))\n",
    "\n",
    "dim = (124,124,3)\n",
    "model = my_model((dim))\n",
    "model.build((None, *dim))\n",
    "model.build_graph().summary()\n",
    "# Just showing all possible argument for newcomer.\n",
    "tf.keras.utils.plot_model(\n",
    "model.build_graph(), # here is the trick (for now)\n",
    "to_file='model.png', dpi=96, # saving\n",
    "show_shapes=True, show_layer_names=True, # show shapes and layer name\n",
    "expand_nested=False # will show nested block\n",
    ")"
   ]
  }
 ],
 "metadata": {
  "kernelspec": {
   "display_name": "Python 3",
   "language": "python",
   "name": "python3"
  },
  "language_info": {
   "codemirror_mode": {
    "name": "ipython",
    "version": 3
   },
   "file_extension": ".py",
   "mimetype": "text/x-python",
   "name": "python",
   "nbconvert_exporter": "python",
   "pygments_lexer": "ipython3",
   "version": "3.11.4"
  },
  "orig_nbformat": 4
 },
 "nbformat": 4,
 "nbformat_minor": 2
}
