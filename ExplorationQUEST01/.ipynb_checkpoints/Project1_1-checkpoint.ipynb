{
 "cells": [
  {
   "cell_type": "markdown",
   "id": "5f0afe2d",
   "metadata": {},
   "source": [
    "# Project 1.1 - 당뇨병 수치 맞추기"
   ]
  },
  {
   "cell_type": "code",
   "execution_count": 25,
   "id": "febb9eb0",
   "metadata": {},
   "outputs": [],
   "source": [
    "import numpy as np\n",
    "import pandas as pd\n",
    "import matplotlib.pyplot as plt"
   ]
  },
  {
   "cell_type": "markdown",
   "id": "6b35d76c",
   "metadata": {},
   "source": [
    "### (1) 데이터 가져오기"
   ]
  },
  {
   "cell_type": "code",
   "execution_count": 26,
   "id": "39ace838",
   "metadata": {},
   "outputs": [],
   "source": [
    "from sklearn.datasets import load_diabetes\n",
    "diabetes = load_diabetes()"
   ]
  },
  {
   "cell_type": "markdown",
   "id": "1abbd890",
   "metadata": {},
   "source": [
    "### (2) 모델에 입력할 데이터 X, 예측할 데이터 y 준비하기"
   ]
  },
  {
   "cell_type": "code",
   "execution_count": 27,
   "id": "771ee06f",
   "metadata": {},
   "outputs": [],
   "source": [
    "# data와 target은 이미 ndarray로 되어있다.\n",
    "df_X = diabetes.data\n",
    "df_y = diabetes.target"
   ]
  },
  {
   "cell_type": "markdown",
   "id": "910b7075",
   "metadata": {},
   "source": [
    "### (3) train 데이터와 test 데이터로 분리하기"
   ]
  },
  {
   "cell_type": "code",
   "execution_count": 28,
   "id": "149d3b26",
   "metadata": {},
   "outputs": [],
   "source": [
    "from sklearn.model_selection import train_test_split\n",
    "X_train, X_test, y_train, y_test = train_test_split(df_X, df_y, test_size=0.2, random_state=52)"
   ]
  },
  {
   "cell_type": "markdown",
   "id": "c41b9d64",
   "metadata": {},
   "source": [
    "### (4) 모델 준비하기"
   ]
  },
  {
   "cell_type": "code",
   "execution_count": 29,
   "id": "01dcbb3f",
   "metadata": {},
   "outputs": [],
   "source": [
    "W = np.random.rand(df_X.shape[1])\n",
    "b = np.random.rand()"
   ]
  },
  {
   "cell_type": "code",
   "execution_count": 30,
   "id": "2c519413",
   "metadata": {},
   "outputs": [],
   "source": [
    "def model(X, W, b):\n",
    "    y_pred = (X * W).sum(axis=1) + b\n",
    "    return y_pred"
   ]
  },
  {
   "cell_type": "markdown",
   "id": "bdd55a06",
   "metadata": {},
   "source": [
    "### (5) 손실함수 loss 정의하기"
   ]
  },
  {
   "cell_type": "code",
   "execution_count": 31,
   "id": "29258534",
   "metadata": {},
   "outputs": [],
   "source": [
    "def MSE(a, b):\n",
    "    mse = ((a - b) ** 2).mean()\n",
    "    return mse"
   ]
  },
  {
   "cell_type": "code",
   "execution_count": 32,
   "id": "6aee36e1",
   "metadata": {},
   "outputs": [],
   "source": [
    "def loss(X, W, b, y):\n",
    "    y_pred = model(X, W, b)\n",
    "    L = MSE(y_pred, y)\n",
    "    return L"
   ]
  },
  {
   "cell_type": "markdown",
   "id": "0719469f",
   "metadata": {},
   "source": [
    "### (6) 기울기를 구하는 gradient 함수 구현하기"
   ]
  },
  {
   "cell_type": "code",
   "execution_count": 33,
   "id": "49bfc1d7",
   "metadata": {},
   "outputs": [],
   "source": [
    "def gradient(X, W, b, y):\n",
    "    N = len(y)\n",
    "    y_pred = model(X, W, b)\n",
    "    dW = 1/N * 2 * X.T.dot(y_pred - y)\n",
    "    db = 1/N * 2 * (y_pred - y).sum()\n",
    "    return dW, db"
   ]
  },
  {
   "cell_type": "markdown",
   "id": "bf1b1ddc",
   "metadata": {},
   "source": [
    "### (7) 하이퍼 파라미터인 learning rate 설정하기"
   ]
  },
  {
   "cell_type": "code",
   "execution_count": 34,
   "id": "feea1063",
   "metadata": {},
   "outputs": [],
   "source": [
    "learning_rate = 0.1"
   ]
  },
  {
   "cell_type": "markdown",
   "id": "75af2fbc",
   "metadata": {},
   "source": [
    "### (8) 모델 학습하기"
   ]
  },
  {
   "cell_type": "code",
   "execution_count": 35,
   "id": "05de6f0f",
   "metadata": {},
   "outputs": [
    {
     "name": "stdout",
     "output_type": "stream",
     "text": [
      "Iteration 100 : Loss 5240.8207\n",
      "Iteration 200 : Loss 4749.7634\n",
      "Iteration 300 : Loss 4387.9176\n",
      "Iteration 400 : Loss 4117.9664\n",
      "Iteration 500 : Loss 3913.7216\n",
      "Iteration 600 : Loss 3756.7689\n",
      "Iteration 700 : Loss 3634.1282\n",
      "Iteration 800 : Loss 3536.6213\n",
      "Iteration 900 : Loss 3457.7332\n",
      "Iteration 1000 : Loss 3392.8165\n",
      "Iteration 1100 : Loss 3338.5366\n",
      "Iteration 1200 : Loss 3292.4831\n",
      "Iteration 1300 : Loss 3252.8989\n",
      "Iteration 1400 : Loss 3218.4893\n",
      "Iteration 1500 : Loss 3188.2894\n",
      "Iteration 1600 : Loss 3161.5701\n",
      "Iteration 1700 : Loss 3137.7722\n",
      "Iteration 1800 : Loss 3116.4600\n",
      "Iteration 1900 : Loss 3097.2885\n",
      "Iteration 2000 : Loss 3079.9798\n",
      "Iteration 2100 : Loss 3064.3063\n",
      "Iteration 2200 : Loss 3050.0788\n",
      "Iteration 2300 : Loss 3037.1380\n",
      "Iteration 2400 : Loss 3025.3478\n",
      "Iteration 2500 : Loss 3014.5905\n",
      "Iteration 2600 : Loss 3004.7638\n",
      "Iteration 2700 : Loss 2995.7777\n",
      "Iteration 2800 : Loss 2987.5527\n",
      "Iteration 2900 : Loss 2980.0181\n",
      "Iteration 3000 : Loss 2973.1106\n",
      "Iteration 3100 : Loss 2966.7735\n",
      "Iteration 3200 : Loss 2960.9560\n",
      "Iteration 3300 : Loss 2955.6121\n",
      "Iteration 3400 : Loss 2950.7002\n",
      "Iteration 3500 : Loss 2946.1828\n",
      "Iteration 3600 : Loss 2942.0259\n",
      "Iteration 3700 : Loss 2938.1986\n",
      "Iteration 3800 : Loss 2934.6728\n",
      "Iteration 3900 : Loss 2931.4229\n",
      "Iteration 4000 : Loss 2928.4258\n",
      "Iteration 4100 : Loss 2925.6603\n",
      "Iteration 4200 : Loss 2923.1071\n",
      "Iteration 4300 : Loss 2920.7486\n",
      "Iteration 4400 : Loss 2918.5689\n",
      "Iteration 4500 : Loss 2916.5533\n",
      "Iteration 4600 : Loss 2914.6884\n",
      "Iteration 4700 : Loss 2912.9620\n",
      "Iteration 4800 : Loss 2911.3629\n",
      "Iteration 4900 : Loss 2909.8809\n",
      "Iteration 5000 : Loss 2908.5067\n",
      "Iteration 5100 : Loss 2907.2316\n",
      "Iteration 5200 : Loss 2906.0480\n",
      "Iteration 5300 : Loss 2904.9485\n",
      "Iteration 5400 : Loss 2903.9266\n",
      "Iteration 5500 : Loss 2902.9763\n",
      "Iteration 5600 : Loss 2902.0920\n",
      "Iteration 5700 : Loss 2901.2687\n",
      "Iteration 5800 : Loss 2900.5016\n",
      "Iteration 5900 : Loss 2899.7866\n",
      "Iteration 6000 : Loss 2899.1196\n",
      "Iteration 6100 : Loss 2898.4970\n",
      "Iteration 6200 : Loss 2897.9156\n",
      "Iteration 6300 : Loss 2897.3722\n",
      "Iteration 6400 : Loss 2896.8640\n",
      "Iteration 6500 : Loss 2896.3885\n",
      "Iteration 6600 : Loss 2895.9433\n",
      "Iteration 6700 : Loss 2895.5260\n",
      "Iteration 6800 : Loss 2895.1349\n",
      "Iteration 6900 : Loss 2894.7678\n",
      "Iteration 7000 : Loss 2894.4232\n",
      "Iteration 7100 : Loss 2894.0994\n",
      "Iteration 7200 : Loss 2893.7950\n",
      "Iteration 7300 : Loss 2893.5086\n",
      "Iteration 7400 : Loss 2893.2390\n",
      "Iteration 7500 : Loss 2892.9849\n",
      "Iteration 7600 : Loss 2892.7454\n",
      "Iteration 7700 : Loss 2892.5194\n",
      "Iteration 7800 : Loss 2892.3060\n",
      "Iteration 7900 : Loss 2892.1044\n",
      "Iteration 8000 : Loss 2891.9137\n",
      "Iteration 8100 : Loss 2891.7333\n",
      "Iteration 8200 : Loss 2891.5625\n",
      "Iteration 8300 : Loss 2891.4006\n",
      "Iteration 8400 : Loss 2891.2471\n",
      "Iteration 8500 : Loss 2891.1014\n",
      "Iteration 8600 : Loss 2890.9630\n",
      "Iteration 8700 : Loss 2890.8315\n",
      "Iteration 8800 : Loss 2890.7064\n",
      "Iteration 8900 : Loss 2890.5873\n",
      "Iteration 9000 : Loss 2890.4739\n",
      "Iteration 9100 : Loss 2890.3657\n",
      "Iteration 9200 : Loss 2890.2625\n",
      "Iteration 9300 : Loss 2890.1640\n",
      "Iteration 9400 : Loss 2890.0699\n",
      "Iteration 9500 : Loss 2889.9799\n",
      "Iteration 9600 : Loss 2889.8937\n",
      "Iteration 9700 : Loss 2889.8112\n",
      "Iteration 9800 : Loss 2889.7322\n",
      "Iteration 9900 : Loss 2889.6564\n",
      "Iteration 10000 : Loss 2889.5836\n"
     ]
    }
   ],
   "source": [
    "losses = []\n",
    "iteration = 10000\n",
    "\n",
    "for i in range(1, iteration + 1):\n",
    "    dW, db = gradient(X_train, W, b, y_train)\n",
    "    W -= learning_rate * dW\n",
    "    b -= learning_rate * db\n",
    "    L = loss(X_train, W, b, y_train)\n",
    "    losses.append(L)\n",
    "    \n",
    "    if i % 100 == 0:\n",
    "        print('Iteration %d : Loss %0.4f' % (i, L))"
   ]
  },
  {
   "cell_type": "code",
   "execution_count": 36,
   "id": "9c68ed0f",
   "metadata": {},
   "outputs": [
    {
     "data": {
      "text/plain": [
       "[<matplotlib.lines.Line2D at 0x7f38c4008eb0>]"
      ]
     },
     "execution_count": 36,
     "metadata": {},
     "output_type": "execute_result"
    },
    {
     "data": {
      "image/png": "[encoded data removed]",
      "text/plain": [
       "<Figure size 432x288 with 1 Axes>"
      ]
     },
     "metadata": {
      "needs_background": "light"
     },
     "output_type": "display_data"
    }
   ],
   "source": [
    "plt.plot(losses)"
   ]
  },
  {
   "cell_type": "markdown",
   "id": "fc74175e",
   "metadata": {},
   "source": [
    "### (9) test 데이터에 대한 성능 확인하기"
   ]
  },
  {
   "cell_type": "code",
   "execution_count": 37,
   "id": "689caa64",
   "metadata": {},
   "outputs": [
    {
     "name": "stdout",
     "output_type": "stream",
     "text": [
      "2904.020266664164\n"
     ]
    }
   ],
   "source": [
    "prediction = model(X_test, W, b)\n",
    "print(loss(X_test, W, b, y_test))"
   ]
  },
  {
   "cell_type": "markdown",
   "id": "c4ebc865",
   "metadata": {},
   "source": [
    "### (10) 정답 데이터와 예측한 데이터 시각화하기"
   ]
  },
  {
   "cell_type": "code",
   "execution_count": 38,
   "id": "81d2e078",
   "metadata": {},
   "outputs": [
    {
     "data": {
      "image/png": "[encoded data removed]",
      "text/plain": [
       "<Figure size 432x288 with 1 Axes>"
      ]
     },
     "metadata": {
      "needs_background": "light"
     },
     "output_type": "display_data"
    }
   ],
   "source": [
    "plt.scatter(X_test[:,0], y_test)\n",
    "plt.scatter(X_test[:,0], prediction)\n",
    "plt.show()"
   ]
  }
 ],
 "metadata": {
  "kernelspec": {
   "display_name": "Python 3 (ipykernel)",
   "language": "python",
   "name": "python3"
  },
  "language_info": {
   "codemirror_mode": {
    "name": "ipython",
    "version": 3
   },
   "file_extension": ".py",
   "mimetype": "text/x-python",
   "name": "python",
   "nbconvert_exporter": "python",
   "pygments_lexer": "ipython3",
   "version": "3.9.7"
  }
 },
 "nbformat": 4,
 "nbformat_minor": 5
}
